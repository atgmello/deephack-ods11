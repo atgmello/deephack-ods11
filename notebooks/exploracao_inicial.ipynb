{
 "cells": [
  {
   "cell_type": "markdown",
   "metadata": {},
   "source": [
    "# DeepHack 2019\n",
    "\n",
    "“Identificando os Objetivos de Desenvolvimento Sustentável (ODS), da Agenda 2030, da ONU a partir de dados do TCE-SP”\n",
    "\n",
    "## Descrição\n",
    "\n",
    "O TCE-SP possui o Observatório do Futuro, núcleo responsável por fomentar a adoção e acompanhamento dos 17 ODS da ONU no estado e seus municípios. Em 2018, o Observatório publicou o seu primeiro relatório, relacionado ao objetivo 4 (Educação de Qualidade). No DeepHack, o desafio será ajudar o TCE com as análises dos objetivos 6 (Água Potável e Saneamento), 11 (Cidades e Comunidades Sustentáveis) e 12 (Consumo e Produção Responsável).\n",
    "\n",
    "(https://uclab.xyz/deephack-facebook)\n",
    "\n",
    "## Objetivos\n",
    "\n",
    "Agregar dados de diferentes bases e avaliar o desempenho do estado de São Paulo e seus municípios com relação às metas estabelecidas no ODS.\n",
    "\n",
    "Apresentar os resultados obtidos de uma forma amigável para o usuário.\n",
    "\n",
    "## Critérios\n",
    "\n",
    "### Criatividade\n",
    "\n",
    "É uma solução original?\n",
    "Repensa, de forma diferente, algo que já existe?\n",
    "\n",
    "### Design\n",
    "\n",
    "A solução possui uma boa interface?\n",
    "Tem uma boa experiência de usuário (UX)?\n",
    "\n",
    "### Impacto\n",
    "\n",
    "A ideia é escalável?\n",
    "Pode ser aplicada mundo real?\n",
    "\n",
    "### Funcionamento\n",
    "\n",
    "A aplicação pode ser usada num exemplo bem definido?\n",
    "Foi apresentado algum caso de uso?\n",
    "\n",
    "## Grupo\n",
    "\n",
    "* André Mello\n",
    "* Gustavo Estrela\n",
    "* Objetivo: 11"
   ]
  },
  {
   "cell_type": "markdown",
   "metadata": {},
   "source": [
    "# Objetivo 11 - Tornar as cidades e os assentamentos humanos inclusivos, seguros, resilientes e sustentáveis\n",
    "\n",
    "11.1 Até 2030, garantir o acesso de todos à habitação segura, adequada e a preço acessível, e aos serviços básicos e urbanizar as favelas\n",
    "\n",
    "11.2 Até 2030, proporcionar o acesso a sistemas de transporte seguros, acessíveis, sustentáveis e a preço acessível para todos, melhorando a segurança rodoviária por meio da expansão dos transportes públicos, com especial atenção para as necessidades das pessoas em situação de vulnerabilidade, mulheres, crianças, pessoas com deficiência e idosos\n",
    "\n",
    "11.3 Até 2030, aumentar a urbanização inclusiva e sustentável, e as capacidades para o planejamento e gestão de assentamentos humanos participativos, integrados e sustentáveis, em todos os países\n",
    "\n",
    "11.4 Fortalecer esforços para proteger e salvaguardar o patrimônio cultural e natural do mundo\n",
    "\n",
    "11.5 Até 2030, reduzir significativamente o número de mortes e o número de pessoas afetadas por catástrofes e substancialmente diminuir as perdas econômicas diretas causadas por elas em relação ao produto interno bruto global, incluindo os desastres relacionados à água, com o foco em proteger os pobres e as pessoas em situação de vulnerabilidade\n",
    "\n",
    "11.6 Até 2030, reduzir o impacto ambiental negativo per capita das cidades, inclusive prestando especial atenção à qualidade do ar, gestão de resíduos municipais e outros\n",
    "\n",
    "11.7 Até 2030, proporcionar o acesso universal a espaços públicos seguros, inclusivos, acessíveis e verdes, particularmente para as mulheres e crianças, pessoas idosas e pessoas com deficiência\n",
    "\n",
    "11.a Apoiar relações econômicas, sociais e ambientais positivas entre áreas urbanas, periurbanas e rurais, reforçando o planejamento nacional e regional de desenvolvimento\n",
    "\n",
    "11.b Até 2020, aumentar substancialmente o número de cidades e assentamentos humanos adotando e implementando políticas e planos integrados para a inclusão, a eficiência dos recursos, mitigação e adaptação às mudanças climáticas, a resiliência a desastres; e desenvolver e implementar, de acordo com o Marco de Sendai para a Redução do Risco de Desastres 2015-2030, o gerenciamento holístico do risco de desastres em todos os níveis\n",
    "\n",
    "11.c Apoiar os países menos desenvolvidos, inclusive por meio de assistência técnica e financeira, para construções sustentáveis e resilientes, utilizando materiais locais\n",
    "\n",
    "(https://nacoesunidas.org/pos2015/ods11/)\n",
    "\n",
    "## Resumo\n",
    "\n",
    "Cidades mais inclusivas, seguras, sustentáveis e resilientes a desastres ou a eventos incomuns são as metas deste objetivo, conhecido como ODS das cidades. Por isso, um primeiro ponto é a urbanização de favelas (11.1).\n",
    "\n",
    "Como a mobilidade urbana é fundamental para que o indivíduo exerça sua cidadania, a melhoria da oferta de serviços de transporte, com atendimento para todos os tipos de grupos, incluindo os em vulnerabilidade, mulheres, pessoas com deficiência e idosos, é foco da meta 11.2.\n",
    "\n",
    "A preservação da cultura (11.4), o fortalecimento dos espaços de participação (11.3), a redução do número de mortes, de pessoas afetadas por catástrofes e de prejuízos (11.5) e a redução dos impactos ambientais pela vida e produção econômica nas cidades complementam as metas deste ODS.\n",
    "\n",
    "(https://www4.tce.sp.gov.br/observatorio/2018/01/13/ods-11/)"
   ]
  },
  {
   "cell_type": "markdown",
   "metadata": {},
   "source": [
    "# Links interessantes\n",
    "\n",
    "- Site DeepHack: https://deephack.xyz\n",
    "\n",
    "- Introdução à Data Science (blog): https://sebastianraschka.com/blog/2016/model-evaluation-selection-part1.html\n",
    "- Introdução à Data Science (artigo): https://arxiv.org/pdf/1811.12808.pdf\n",
    "- Resumo de visualização de dados: https://datavizproject.com\n",
    "- Artigos sobre DS/ML: https://towardsdatascience.com\n",
    "\n",
    "- Dicas hackathon: https://renatocf.xyz/dicas-hackathon\n",
    "- Dicas pitch: https://renatocf.xyz/dicas-pitch\n",
    "\n",
    "- Awesome lists:\n",
    "  - https://github.com/academic/awesome-datascience\n",
    "  - https://github.com/onurakpolat/awesome-bigdata\n",
    "  - https://github.com/fasouto/awesome-dataviz\n",
    "  - https://github.com/josephmisiti/awesome-machine-learning"
   ]
  },
  {
   "cell_type": "markdown",
   "metadata": {},
   "source": [
    "# Bases de Dados\n",
    "\n",
    "## Links oficiais\n",
    "\n",
    "https://transparencia.tce.sp.gov.br/\n",
    "\n",
    "http://transparencia.tce.sp.gov.br/iegm-deephack2019\n",
    "\n",
    "https://iegm.tce.sp.gov.br/\n",
    "\n",
    "https://www.tce.sp.gov.br/observatorio/\n",
    "\n",
    "https://www.tce.sp.gov.br/contas-anuais\n",
    "\n",
    "https://www.tce.sp.gov.br/paineldeobras\n",
    "\n",
    "https://www.tce.sp.gov.br/ordenadas\n",
    "\n",
    "https://www.tce.sp.gov.br/jurisprudencia\n",
    "\n",
    "## Links adicionais\n",
    "\n",
    "https://ods.datapedia.info/\n",
    "\n",
    "Temas prevalentes no ODS 11:\n",
    "\n",
    "* Acesso a moradia\n",
    "\n",
    "* Prevenção de desastres -> enchentes/alagamentos\n",
    "\n",
    "* Acesso a espaços públicos\n",
    "\n",
    "* Acesso a transporte público\n",
    "    * http://www.sptrans.com.br/desenvolvedores/\n",
    "    * https://moovitapp.com/insights/pt-br/Moovit_Insights_%C3%8Dndice_sobre_o_Transporte_P%C3%BAblico-242\n",
    "    * http://mobilab.prefeitura.sp.gov.br/dadosabertos/\n",
    "    * http://www.emtu.sp.gov.br/emtu/dados-abertos/dados-abertos-principal.fss\n",
    "    * https://mobilidadesampa.com.br/mobilidade-urbana/\n",
    "    \n",
    "Outras bases:\n",
    "* painel de obras\n",
    "* visor "
   ]
  },
  {
   "cell_type": "markdown",
   "metadata": {},
   "source": [
    "# André"
   ]
  },
  {
   "cell_type": "markdown",
   "metadata": {},
   "source": [
    "## Ideias, rascunho, brainstorms"
   ]
  },
  {
   "cell_type": "markdown",
   "metadata": {},
   "source": [
    "### Ideia 1\n",
    "\n",
    "Desenvolver um web-scrapper para agregar notícias relevantes sobre cada um dos itens relativos ao tema 11 (possivelmente tornar o scrapper genérico, podendo ser utilizado a partir da configuração de palavras-chave/temas).\n",
    "\n",
    "...\n",
    "\n",
    "Pensando bem, não é uma boa ideia. Pelo menos não dado o intuito desse hackfest.\n",
    "\n",
    "### Ideia 2\n"
   ]
  },
  {
   "cell_type": "markdown",
   "metadata": {},
   "source": [
    "### Consulta da API\n",
    "\n",
    "Descrição:\n",
    "\n",
    "https://transparencia.tce.sp.gov.br/apis\n",
    "\n",
    "Biblioteca:\n",
    "\n",
    "https://requests.readthedocs.io/en/master/\n",
    "\n"
   ]
  },
  {
   "cell_type": "code",
   "execution_count": null,
   "metadata": {},
   "outputs": [],
   "source": []
  }
 ],
 "metadata": {
  "kernelspec": {
   "display_name": "Python 3",
   "language": "python",
   "name": "python3"
  },
  "language_info": {
   "codemirror_mode": {
    "name": "ipython",
    "version": 3
   },
   "file_extension": ".py",
   "mimetype": "text/x-python",
   "name": "python",
   "nbconvert_exporter": "python",
   "pygments_lexer": "ipython3",
   "version": "3.7.3"
  }
 },
 "nbformat": 4,
 "nbformat_minor": 2
}
