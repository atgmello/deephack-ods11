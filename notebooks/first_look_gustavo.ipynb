{
  "nbformat": 4,
  "nbformat_minor": 0,
  "metadata": {
    "kernelspec": {
      "display_name": "Python 3",
      "language": "python",
      "name": "python3"
    },
    "language_info": {
      "codemirror_mode": {
        "name": "ipython",
        "version": 3
      },
      "file_extension": ".py",
      "mimetype": "text/x-python",
      "name": "python",
      "nbconvert_exporter": "python",
      "pygments_lexer": "ipython3",
      "version": "3.6.8"
    },
    "colab": {
      "name": "first_look_gustavo.ipynb",
      "provenance": [],
      "toc_visible": true,
      "machine_shape": "hm"
    }
  },
  "cells": [
    {
      "cell_type": "markdown",
      "metadata": {
        "id": "LOCW1gdKMDyl",
        "colab_type": "text"
      },
      "source": [
        "Download iegm-deephack"
      ]
    },
    {
      "cell_type": "code",
      "metadata": {
        "id": "XBh-kpg8Mf3K",
        "colab_type": "code",
        "outputId": "b3921346-7cee-4e02-f929-4feee5be55c6",
        "colab": {
          "base_uri": "https://localhost:8080/",
          "height": 195
        }
      },
      "source": [
        "!pip install wget\n",
        "!mkdir '../data'"
      ],
      "execution_count": 1,
      "outputs": [
        {
          "output_type": "stream",
          "text": [
            "Collecting wget\n",
            "  Downloading https://files.pythonhosted.org/packages/47/6a/62e288da7bcda82b935ff0c6cfe542970f04e29c756b0e147251b2fb251f/wget-3.2.zip\n",
            "Building wheels for collected packages: wget\n",
            "  Building wheel for wget (setup.py) ... \u001b[?25l\u001b[?25hdone\n",
            "  Created wheel for wget: filename=wget-3.2-cp36-none-any.whl size=9681 sha256=e296a0275c02871d96d01c4a4f5659ed0e1572e48b5202e855fa1e27982fdfbd\n",
            "  Stored in directory: /root/.cache/pip/wheels/40/15/30/7d8f7cea2902b4db79e3fea550d7d7b85ecb27ef992b618f3f\n",
            "Successfully built wget\n",
            "Installing collected packages: wget\n",
            "Successfully installed wget-3.2\n"
          ],
          "name": "stdout"
        }
      ]
    },
    {
      "cell_type": "code",
      "metadata": {
        "id": "SqOfENh7MDym",
        "colab_type": "code",
        "outputId": "8a6f6ffc-f999-4af7-8884-30c5722f816f",
        "colab": {
          "base_uri": "https://localhost:8080/",
          "height": 34
        }
      },
      "source": [
        "import wget\n",
        "data_url = 'http://transparencia.tce.sp.gov.br/iegm-deephack2019'\n",
        "wget.download(data_url, '../data/tce_deephack2019.zip')"
      ],
      "execution_count": 2,
      "outputs": [
        {
          "output_type": "execute_result",
          "data": {
            "text/plain": [
              "'../data/tce_deephack2019.zip'"
            ]
          },
          "metadata": {
            "tags": []
          },
          "execution_count": 2
        }
      ]
    },
    {
      "cell_type": "code",
      "metadata": {
        "id": "pCuKadsyMDys",
        "colab_type": "code",
        "colab": {}
      },
      "source": [
        "import zipfile\n",
        "with zipfile.ZipFile('../data/tce_deephack2019.zip', 'r') as zip_ref:\n",
        "    zip_ref.extractall('../data')\n",
        "csv_file = '../data/iegm.csv'"
      ],
      "execution_count": 0,
      "outputs": []
    },
    {
      "cell_type": "code",
      "metadata": {
        "id": "Z_6w6Cq5MDyv",
        "colab_type": "code",
        "outputId": "cbc32e46-4e1d-4ce2-8c9c-aa5971999854",
        "colab": {
          "base_uri": "https://localhost:8080/",
          "height": 72
        }
      },
      "source": [
        "import pandas as pd\n",
        "data = pd.read_csv(csv_file, delimiter=';', encoding='Windows 1252')"
      ],
      "execution_count": 4,
      "outputs": [
        {
          "output_type": "stream",
          "text": [
            "/usr/local/lib/python3.6/dist-packages/IPython/core/interactiveshell.py:2718: DtypeWarning: Columns (0) have mixed types. Specify dtype option on import or set low_memory=False.\n",
            "  interactivity=interactivity, compiler=compiler, result=result)\n"
          ],
          "name": "stderr"
        }
      ]
    },
    {
      "cell_type": "code",
      "metadata": {
        "id": "vKuioY_jMDyz",
        "colab_type": "code",
        "outputId": "5957644e-a1f4-4cfb-ba1b-b5077f0c5a4d",
        "colab": {
          "base_uri": "https://localhost:8080/",
          "height": 400
        }
      },
      "source": [
        "data.head(5)"
      ],
      "execution_count": 5,
      "outputs": [
        {
          "output_type": "execute_result",
          "data": {
            "text/html": [
              "<div>\n",
              "<style scoped>\n",
              "    .dataframe tbody tr th:only-of-type {\n",
              "        vertical-align: middle;\n",
              "    }\n",
              "\n",
              "    .dataframe tbody tr th {\n",
              "        vertical-align: top;\n",
              "    }\n",
              "\n",
              "    .dataframe thead th {\n",
              "        text-align: right;\n",
              "    }\n",
              "</style>\n",
              "<table border=\"1\" class=\"dataframe\">\n",
              "  <thead>\n",
              "    <tr style=\"text-align: right;\">\n",
              "      <th></th>\n",
              "      <th>cod_ibge</th>\n",
              "      <th>municipio</th>\n",
              "      <th>porte</th>\n",
              "      <th>ano_exercicio</th>\n",
              "      <th>indice</th>\n",
              "      <th>cod_pergunta</th>\n",
              "      <th>texto_pergunta_genérica</th>\n",
              "      <th>cod_resposta</th>\n",
              "      <th>rotulo_resposta</th>\n",
              "      <th>valor_resposta</th>\n",
              "    </tr>\n",
              "  </thead>\n",
              "  <tbody>\n",
              "    <tr>\n",
              "      <th>0</th>\n",
              "      <td>3500204</td>\n",
              "      <td>Adolfo</td>\n",
              "      <td>PP</td>\n",
              "      <td>2014.0</td>\n",
              "      <td>i-Amb</td>\n",
              "      <td>M05Q00100</td>\n",
              "      <td>Sobre o Plano Municipal de Gestão Integrada de...</td>\n",
              "      <td>M05Q00100R00100</td>\n",
              "      <td>instrumento normativo publicado ou promulgado</td>\n",
              "      <td>instrumento normativo publicado ou promulgado</td>\n",
              "    </tr>\n",
              "    <tr>\n",
              "      <th>1</th>\n",
              "      <td>3501202</td>\n",
              "      <td>Álvares Florence</td>\n",
              "      <td>PP</td>\n",
              "      <td>2014.0</td>\n",
              "      <td>i-Amb</td>\n",
              "      <td>M05Q00100</td>\n",
              "      <td>Sobre o Plano Municipal de Gestão Integrada de...</td>\n",
              "      <td>M05Q00100R00300</td>\n",
              "      <td>estão em outras fases de elaboração</td>\n",
              "      <td>está em outras fases de elaboração</td>\n",
              "    </tr>\n",
              "    <tr>\n",
              "      <th>2</th>\n",
              "      <td>3500303</td>\n",
              "      <td>Aguaí</td>\n",
              "      <td>M</td>\n",
              "      <td>2014.0</td>\n",
              "      <td>i-Amb</td>\n",
              "      <td>M05Q00100</td>\n",
              "      <td>Sobre o Plano Municipal de Gestão Integrada de...</td>\n",
              "      <td>M05Q00100R00400</td>\n",
              "      <td>não realizaram o plano</td>\n",
              "      <td>não realizou o plano</td>\n",
              "    </tr>\n",
              "    <tr>\n",
              "      <th>3</th>\n",
              "      <td>3500402</td>\n",
              "      <td>Águas da Prata</td>\n",
              "      <td>P</td>\n",
              "      <td>2014.0</td>\n",
              "      <td>i-Amb</td>\n",
              "      <td>M05Q00100</td>\n",
              "      <td>Sobre o Plano Municipal de Gestão Integrada de...</td>\n",
              "      <td>M05Q00100R00100</td>\n",
              "      <td>instrumento normativo publicado ou promulgado</td>\n",
              "      <td>instrumento normativo publicado ou promulgado</td>\n",
              "    </tr>\n",
              "    <tr>\n",
              "      <th>4</th>\n",
              "      <td>3500501</td>\n",
              "      <td>Águas de Lindóia</td>\n",
              "      <td>P</td>\n",
              "      <td>2014.0</td>\n",
              "      <td>i-Amb</td>\n",
              "      <td>M05Q00100</td>\n",
              "      <td>Sobre o Plano Municipal de Gestão Integrada de...</td>\n",
              "      <td>M05Q00100R00300</td>\n",
              "      <td>estão em outras fases de elaboração</td>\n",
              "      <td>está em outras fases de elaboração</td>\n",
              "    </tr>\n",
              "  </tbody>\n",
              "</table>\n",
              "</div>"
            ],
            "text/plain": [
              "  cod_ibge  ...                                 valor_resposta\n",
              "0  3500204  ...  instrumento normativo publicado ou promulgado\n",
              "1  3501202  ...             está em outras fases de elaboração\n",
              "2  3500303  ...                           não realizou o plano\n",
              "3  3500402  ...  instrumento normativo publicado ou promulgado\n",
              "4  3500501  ...             está em outras fases de elaboração\n",
              "\n",
              "[5 rows x 10 columns]"
            ]
          },
          "metadata": {
            "tags": []
          },
          "execution_count": 5
        }
      ]
    },
    {
      "cell_type": "code",
      "metadata": {
        "id": "ua3XmCbaMDy2",
        "colab_type": "code",
        "colab": {}
      },
      "source": [
        "default_columns = pd.options.display.max_columns\n",
        "pd.options.display.max_colwidth = 130"
      ],
      "execution_count": 0,
      "outputs": []
    },
    {
      "cell_type": "code",
      "metadata": {
        "id": "PpMsyYJZMDy5",
        "colab_type": "code",
        "outputId": "cc2cdd95-060a-4cd2-95b5-d19132208fff",
        "colab": {
          "base_uri": "https://localhost:8080/",
          "height": 52
        }
      },
      "source": [
        "data[\"indice\"].unique()"
      ],
      "execution_count": 7,
      "outputs": [
        {
          "output_type": "execute_result",
          "data": {
            "text/plain": [
              "array(['i-Amb', 'i-Cidade', 'i-Educ', 'i-Gov TI', 'i-Plan', 'i-Saúde',\n",
              "       nan], dtype=object)"
            ]
          },
          "metadata": {
            "tags": []
          },
          "execution_count": 7
        }
      ]
    },
    {
      "cell_type": "code",
      "metadata": {
        "id": "yXCSoyHBMDy9",
        "colab_type": "code",
        "outputId": "e8c96a80-38c2-49b7-c403-1e66ffaffe1d",
        "colab": {
          "base_uri": "https://localhost:8080/",
          "height": 70
        }
      },
      "source": [
        "print(\"# perguntas i-Amb:\", len(data[data[\"indice\"] == 'i-Amb'][\"texto_pergunta_genérica\"].unique()))\n",
        "print(\"# perguntas i-Cidade:\", len(data[data[\"indice\"] == 'i-Cidade'][\"texto_pergunta_genérica\"].unique()))\n",
        "print(\"# perguntas nan:\", len(data[[pd.isna(index) \n",
        "                                    for index in data[\"indice\"]]\n",
        "                                  ][\"texto_pergunta_genérica\"].unique()))"
      ],
      "execution_count": 8,
      "outputs": [
        {
          "output_type": "stream",
          "text": [
            "# perguntas i-Amb: 69\n",
            "# perguntas i-Cidade: 26\n",
            "# perguntas nan: 1\n"
          ],
          "name": "stdout"
        }
      ]
    },
    {
      "cell_type": "markdown",
      "metadata": {
        "id": "dwFzAo16MDzA",
        "colab_type": "text"
      },
      "source": [
        "## Perguntas de indicador ambiental"
      ]
    },
    {
      "cell_type": "code",
      "metadata": {
        "id": "cnc0Tb4GMDzC",
        "colab_type": "code",
        "outputId": "5ca9bd89-486e-4422-dc20-133891e8ba24",
        "colab": {
          "base_uri": "https://localhost:8080/",
          "height": 1000
        }
      },
      "source": [
        "ambiental_questions = data[data[\"indice\"] == 'i-Amb'][\"texto_pergunta_genérica\"].unique()\n",
        "for q in ambiental_questions:\n",
        "    print(q, end='\\n\\n')"
      ],
      "execution_count": 9,
      "outputs": [
        {
          "output_type": "stream",
          "text": [
            "Sobre o Plano Municipal de Gestão Integrada de Resíduos Sólidos (PMGIRS) – Lei nº 12.305/2010 –, informe:\n",
            "\n",
            "A prefeitura municipal realiza a coleta seletiva de resíduos sólidos?\n",
            "\n",
            "A prefeitura possui Plano de Gestão de Resíduos da Construção Civil elaborado e implantado de acordo com a resolução CONAMA 307/2002 e suas alterações?\n",
            "\n",
            "A prefeitura adota na rede escolar municipal algum programa ou ação de educação ambiental?\n",
            "\n",
            "A prefeitura municipal estimula entre seus órgãos e entidades de sua responsabilidade projetos e/ou ações que promovam o uso racional de recursos naturais? (ex.: implantação de dispositivos para uso racional da água, coleta seletiva, reuso ou reciclagem de material entre outros)?\n",
            "\n",
            "Utilização do IQR (Índice de Qualidade de Aterro de Resíduos):\n",
            "\n",
            "A prefeitura possui ou participa de algum programa ou ação que promovam a melhoria contínua da qualidade ambiental no município?\n",
            "\n",
            "A prefeitura possui alguma estrutura organizacional para tratar de assuntos ligados ao Meio Ambiente Municipal?\n",
            "\n",
            "A prefeitura participou de treinamento oferecido pelo Corpo de Bombeiros para brigadas antifogo ou planos para desastres naturais ou ações de contingência ou similares (privilegiando a participação de membros da Guarda Municipal, Defesa Civil, Tiro de Guerra, brigadistas de indústrias, usinas e empresas etc, inclusive para os municípios que possuem Unidades de Corpo de Bombeiros)?\n",
            "\n",
            "O município possui seu Plano Municipal de Saneamento Básico instituído?\n",
            "\n",
            "Existe registro do percentual da população do município abrangida pelo serviço de fornecimento de água tratada?\n",
            "\n",
            "Qual o percentual da população do município abrangida pelo serviço de coleta de esgotamento sanitário?\n",
            "\n",
            "Qual o percentual de tratamento do esgotamento sanitário?\n",
            "\n",
            "Existem ações e medidas de contingenciamento para os períodos de estiagem?\n",
            "\n",
            "Existem ações e medidas de contingenciamento para provisão de água potável e de uso comum para a Rede Municipal de Ensino?\n",
            "\n",
            "Existem ações e medidas de contingenciamento para provisão de água potável e de uso comum para a rede municipal da Atenção Básica da Saúde?\n",
            "\n",
            "Há um plano emergencial com ações para fornecimento de água potável à população em caso de sua escassez?\n",
            "\n",
            "Descreva o processo de destinação da coleta seletiva:\n",
            "\n",
            "Por que motivo a prefeitura municipal ainda não possui Plano de Resíduos da Construção Civil implantado?\n",
            "\n",
            "Descreva o programa ou ação de educação ambiental adotado pela prefeitura:\n",
            "\n",
            "Descreva os projetos ou ações realizados pelos órgãos ou entidades que promovam o uso racional de recursos naturais:\n",
            "\n",
            "Qual programa ou ação que promova a melhoria continua da qualidade ambiental no município?\n",
            "\n",
            "Descreva sucintamente o programa ou ação que promova a melhoria continua da qualidade ambiental no município:\n",
            "\n",
            "Informe o percentual da população do município abrangida pelo serviço de fornecimento de água tratada:\n",
            "\n",
            "Percentual da população municipal abrangida pela coleta de esgotamento sanitário:\n",
            "\n",
            "Percentual da população municipal abrangida pelo tratamento do esgotamento sanitário:\n",
            "\n",
            "Descreva quais as ações e medidas são realizadas para o contingenciamento para os períodos de estiagem:\n",
            "\n",
            "Descreva o plano Plano Emergencial de Escassez de Água Potável:\n",
            "\n",
            "Quais são os instrumentos normativos que tratam do Plano Municipal de Saneamento Básico?\n",
            "\n",
            "O município participa do programa Município VerdeAzul?\n",
            "\n",
            "O município está habilitado junto ao CONSEMA para licenciar os empreendimentos de impacto local de conformidade com a Deliberação Normativa Consema 01/2014?\n",
            "\n",
            "A prefeitura participa de alguma instância de planejamento e gestão regional (tais como comitê de bacia, conselho regional/metropolitano, conselho gestor de APA - Área de proteção Ambiental), que promova a melhoria contínua da gestão ambiental municipal e da região em que está inserida?\n",
            "\n",
            "Descreva quais as ações e medidas de melhoria contínua da gestão ambiental municipal e da região a prefeitura municipal participa:\n",
            "\n",
            "Informe a lei que institutiu o  Plano de Gestão de Resíduos da Construção Civil:\n",
            "\n",
            "Descreva as ações e medidas realizadas de contingenciamento para a provisão de água potável e de uso comum para a rede municipal de ensino:\n",
            "\n",
            "Descreva as ações e medidas realizadas de contingenciamento para a provisão de água potável e de uso comum para a rede municipal de Atenção Básica:\n",
            "\n",
            "Todos os servidores da estrutura de Meio Ambiente possuem formação na área natural e/ou humana?\n",
            "\n",
            "A estrutura de Meio Ambiente encontra-se em nível de primeiro escalão no organograma da prefeitura?\n",
            "\n",
            "Quanto aos resíduos da construção civil, quem é o responsável pela triagem dos resíduos?\n",
            "\n",
            "Quanto à arborização urbana, o pessoal da prefeitura responsável por manutenção das árvores é devidamente orientado/treinado para realizar a poda de maneira correta?\n",
            "\n",
            "O município possui controle ou registro das autuações realizadas por queimada urbana?\n",
            "\n",
            "Quanto aos aterros municipais, todos possuem portão fechado com cadeado no seu acesso?\n",
            "\n",
            "Quanto aos aterros municipais, animais domésticos e/ou animais silvestres (urubus, garças, etc.) convivem com os resíduos do aterro?\n",
            "\n",
            "Há catadores de materiais recicláveis no aterro municipal?\n",
            "\n",
            "Informe o ICTEM - Indicador de Coleta de Tratabilidade de Esgoto da População Urbana de Município do exercício:\n",
            "\n",
            "Informe o ICTEM - Indicador de Coleta de Tratabilidade de Esgoto da População Urbana de Município do exercício anterior:\n",
            "\n",
            "Sobre programa ou ação de educação ambiental na rede escolar municipal, informe o número de escolas dos anos iniciais que adotam programa ou ação de educação ambiental:\n",
            "\n",
            "O município ainda lança, a céu aberto (lixões), seus resíduos sólidos?\n",
            "\n",
            "O município possui cronograma de manunteção preventiva ou de substituição da frota municipal?\n",
            "\n",
            "A disposição final de resíduos sólidos é feita em consórcio com municípios da região?\n",
            "\n",
            "O município possui área de aterro sanitário ou industrial?\n",
            "\n",
            "Existe licença de operação da CETESB para a área de aterro?\n",
            "\n",
            "Antes de aterrar o lixo, o município realiza algum tipo de processamento de resíduos, quer mediante reciclagem, compostagem, reutilização ou outra forma de processamento?\n",
            "\n",
            "Qual o tipo de tratamento de resíduos realizados antes do aterramento?\n",
            "\n",
            "Os serviços de abastecimento e distribuição de água são executados de forma direta pelo município?\n",
            "\n",
            "Cite a autarquia/empresa estatal/empresa contratada pelos serviços de abastecimento e distribuição de água:\n",
            "\n",
            "Descreva os meios de realização dos serviços de abastecimento e distribuição de água são realizados por meio de:\n",
            "\n",
            "Em quantos anos está prevista a prestação do serviço de abastecimento e distribuição de água?\n",
            "\n",
            "Os serviços de coleta e tratamento de esgoto são executados de forma direta pelo Município?\n",
            "\n",
            "Cite a autarquia/empresa estata/empresa contratada:\n",
            "\n",
            "Descreva os meios de realização dos serviços de coleta e tratamento de esgoto são realizados por meio de:\n",
            "\n",
            "Em quantos anos está prevista a prestação do serviço de coleta e tratamento de esgoto?\n",
            "\n",
            "Os serviços de coleta e disposição final de rejeitos e resíduos sólidos são executados de forma direta pelo município?\n",
            "\n",
            "Descreva os meios de realização dos serviços de coleta e disposição final de rejeitos são realizados por meio de:\n",
            "\n",
            "Em quantos anos está prevista a prestação do serviço de coleta e disposição final de rejeitos?\n",
            "\n",
            "Gostaria de registrar suas impressões, comentários e sugestões a respeito do presente questionário? Não deixe de indicar, por favor, as questões que você considera relevantes, mas não foram – ou o foram apenas superficial e inadequadamente – abordadas nos itens acima. Obrigado.\n",
            "\n",
            "Informe número de domicílios atendidos pela coleta seletiva:\n",
            "\n",
            "Qual o percentual dos servidores que possuem formação na área natural e/ou humana?\n",
            "\n",
            "Utilize o espaço abaixo para registrar suas impressões, comentários e sugestões a respeito do presente questionário.\n",
            "\n"
          ],
          "name": "stdout"
        }
      ]
    },
    {
      "cell_type": "markdown",
      "metadata": {
        "id": "-CggvXKuMDzF",
        "colab_type": "text"
      },
      "source": [
        "## Perguntas de indicador cidade"
      ]
    },
    {
      "cell_type": "code",
      "metadata": {
        "id": "knSVVGemMDzG",
        "colab_type": "code",
        "outputId": "3b58aae3-0cc7-4c53-e58a-86a3ed068963",
        "colab": {
          "base_uri": "https://localhost:8080/",
          "height": 952
        }
      },
      "source": [
        "ambiental_questions = data[data[\"indice\"] == 'i-Cidade'][\"texto_pergunta_genérica\"].unique()\n",
        "for q in ambiental_questions:\n",
        "    print(q, end='\\n\\n')"
      ],
      "execution_count": 10,
      "outputs": [
        {
          "output_type": "stream",
          "text": [
            "O município possui a Coordenadoria Municipal de Defesa Civil - COMDEC estruturada? (Lei nº 12.608/2012)?\n",
            "\n",
            "A prefeitura municipal possui local físico com sala e telefone para atendimento de ocorrências de Defesa Civil?\n",
            "\n",
            "O município está cadastrado no sistema da Defesa Civil estadual denominado SIDEC (Sistema Integrado de Defesa Civil)?\n",
            "\n",
            "O município utiliza alguma forma de registro eletrônico para cadastramento de ocorrência de Defesa Civil?\n",
            "\n",
            "O município possui algum tipo de levantamento para identificação de risco para intervenções do Poder Público?\n",
            "\n",
            "O município possui Plano de Contingência de Defesa Civil?\n",
            "\n",
            "O município está listado no Programa Construindo Cidades Resilientes, do Escritório das Nações Unidas para Redução de Riscos de Desastres?\n",
            "\n",
            "O município capacita seus agentes para ações municipais de Defesa Civil?\n",
            "\n",
            "Se o município possui mais de 20.000 habitantes, foi elaborado seu Plano de Mobilidade Urbana? (LF nº 12.587/12, art. 24, §3º)\n",
            "\n",
            "Qual o número de telefone utilizado para atendimento da Defesa Civil?\n",
            "\n",
            "Descreva qual a forma de registro eletrônico utilizado para cadastramento de ocorrências da Defesa Civil:\n",
            "\n",
            "O município possui um estudo de avaliação da segurança de todas as escolas e centros de saúde atualizado?\n",
            "\n",
            "Descreva a forma de capacitação de agentes para ações de Defesa Civil:\n",
            "\n",
            "As vias públicas pavimentadas estão devidamente sinalizadas (vertical e horizontalmente) de forma a garantir as condições adequadas de segurança na circulação?\n",
            "\n",
            "Há manutenção adequada das vias públicas no município?\n",
            "\n",
            "Informe o orçamento previsto para manutenção adequada das vias públicas no município:\n",
            "\n",
            "Qual o número de mortes por acidente de trânsito no município no ano?\n",
            "\n",
            "Qual o número de acidentes de trânsito no município no ano?\n",
            "\n",
            "O município possui ameaças potenciais mapeadas?\n",
            "\n",
            "O município utiliza sistemas de alerta e alarme para desastres?\n",
            "\n",
            "Gostaria de registrar suas impressões, comentários e sugestões a respeito do presente questionário? Não deixe de indicar, por favor, as questões que você considera relevantes, mas não foram – ou o foram apenas superficial e inadequadamente – abordadas nos itens acima. Obrigado.\n",
            "\n",
            "Informe o orçamento previsto para Plano de Mobilidade Urbana em Municípios com mais de 20.000 habitantes:\n",
            "\n",
            "Informe o orçamento realizado para Plano de Mobilidade Urbana em Municípios com mais de 20.000 habitantes:\n",
            "\n",
            "Utilize o espaço abaixo para registrar suas impressões, comentários e sugestões a respeito do presente questionário.\n",
            "\n",
            "Qual(is) ameaças pontenciais foram mapeadas?\n",
            "\n",
            "Qual a frequência (em dias) de utilização dos sistemas de alerta e alarme para desastres?\n",
            "\n"
          ],
          "name": "stdout"
        }
      ]
    },
    {
      "cell_type": "markdown",
      "metadata": {
        "id": "SSUozukQMDzL",
        "colab_type": "text"
      },
      "source": [
        "## Perguntas sobre acessibilidade"
      ]
    },
    {
      "cell_type": "code",
      "metadata": {
        "id": "ZCltrYAJMDzM",
        "colab_type": "code",
        "outputId": "63a2c5d8-7163-42a0-cdc7-a1a4e1ae82f5",
        "colab": {
          "base_uri": "https://localhost:8080/",
          "height": 354
        }
      },
      "source": [
        "all_q = data[\"texto_pergunta_genérica\"].unique()\n",
        "for q in all_q:\n",
        "    if 'acess' in str(q) or 'defici' in str(q):\n",
        "        print(q, end='\\n\\n')"
      ],
      "execution_count": 11,
      "outputs": [
        {
          "output_type": "stream",
          "text": [
            "O Município divulga nas UBS em local acessível ao público a escala atualizada de serviço dos profissionais de saúde contendo o nome e o horário de entrada e saída destes servidores?\n",
            "\n",
            "Sobre a infraestrutura das escolas dos Anos Iniciais do Ensino Fundamental (1º ao 5º ano), informe a quantidade de escolas adaptadas para receber crianças com deficiência (Rampas e vias de acesso à escola, adaptação de salas de aula, banheiros e áreas de esporte e recreação):\n",
            "\n",
            "Informe a quantidade de crianças que abandonaram a escola por dificuldade de acesso à escola:\n",
            "\n",
            "Há levantamentos dos problemas, necessidades, deficiências do Município antecedentes ao planejamento?\n",
            "\n",
            "Em quais setores há levantamentos desses problemas, necessidades e deficiências do Município antecedentes ao planejamento?\n",
            "\n",
            "Quanto aos aterros municipais, todos possuem portão fechado com cadeado no seu acesso?\n",
            "\n",
            "Qual a quantidade de computadores em funcionamento e com acesso à rede (banda larga) destinados às aulas de informática em todas as escolas do município?\n",
            "\n",
            "Além das audiências públicas, há levantamentos formais dos problemas, necessidades, deficiências do Município antecedentes ao planejamento?\n",
            "\n",
            "Foi observado o cumprimento da legislação relativa à pessoa com deficiência e as normas de acessibilidade vigentes?\n",
            "\n"
          ],
          "name": "stdout"
        }
      ]
    },
    {
      "cell_type": "markdown",
      "metadata": {
        "id": "r-ikU0nxMDzR",
        "colab_type": "text"
      },
      "source": [
        "# Compilado de bancos\n",
        "\n",
        "Biblioteca virtual de São Paulo: http://www.bibliotecavirtual.sp.gov.br/temas/sao-paulo/sao-paulo-bases-de-dados-e-informacoes-estatisticas.php\n",
        "\n",
        "\n",
        "Projeções populacionais p/ municípios de São Paulo (SEDAE): http://produtos.seade.gov.br/produtos/projpop/\n",
        "\n",
        "Series histórias municipios: http://www.imp.seade.gov.br/frontend/#/ (API bem documentada)\n",
        "\n",
        "Perfil das cidades (muitas visualizações): http://www.perfil.seade.gov.br/"
      ]
    },
    {
      "cell_type": "markdown",
      "metadata": {
        "id": "8niaHQIqMDzT",
        "colab_type": "text"
      },
      "source": [
        "## Moradia"
      ]
    },
    {
      "cell_type": "markdown",
      "metadata": {
        "id": "Oq-cCJkGMDzV",
        "colab_type": "text"
      },
      "source": [
        "#### IBGE\n",
        "* dados sobre presença nas escolas e creches, de acordo com renda e com situação domiciliar\n",
        "* moradores por tipo de domicílio (alguel/próprio)"
      ]
    },
    {
      "cell_type": "markdown",
      "metadata": {
        "id": "cnHgfNGtMDzW",
        "colab_type": "text"
      },
      "source": [
        "## Acessibilidade"
      ]
    },
    {
      "cell_type": "markdown",
      "metadata": {
        "id": "EWicgxU7MDzZ",
        "colab_type": "text"
      },
      "source": [
        "## Transporte\n"
      ]
    },
    {
      "cell_type": "markdown",
      "metadata": {
        "id": "O-W0Prp4MDza",
        "colab_type": "text"
      },
      "source": [
        "## Catástrofes\n",
        "* relatório cetesb: https://cetesb.sp.gov.br/aguas-interiores/wp-content/uploads/sites/12/2019/07/Resumo-Executivo-Relat%C3%B3rio-de-Qualidade-das-%C3%81guas-Interiores-no-Estado-de-S%C3%A3o-Paulo-2018.pdf\n",
        "* info-aguas: https://sistemainfoaguas.cetesb.sp.gov.br/"
      ]
    },
    {
      "cell_type": "markdown",
      "metadata": {
        "id": "NSe33fK7MDzb",
        "colab_type": "text"
      },
      "source": [
        "# Relatório do Observatório\n",
        "https://www4.tce.sp.gov.br/observatorio/observatorio-integra-relatorio-ods-educacao"
      ]
    },
    {
      "cell_type": "markdown",
      "metadata": {
        "id": "LqV91Fh7MDzc",
        "colab_type": "text"
      },
      "source": [
        "# Verificando gastos"
      ]
    },
    {
      "cell_type": "code",
      "metadata": {
        "id": "9DECF-M1MDzd",
        "colab_type": "code",
        "colab": {}
      },
      "source": [
        "import requests\n",
        "\n",
        "cidade = \"araraquara\"\n",
        "ano = \"2018\"\n",
        "mes = \"2\"\n",
        "url = \"https://transparencia.tce.sp.gov.br/api/json/despesas/\" + cidade + \"/\" + ano + \"/\" + mes\n",
        "response = requests.get(url)\n",
        "if response:\n",
        "    df = pd.DataFrame(response.json())\n",
        "else:\n",
        "    print(\"Ops\")\n"
      ],
      "execution_count": 0,
      "outputs": []
    },
    {
      "cell_type": "code",
      "metadata": {
        "id": "S-Iz0PU1MDzh",
        "colab_type": "code",
        "outputId": "2b5b0c38-3c9d-4c9a-b0cb-810886bf1628",
        "colab": {
          "base_uri": "https://localhost:8080/",
          "height": 363
        }
      },
      "source": [
        "df[\"vl_despesa\"] = df[\"vl_despesa\"].apply(lambda s: s.replace(',', '.'))\n",
        "df[\"vl_despesa\"] = df[\"vl_despesa\"].astype(\"float64\")\n",
        "df.head()"
      ],
      "execution_count": 13,
      "outputs": [
        {
          "output_type": "execute_result",
          "data": {
            "text/html": [
              "<div>\n",
              "<style scoped>\n",
              "    .dataframe tbody tr th:only-of-type {\n",
              "        vertical-align: middle;\n",
              "    }\n",
              "\n",
              "    .dataframe tbody tr th {\n",
              "        vertical-align: top;\n",
              "    }\n",
              "\n",
              "    .dataframe thead th {\n",
              "        text-align: right;\n",
              "    }\n",
              "</style>\n",
              "<table border=\"1\" class=\"dataframe\">\n",
              "  <thead>\n",
              "    <tr style=\"text-align: right;\">\n",
              "      <th></th>\n",
              "      <th>dt_emissao_despesa</th>\n",
              "      <th>evento</th>\n",
              "      <th>id_fornecedor</th>\n",
              "      <th>mes</th>\n",
              "      <th>nm_fornecedor</th>\n",
              "      <th>nr_empenho</th>\n",
              "      <th>orgao</th>\n",
              "      <th>vl_despesa</th>\n",
              "    </tr>\n",
              "  </thead>\n",
              "  <tbody>\n",
              "    <tr>\n",
              "      <th>0</th>\n",
              "      <td>05/02/2018</td>\n",
              "      <td>Empenhado</td>\n",
              "      <td>CNPJ - PESSOA JURÍDICA - 59682625000123</td>\n",
              "      <td>Fevereiro</td>\n",
              "      <td>MEDICAM - MEDICAMENTOS CAMPINAS LTDA EPP</td>\n",
              "      <td>2285-2018</td>\n",
              "      <td>PREFEITURA MUNICIPAL DE ARARAQUARA</td>\n",
              "      <td>962.4</td>\n",
              "    </tr>\n",
              "    <tr>\n",
              "      <th>1</th>\n",
              "      <td>05/02/2018</td>\n",
              "      <td>Empenhado</td>\n",
              "      <td>CNPJ - PESSOA JURÍDICA - 18872656000160</td>\n",
              "      <td>Fevereiro</td>\n",
              "      <td>INOVA COMERCIAL HOSPITALAR LTDA EPP</td>\n",
              "      <td>2291-2018</td>\n",
              "      <td>PREFEITURA MUNICIPAL DE ARARAQUARA</td>\n",
              "      <td>4716.8</td>\n",
              "    </tr>\n",
              "    <tr>\n",
              "      <th>2</th>\n",
              "      <td>05/02/2018</td>\n",
              "      <td>Empenhado</td>\n",
              "      <td>CNPJ - PESSOA JURÍDICA - 11802916000181</td>\n",
              "      <td>Fevereiro</td>\n",
              "      <td>CDR COMERCIO DE MATERIAIS HOSPITALARES LTDA</td>\n",
              "      <td>2541-2018</td>\n",
              "      <td>PREFEITURA MUNICIPAL DE ARARAQUARA</td>\n",
              "      <td>637.2</td>\n",
              "    </tr>\n",
              "    <tr>\n",
              "      <th>3</th>\n",
              "      <td>05/02/2018</td>\n",
              "      <td>Empenhado</td>\n",
              "      <td>CNPJ - PESSOA JURÍDICA - 18872656000160</td>\n",
              "      <td>Fevereiro</td>\n",
              "      <td>INOVA COMERCIAL HOSPITALAR LTDA EPP</td>\n",
              "      <td>2543-2018</td>\n",
              "      <td>PREFEITURA MUNICIPAL DE ARARAQUARA</td>\n",
              "      <td>1230.0</td>\n",
              "    </tr>\n",
              "    <tr>\n",
              "      <th>4</th>\n",
              "      <td>05/02/2018</td>\n",
              "      <td>Empenhado</td>\n",
              "      <td>CNPJ - PESSOA JURÍDICA - 18872656000160</td>\n",
              "      <td>Fevereiro</td>\n",
              "      <td>INOVA COMERCIAL HOSPITALAR LTDA EPP</td>\n",
              "      <td>2288-2018</td>\n",
              "      <td>PREFEITURA MUNICIPAL DE ARARAQUARA</td>\n",
              "      <td>1573.4</td>\n",
              "    </tr>\n",
              "  </tbody>\n",
              "</table>\n",
              "</div>"
            ],
            "text/plain": [
              "  dt_emissao_despesa     evento  ...                               orgao vl_despesa\n",
              "0         05/02/2018  Empenhado  ...  PREFEITURA MUNICIPAL DE ARARAQUARA      962.4\n",
              "1         05/02/2018  Empenhado  ...  PREFEITURA MUNICIPAL DE ARARAQUARA     4716.8\n",
              "2         05/02/2018  Empenhado  ...  PREFEITURA MUNICIPAL DE ARARAQUARA      637.2\n",
              "3         05/02/2018  Empenhado  ...  PREFEITURA MUNICIPAL DE ARARAQUARA     1230.0\n",
              "4         05/02/2018  Empenhado  ...  PREFEITURA MUNICIPAL DE ARARAQUARA     1573.4\n",
              "\n",
              "[5 rows x 8 columns]"
            ]
          },
          "metadata": {
            "tags": []
          },
          "execution_count": 13
        }
      ]
    },
    {
      "cell_type": "code",
      "metadata": {
        "id": "xONywjQIMDzl",
        "colab_type": "code",
        "outputId": "b965ca96-8b5a-4cdc-c8ec-4b7e04215e29",
        "colab": {
          "base_uri": "https://localhost:8080/",
          "height": 363
        }
      },
      "source": [
        "# Removendo despesas de pessoa física\n",
        "with_cnpj_idx = ['cnpj' in id_forn.lower() for id_forn in df['id_fornecedor']]\n",
        "df_cnpj = df[with_cnpj_idx]\n",
        "df_cnpj.head()"
      ],
      "execution_count": 14,
      "outputs": [
        {
          "output_type": "execute_result",
          "data": {
            "text/html": [
              "<div>\n",
              "<style scoped>\n",
              "    .dataframe tbody tr th:only-of-type {\n",
              "        vertical-align: middle;\n",
              "    }\n",
              "\n",
              "    .dataframe tbody tr th {\n",
              "        vertical-align: top;\n",
              "    }\n",
              "\n",
              "    .dataframe thead th {\n",
              "        text-align: right;\n",
              "    }\n",
              "</style>\n",
              "<table border=\"1\" class=\"dataframe\">\n",
              "  <thead>\n",
              "    <tr style=\"text-align: right;\">\n",
              "      <th></th>\n",
              "      <th>dt_emissao_despesa</th>\n",
              "      <th>evento</th>\n",
              "      <th>id_fornecedor</th>\n",
              "      <th>mes</th>\n",
              "      <th>nm_fornecedor</th>\n",
              "      <th>nr_empenho</th>\n",
              "      <th>orgao</th>\n",
              "      <th>vl_despesa</th>\n",
              "    </tr>\n",
              "  </thead>\n",
              "  <tbody>\n",
              "    <tr>\n",
              "      <th>0</th>\n",
              "      <td>05/02/2018</td>\n",
              "      <td>Empenhado</td>\n",
              "      <td>CNPJ - PESSOA JURÍDICA - 59682625000123</td>\n",
              "      <td>Fevereiro</td>\n",
              "      <td>MEDICAM - MEDICAMENTOS CAMPINAS LTDA EPP</td>\n",
              "      <td>2285-2018</td>\n",
              "      <td>PREFEITURA MUNICIPAL DE ARARAQUARA</td>\n",
              "      <td>962.4</td>\n",
              "    </tr>\n",
              "    <tr>\n",
              "      <th>1</th>\n",
              "      <td>05/02/2018</td>\n",
              "      <td>Empenhado</td>\n",
              "      <td>CNPJ - PESSOA JURÍDICA - 18872656000160</td>\n",
              "      <td>Fevereiro</td>\n",
              "      <td>INOVA COMERCIAL HOSPITALAR LTDA EPP</td>\n",
              "      <td>2291-2018</td>\n",
              "      <td>PREFEITURA MUNICIPAL DE ARARAQUARA</td>\n",
              "      <td>4716.8</td>\n",
              "    </tr>\n",
              "    <tr>\n",
              "      <th>2</th>\n",
              "      <td>05/02/2018</td>\n",
              "      <td>Empenhado</td>\n",
              "      <td>CNPJ - PESSOA JURÍDICA - 11802916000181</td>\n",
              "      <td>Fevereiro</td>\n",
              "      <td>CDR COMERCIO DE MATERIAIS HOSPITALARES LTDA</td>\n",
              "      <td>2541-2018</td>\n",
              "      <td>PREFEITURA MUNICIPAL DE ARARAQUARA</td>\n",
              "      <td>637.2</td>\n",
              "    </tr>\n",
              "    <tr>\n",
              "      <th>3</th>\n",
              "      <td>05/02/2018</td>\n",
              "      <td>Empenhado</td>\n",
              "      <td>CNPJ - PESSOA JURÍDICA - 18872656000160</td>\n",
              "      <td>Fevereiro</td>\n",
              "      <td>INOVA COMERCIAL HOSPITALAR LTDA EPP</td>\n",
              "      <td>2543-2018</td>\n",
              "      <td>PREFEITURA MUNICIPAL DE ARARAQUARA</td>\n",
              "      <td>1230.0</td>\n",
              "    </tr>\n",
              "    <tr>\n",
              "      <th>4</th>\n",
              "      <td>05/02/2018</td>\n",
              "      <td>Empenhado</td>\n",
              "      <td>CNPJ - PESSOA JURÍDICA - 18872656000160</td>\n",
              "      <td>Fevereiro</td>\n",
              "      <td>INOVA COMERCIAL HOSPITALAR LTDA EPP</td>\n",
              "      <td>2288-2018</td>\n",
              "      <td>PREFEITURA MUNICIPAL DE ARARAQUARA</td>\n",
              "      <td>1573.4</td>\n",
              "    </tr>\n",
              "  </tbody>\n",
              "</table>\n",
              "</div>"
            ],
            "text/plain": [
              "  dt_emissao_despesa     evento  ...                               orgao vl_despesa\n",
              "0         05/02/2018  Empenhado  ...  PREFEITURA MUNICIPAL DE ARARAQUARA      962.4\n",
              "1         05/02/2018  Empenhado  ...  PREFEITURA MUNICIPAL DE ARARAQUARA     4716.8\n",
              "2         05/02/2018  Empenhado  ...  PREFEITURA MUNICIPAL DE ARARAQUARA      637.2\n",
              "3         05/02/2018  Empenhado  ...  PREFEITURA MUNICIPAL DE ARARAQUARA     1230.0\n",
              "4         05/02/2018  Empenhado  ...  PREFEITURA MUNICIPAL DE ARARAQUARA     1573.4\n",
              "\n",
              "[5 rows x 8 columns]"
            ]
          },
          "metadata": {
            "tags": []
          },
          "execution_count": 14
        }
      ]
    },
    {
      "cell_type": "code",
      "metadata": {
        "id": "qAAA5bGGMDzo",
        "colab_type": "code",
        "outputId": "852ca4fe-77b0-402f-8617-2c7258d6d737",
        "colab": {
          "base_uri": "https://localhost:8080/",
          "height": 363
        }
      },
      "source": [
        "# Filtrando apenas entradas 'Pago'\n",
        "pago_idxs = [\"pago\" in ev.lower() for ev in df_cnpj[\"evento\"]]\n",
        "df_cnpj_pago = df_cnpj[pago_idxs]\n",
        "df_cnpj_pago.head()"
      ],
      "execution_count": 15,
      "outputs": [
        {
          "output_type": "execute_result",
          "data": {
            "text/html": [
              "<div>\n",
              "<style scoped>\n",
              "    .dataframe tbody tr th:only-of-type {\n",
              "        vertical-align: middle;\n",
              "    }\n",
              "\n",
              "    .dataframe tbody tr th {\n",
              "        vertical-align: top;\n",
              "    }\n",
              "\n",
              "    .dataframe thead th {\n",
              "        text-align: right;\n",
              "    }\n",
              "</style>\n",
              "<table border=\"1\" class=\"dataframe\">\n",
              "  <thead>\n",
              "    <tr style=\"text-align: right;\">\n",
              "      <th></th>\n",
              "      <th>dt_emissao_despesa</th>\n",
              "      <th>evento</th>\n",
              "      <th>id_fornecedor</th>\n",
              "      <th>mes</th>\n",
              "      <th>nm_fornecedor</th>\n",
              "      <th>nr_empenho</th>\n",
              "      <th>orgao</th>\n",
              "      <th>vl_despesa</th>\n",
              "    </tr>\n",
              "  </thead>\n",
              "  <tbody>\n",
              "    <tr>\n",
              "      <th>2846</th>\n",
              "      <td>02/02/2018</td>\n",
              "      <td>Valor Pago</td>\n",
              "      <td>IDENTIFICAÇÃO ESPECIAL - SEM CPF/CNPJ - 000001</td>\n",
              "      <td>Fevereiro</td>\n",
              "      <td>FOLHA DE PAGAMENTO</td>\n",
              "      <td>1836-2018</td>\n",
              "      <td>PREFEITURA MUNICIPAL DE ARARAQUARA</td>\n",
              "      <td>43675.38</td>\n",
              "    </tr>\n",
              "    <tr>\n",
              "      <th>2847</th>\n",
              "      <td>07/02/2018</td>\n",
              "      <td>Valor Pago</td>\n",
              "      <td>CNPJ - PESSOA JURÍDICA - 00360305028203</td>\n",
              "      <td>Fevereiro</td>\n",
              "      <td>FUNDO DE GARANTIA P/ TEMPO DE SERVICO</td>\n",
              "      <td>2221-2018</td>\n",
              "      <td>PREFEITURA MUNICIPAL DE ARARAQUARA</td>\n",
              "      <td>38646.97</td>\n",
              "    </tr>\n",
              "    <tr>\n",
              "      <th>2848</th>\n",
              "      <td>02/02/2018</td>\n",
              "      <td>Valor Pago</td>\n",
              "      <td>IDENTIFICAÇÃO ESPECIAL - SEM CPF/CNPJ - 000001</td>\n",
              "      <td>Fevereiro</td>\n",
              "      <td>FOLHA DE PAGAMENTO</td>\n",
              "      <td>2068-2018</td>\n",
              "      <td>PREFEITURA MUNICIPAL DE ARARAQUARA</td>\n",
              "      <td>1444.25</td>\n",
              "    </tr>\n",
              "    <tr>\n",
              "      <th>2849</th>\n",
              "      <td>07/02/2018</td>\n",
              "      <td>Valor Pago</td>\n",
              "      <td>CNPJ - PESSOA JURÍDICA - 00360305028203</td>\n",
              "      <td>Fevereiro</td>\n",
              "      <td>FUNDO DE GARANTIA P/ TEMPO DE SERVICO</td>\n",
              "      <td>2123-2018</td>\n",
              "      <td>PREFEITURA MUNICIPAL DE ARARAQUARA</td>\n",
              "      <td>34121.49</td>\n",
              "    </tr>\n",
              "    <tr>\n",
              "      <th>2851</th>\n",
              "      <td>02/02/2018</td>\n",
              "      <td>Valor Pago</td>\n",
              "      <td>IDENTIFICAÇÃO ESPECIAL - SEM CPF/CNPJ - 000001</td>\n",
              "      <td>Fevereiro</td>\n",
              "      <td>FOLHA DE PAGAMENTO</td>\n",
              "      <td>1949-2018</td>\n",
              "      <td>PREFEITURA MUNICIPAL DE ARARAQUARA</td>\n",
              "      <td>3133.12</td>\n",
              "    </tr>\n",
              "  </tbody>\n",
              "</table>\n",
              "</div>"
            ],
            "text/plain": [
              "     dt_emissao_despesa  ... vl_despesa\n",
              "2846         02/02/2018  ...   43675.38\n",
              "2847         07/02/2018  ...   38646.97\n",
              "2848         02/02/2018  ...    1444.25\n",
              "2849         07/02/2018  ...   34121.49\n",
              "2851         02/02/2018  ...    3133.12\n",
              "\n",
              "[5 rows x 8 columns]"
            ]
          },
          "metadata": {
            "tags": []
          },
          "execution_count": 15
        }
      ]
    },
    {
      "cell_type": "code",
      "metadata": {
        "id": "PNaT5Uv2MDzs",
        "colab_type": "code",
        "outputId": "2f9da3fc-75f2-4519-bb90-f6e97e358052",
        "colab": {
          "base_uri": "https://localhost:8080/",
          "height": 1000
        }
      },
      "source": [
        "# Agrupando e agregando por id_fornecedor\n",
        "grouped_by_fornecedor = df_cnpj_pago.groupby('id_fornecedor').agg(\n",
        "    {\"id_fornecedor\": \"unique\", \"vl_despesa\": \"sum\", \"nm_fornecedor\":\"unique\"})\n",
        "df_agg_fornecedor = grouped_by_fornecedor.sort_values(\"vl_despesa\", ascending=False)\n",
        "df_agg_fornecedor[\"nm_fornecedor\"] = df_agg_fornecedor[\"nm_fornecedor\"].apply(\n",
        "    lambda n: ', '.join(n))\n",
        "df_agg_fornecedor.head(20)"
      ],
      "execution_count": 16,
      "outputs": [
        {
          "output_type": "execute_result",
          "data": {
            "text/html": [
              "<div>\n",
              "<style scoped>\n",
              "    .dataframe tbody tr th:only-of-type {\n",
              "        vertical-align: middle;\n",
              "    }\n",
              "\n",
              "    .dataframe tbody tr th {\n",
              "        vertical-align: top;\n",
              "    }\n",
              "\n",
              "    .dataframe thead th {\n",
              "        text-align: right;\n",
              "    }\n",
              "</style>\n",
              "<table border=\"1\" class=\"dataframe\">\n",
              "  <thead>\n",
              "    <tr style=\"text-align: right;\">\n",
              "      <th></th>\n",
              "      <th>id_fornecedor</th>\n",
              "      <th>vl_despesa</th>\n",
              "      <th>nm_fornecedor</th>\n",
              "    </tr>\n",
              "    <tr>\n",
              "      <th>id_fornecedor</th>\n",
              "      <th></th>\n",
              "      <th></th>\n",
              "      <th></th>\n",
              "    </tr>\n",
              "  </thead>\n",
              "  <tbody>\n",
              "    <tr>\n",
              "      <th>IDENTIFICAÇÃO ESPECIAL - SEM CPF/CNPJ - 000001</th>\n",
              "      <td>[IDENTIFICAÇÃO ESPECIAL - SEM CPF/CNPJ - 000001]</td>\n",
              "      <td>20556366.61</td>\n",
              "      <td>FOLHA DE PAGAMENTO</td>\n",
              "    </tr>\n",
              "    <tr>\n",
              "      <th>CNPJ - PESSOA JURÍDICA - 29979036000140</th>\n",
              "      <td>[CNPJ - PESSOA JURÍDICA - 29979036000140]</td>\n",
              "      <td>5699237.58</td>\n",
              "      <td>INSTITUTO NACIONAL DO SEGURO SOCIAL</td>\n",
              "    </tr>\n",
              "    <tr>\n",
              "      <th>CNPJ - PESSOA JURÍDICA - 43964931000112</th>\n",
              "      <td>[CNPJ - PESSOA JURÍDICA - 43964931000112]</td>\n",
              "      <td>3074285.19</td>\n",
              "      <td>IRMANDADE STA.CASA DE MISERIC.ARARAQ.</td>\n",
              "    </tr>\n",
              "    <tr>\n",
              "      <th>IDENTIFICAÇÃO ESPECIAL - SEM CPF/CNPJ - 101248</th>\n",
              "      <td>[IDENTIFICAÇÃO ESPECIAL - SEM CPF/CNPJ - 101248]</td>\n",
              "      <td>2456349.33</td>\n",
              "      <td>FOLHA DE PAGAMENTO</td>\n",
              "    </tr>\n",
              "    <tr>\n",
              "      <th>CNPJ - PESSOA JURÍDICA - 33050196000188</th>\n",
              "      <td>[CNPJ - PESSOA JURÍDICA - 33050196000188]</td>\n",
              "      <td>1670058.12</td>\n",
              "      <td>COMPANHIA PAULISTA DE FORCA E LUZ, COMPANHIA PAULISTA DE FORÇA E LUZ, CPFL - COMPANHIA PAULISTA DE FORCA E LUZ</td>\n",
              "    </tr>\n",
              "    <tr>\n",
              "      <th>CNPJ - PESSOA JURÍDICA - 00360305028203</th>\n",
              "      <td>[CNPJ - PESSOA JURÍDICA - 00360305028203]</td>\n",
              "      <td>1573465.26</td>\n",
              "      <td>FUNDO DE GARANTIA P/ TEMPO DE SERVICO, CAIXA ECONOMICA FEDERAL</td>\n",
              "    </tr>\n",
              "    <tr>\n",
              "      <th>CNPJ - PESSOA JURÍDICA - 06302492000156</th>\n",
              "      <td>[CNPJ - PESSOA JURÍDICA - 06302492000156]</td>\n",
              "      <td>1244299.28</td>\n",
              "      <td>TRIBUNAL DE JUSTICA DO ESTADO DE SAO PAULO</td>\n",
              "    </tr>\n",
              "    <tr>\n",
              "      <th>IDENTIFICAÇÃO ESPECIAL - SEM CPF/CNPJ - 00001800001</th>\n",
              "      <td>[IDENTIFICAÇÃO ESPECIAL - SEM CPF/CNPJ - 00001800001]</td>\n",
              "      <td>1158536.17</td>\n",
              "      <td>FOLHA DE PAGAMENTO</td>\n",
              "    </tr>\n",
              "    <tr>\n",
              "      <th>IDENTIFICAÇÃO ESPECIAL - SEM CPF/CNPJ - 000011</th>\n",
              "      <td>[IDENTIFICAÇÃO ESPECIAL - SEM CPF/CNPJ - 000011]</td>\n",
              "      <td>759451.31</td>\n",
              "      <td>PASEPPROGRFORMPATRIMSERVPUBLICO</td>\n",
              "    </tr>\n",
              "    <tr>\n",
              "      <th>CNPJ - PESSOA JURÍDICA - 56893852000100</th>\n",
              "      <td>[CNPJ - PESSOA JURÍDICA - 56893852000100]</td>\n",
              "      <td>584174.31</td>\n",
              "      <td>UNID.DE TRAT.DIALITICO ARARAQ.S/C LTDA</td>\n",
              "    </tr>\n",
              "    <tr>\n",
              "      <th>CNPJ - PESSOA JURÍDICA - 37831567000110</th>\n",
              "      <td>[CNPJ - PESSOA JURÍDICA - 37831567000110]</td>\n",
              "      <td>542601.42</td>\n",
              "      <td>SISTEMMA ASSESSORIA E CONSTRUÇÕES LTDA</td>\n",
              "    </tr>\n",
              "    <tr>\n",
              "      <th>CNPJ - PESSOA JURÍDICA - 07229374000122</th>\n",
              "      <td>[CNPJ - PESSOA JURÍDICA - 07229374000122]</td>\n",
              "      <td>524345.00</td>\n",
              "      <td>INSTITUTO CORPORE PARA DESENVOLVIMENTO DA QUALIDADE DE VIDA</td>\n",
              "    </tr>\n",
              "    <tr>\n",
              "      <th>CNPJ - PESSOA JURÍDICA - 59612374000100</th>\n",
              "      <td>[CNPJ - PESSOA JURÍDICA - 59612374000100]</td>\n",
              "      <td>518751.22</td>\n",
              "      <td>ELETRO HIDRAULICA AGUIA BRANCA LTDA</td>\n",
              "    </tr>\n",
              "    <tr>\n",
              "      <th>IDENTIFICAÇÃO ESPECIAL - SEM CPF/CNPJ - 1355</th>\n",
              "      <td>[IDENTIFICAÇÃO ESPECIAL - SEM CPF/CNPJ - 1355]</td>\n",
              "      <td>467612.28</td>\n",
              "      <td>FOLHA DE PAGAMENTO - SERVIDORES ATIVOS</td>\n",
              "    </tr>\n",
              "    <tr>\n",
              "      <th>CNPJ - PESSOA JURÍDICA - 24082198000168</th>\n",
              "      <td>[CNPJ - PESSOA JURÍDICA - 24082198000168]</td>\n",
              "      <td>397567.79</td>\n",
              "      <td>CONSORCIO ARARAQUARA DE TRANSPORTES, CONSORCIO ARARAQUARA DE TRANSPORTE</td>\n",
              "    </tr>\n",
              "    <tr>\n",
              "      <th>CNPJ - PESSOA JURÍDICA - 14986862000140</th>\n",
              "      <td>[CNPJ - PESSOA JURÍDICA - 14986862000140]</td>\n",
              "      <td>392720.40</td>\n",
              "      <td>FUNGOTA - FUNDACAO MUNICIPAL IRENE SIQUEIRA ALVES</td>\n",
              "    </tr>\n",
              "    <tr>\n",
              "      <th>CNPJ - PESSOA JURÍDICA - 53591103000130</th>\n",
              "      <td>[CNPJ - PESSOA JURÍDICA - 53591103000130]</td>\n",
              "      <td>372520.14</td>\n",
              "      <td>FLORESTANA PAISAGISMO, CONSTRUÇÕES E SERVIÇOS LTDA</td>\n",
              "    </tr>\n",
              "    <tr>\n",
              "      <th>CNPJ - PESSOA JURÍDICA - 06344497000141</th>\n",
              "      <td>[CNPJ - PESSOA JURÍDICA - 06344497000141]</td>\n",
              "      <td>336128.99</td>\n",
              "      <td>VEROCHEQUE REFEIÇÕES LTDA</td>\n",
              "    </tr>\n",
              "    <tr>\n",
              "      <th>CNPJ - PESSOA JURÍDICA - 74434911000163</th>\n",
              "      <td>[CNPJ - PESSOA JURÍDICA - 74434911000163]</td>\n",
              "      <td>254088.10</td>\n",
              "      <td>ARCO-IRIS SINALIZAÇÃO VIÁRIA LTDA</td>\n",
              "    </tr>\n",
              "    <tr>\n",
              "      <th>CNPJ - PESSOA JURÍDICA - 45271137000119</th>\n",
              "      <td>[CNPJ - PESSOA JURÍDICA - 45271137000119]</td>\n",
              "      <td>244763.89</td>\n",
              "      <td>HOSPITAL PSIQ.ESPIR. CAIRBAR SCHUTEL</td>\n",
              "    </tr>\n",
              "  </tbody>\n",
              "</table>\n",
              "</div>"
            ],
            "text/plain": [
              "                                                                                             id_fornecedor  ...                                                                                                   nm_fornecedor\n",
              "id_fornecedor                                                                                               ...                                                                                                                \n",
              "IDENTIFICAÇÃO ESPECIAL - SEM CPF/CNPJ - 000001            [IDENTIFICAÇÃO ESPECIAL - SEM CPF/CNPJ - 000001]  ...                                                                                              FOLHA DE PAGAMENTO\n",
              "CNPJ - PESSOA JURÍDICA - 29979036000140                          [CNPJ - PESSOA JURÍDICA - 29979036000140]  ...                                                                             INSTITUTO NACIONAL DO SEGURO SOCIAL\n",
              "CNPJ - PESSOA JURÍDICA - 43964931000112                          [CNPJ - PESSOA JURÍDICA - 43964931000112]  ...                                                                           IRMANDADE STA.CASA DE MISERIC.ARARAQ.\n",
              "IDENTIFICAÇÃO ESPECIAL - SEM CPF/CNPJ - 101248            [IDENTIFICAÇÃO ESPECIAL - SEM CPF/CNPJ - 101248]  ...                                                                                              FOLHA DE PAGAMENTO\n",
              "CNPJ - PESSOA JURÍDICA - 33050196000188                          [CNPJ - PESSOA JURÍDICA - 33050196000188]  ...  COMPANHIA PAULISTA DE FORCA E LUZ, COMPANHIA PAULISTA DE FORÇA E LUZ, CPFL - COMPANHIA PAULISTA DE FORCA E LUZ\n",
              "CNPJ - PESSOA JURÍDICA - 00360305028203                          [CNPJ - PESSOA JURÍDICA - 00360305028203]  ...                                                  FUNDO DE GARANTIA P/ TEMPO DE SERVICO, CAIXA ECONOMICA FEDERAL\n",
              "CNPJ - PESSOA JURÍDICA - 06302492000156                          [CNPJ - PESSOA JURÍDICA - 06302492000156]  ...                                                                      TRIBUNAL DE JUSTICA DO ESTADO DE SAO PAULO\n",
              "IDENTIFICAÇÃO ESPECIAL - SEM CPF/CNPJ - 00001800001  [IDENTIFICAÇÃO ESPECIAL - SEM CPF/CNPJ - 00001800001]  ...                                                                                              FOLHA DE PAGAMENTO\n",
              "IDENTIFICAÇÃO ESPECIAL - SEM CPF/CNPJ - 000011            [IDENTIFICAÇÃO ESPECIAL - SEM CPF/CNPJ - 000011]  ...                                                                                 PASEPPROGRFORMPATRIMSERVPUBLICO\n",
              "CNPJ - PESSOA JURÍDICA - 56893852000100                          [CNPJ - PESSOA JURÍDICA - 56893852000100]  ...                                                                          UNID.DE TRAT.DIALITICO ARARAQ.S/C LTDA\n",
              "CNPJ - PESSOA JURÍDICA - 37831567000110                          [CNPJ - PESSOA JURÍDICA - 37831567000110]  ...                                                                          SISTEMMA ASSESSORIA E CONSTRUÇÕES LTDA\n",
              "CNPJ - PESSOA JURÍDICA - 07229374000122                          [CNPJ - PESSOA JURÍDICA - 07229374000122]  ...                                                     INSTITUTO CORPORE PARA DESENVOLVIMENTO DA QUALIDADE DE VIDA\n",
              "CNPJ - PESSOA JURÍDICA - 59612374000100                          [CNPJ - PESSOA JURÍDICA - 59612374000100]  ...                                                                             ELETRO HIDRAULICA AGUIA BRANCA LTDA\n",
              "IDENTIFICAÇÃO ESPECIAL - SEM CPF/CNPJ - 1355                [IDENTIFICAÇÃO ESPECIAL - SEM CPF/CNPJ - 1355]  ...                                                                          FOLHA DE PAGAMENTO - SERVIDORES ATIVOS\n",
              "CNPJ - PESSOA JURÍDICA - 24082198000168                          [CNPJ - PESSOA JURÍDICA - 24082198000168]  ...                                         CONSORCIO ARARAQUARA DE TRANSPORTES, CONSORCIO ARARAQUARA DE TRANSPORTE\n",
              "CNPJ - PESSOA JURÍDICA - 14986862000140                          [CNPJ - PESSOA JURÍDICA - 14986862000140]  ...                                                               FUNGOTA - FUNDACAO MUNICIPAL IRENE SIQUEIRA ALVES\n",
              "CNPJ - PESSOA JURÍDICA - 53591103000130                          [CNPJ - PESSOA JURÍDICA - 53591103000130]  ...                                                              FLORESTANA PAISAGISMO, CONSTRUÇÕES E SERVIÇOS LTDA\n",
              "CNPJ - PESSOA JURÍDICA - 06344497000141                          [CNPJ - PESSOA JURÍDICA - 06344497000141]  ...                                                                                       VEROCHEQUE REFEIÇÕES LTDA\n",
              "CNPJ - PESSOA JURÍDICA - 74434911000163                          [CNPJ - PESSOA JURÍDICA - 74434911000163]  ...                                                                               ARCO-IRIS SINALIZAÇÃO VIÁRIA LTDA\n",
              "CNPJ - PESSOA JURÍDICA - 45271137000119                          [CNPJ - PESSOA JURÍDICA - 45271137000119]  ...                                                                            HOSPITAL PSIQ.ESPIR. CAIRBAR SCHUTEL\n",
              "\n",
              "[20 rows x 3 columns]"
            ]
          },
          "metadata": {
            "tags": []
          },
          "execution_count": 16
        }
      ]
    },
    {
      "cell_type": "code",
      "metadata": {
        "id": "6rziUHvUNYFG",
        "colab_type": "code",
        "outputId": "002d6354-87db-4c0b-a84a-a60946aed92b",
        "colab": {
          "base_uri": "https://localhost:8080/",
          "height": 34
        }
      },
      "source": [
        "import wget\n",
        "data_url = 'https://dl.fbaipublicfiles.com/fasttext/vectors-wiki/wiki.pt.vec'\n",
        "vec_file = '../data/wiki.pt.vec'\n",
        "wget.download(data_url, vec_file)"
      ],
      "execution_count": 17,
      "outputs": [
        {
          "output_type": "execute_result",
          "data": {
            "text/plain": [
              "'../data/wiki.pt.vec'"
            ]
          },
          "metadata": {
            "tags": []
          },
          "execution_count": 17
        }
      ]
    },
    {
      "cell_type": "code",
      "metadata": {
        "id": "D_fjl6xej2vM",
        "colab_type": "code",
        "outputId": "085726e7-1666-45f1-c200-068005d7c338",
        "colab": {
          "base_uri": "https://localhost:8080/",
          "height": 72
        }
      },
      "source": [
        "from gensim.models import KeyedVectors\n",
        "model = KeyedVectors.load_word2vec_format('/data/wiki.pt.vec')"
      ],
      "execution_count": 18,
      "outputs": [
        {
          "output_type": "stream",
          "text": [
            "/usr/local/lib/python3.6/dist-packages/smart_open/smart_open_lib.py:398: UserWarning: This function is deprecated, use smart_open.open instead. See the migration notes for details: https://github.com/RaRe-Technologies/smart_open/blob/master/README.rst#migrating-to-the-new-open-function\n",
            "  'See the migration notes for details: %s' % _MIGRATION_NOTES_URL\n"
          ],
          "name": "stderr"
        }
      ]
    },
    {
      "cell_type": "code",
      "metadata": {
        "id": "jQp41NZRocWI",
        "colab_type": "code",
        "outputId": "29648a62-1b55-4c9c-9598-a30f12f41359",
        "colab": {
          "base_uri": "https://localhost:8080/",
          "height": 178
        }
      },
      "source": [
        "# Tests if it is actually working\n",
        "print(model.n_similarity(['saneamento', 'encanamento'], ['esgoto']))\n",
        "print(model.n_similarity(['folha', 'de', 'pagamento'], ['esgoto']))\n",
        "print(model.n_similarity(\"ARCO IRIS SINALIZAÇÃO VIÁRIA LTDA\".lower().split(), \n",
        "                         [\"via\", \"transporte\", \"rua\", \"asfalto\", \"recapeamento\", \n",
        "                          \"carro\"]))\n",
        "print(model.similarity('saneamento', 'professor'))\n",
        "print(\"araraquauara\" in model)\n",
        "print(\"araraquara\" in model)"
      ],
      "execution_count": 106,
      "outputs": [
        {
          "output_type": "stream",
          "text": [
            "0.74594736\n",
            "0.2571344\n",
            "0.65390176\n",
            "0.16184132\n",
            "False\n",
            "True\n"
          ],
          "name": "stdout"
        },
        {
          "output_type": "stream",
          "text": [
            "/usr/local/lib/python3.6/dist-packages/gensim/matutils.py:737: FutureWarning: Conversion of the second argument of issubdtype from `int` to `np.signedinteger` is deprecated. In future, it will be treated as `np.int64 == np.dtype(int).type`.\n",
            "  if np.issubdtype(vec.dtype, np.int):\n"
          ],
          "name": "stderr"
        }
      ]
    },
    {
      "cell_type": "code",
      "metadata": {
        "id": "_qoa0fJTMDzy",
        "colab_type": "code",
        "colab": {}
      },
      "source": [
        "axis = {'saneamento': ['saneamento', 'esgoto', 'encanamento', 'água', \n",
        "                       'potável'],\n",
        "        'educação': ['educação', 'creche', 'escola', 'faculdade', 'professor',\n",
        "                    'conhecimento'],\n",
        "        'meio-ambiente': ['meio', 'ambiente', 'preservação', 'fauna', 'flora'],\n",
        "        'saúde': ['saúde', 'hospital', 'hospitalar', 'posto', 'vacina', \n",
        "                  'ambulatório'], \n",
        "        'transporte': ['transporte', 'coletivo', 'rua', 'asfalto', \n",
        "                       'recapeamento', 'trânsito', 'sinalização', 'rodovia'],\n",
        "        'energia': ['energia', 'cpfl', 'luz'],\n",
        "        'prefeitura': ['prefeitura', 'folha']\n",
        "       }"
      ],
      "execution_count": 0,
      "outputs": []
    },
    {
      "cell_type": "code",
      "metadata": {
        "id": "gojPlnGohxOJ",
        "colab_type": "code",
        "outputId": "936f1774-7737-4637-a3b4-8fb4e43b2128",
        "colab": {
          "base_uri": "https://localhost:8080/",
          "height": 1000
        }
      },
      "source": [
        "def lower_n_clean_name(s, model):\n",
        "  \"\"\"Set s to be lower case and remove points. Also removes all words that are \n",
        "    not in the model.\"\"\"\n",
        "  s = s.lower()\n",
        "  s = s.replace(\".\", \" \")\n",
        "  s = s.replace(\",\", \" \")\n",
        "  s = s.replace(\";\", \" \")\n",
        "  s = s.replace(\"miseric\", \"misericórdia\")\n",
        "  s = s.replace(\"sta.casa\", \"santa casa\")\n",
        "  s = s.replace(\"araraq\", \"araraquara\")\n",
        "  s = \" \".join([x for x in s.split() if x in model])\n",
        "  return s\n",
        "\n",
        "\n",
        "def verify_similarity(subject, provider_name):\n",
        "  \"\"\" Given a provider name, determines if this provider provides services \n",
        "      related to the subject. \"\"\"\n",
        "  provider_name = lower_n_clean_name(provider_name, model)\n",
        "  is_similar = False\n",
        "  provider_words = provider_name.split()\n",
        "  themes = subject\n",
        "  try:\n",
        "    similarity = model.n_similarity(provider_words, themes)\n",
        "#     print(\"Similarity between\", themes, \"and\", provider_words, \"is: \", similarity)\n",
        "    is_similar = similarity > .6\n",
        "    if is_similar:\n",
        "      return True\n",
        "  except Exception as e:\n",
        "    print(e)\n",
        "    pass\n",
        "  return False\n",
        " \n",
        "expenses_provider_name = df_agg_fornecedor['nm_fornecedor']\n",
        "# print(expenses_provider_name)\n",
        "expense_axis = []\n",
        "for provider_name in expenses_provider_name:\n",
        "  expense_type = None\n",
        "  for subject in axis:\n",
        "    if verify_similarity(axis[subject], provider_name):\n",
        "      expense_type = subject\n",
        "#       print(\"Classifying\", provider_name, \"as\", expense_type)\n",
        "      break\n",
        "  expense_axis.append(expense_type)\n",
        "df_expense_type = df_agg_fornecedor\n",
        "df_expense_type['tipo_gasto'] = expense_axis\n",
        "df_expense_type.head(20)"
      ],
      "execution_count": 105,
      "outputs": [
        {
          "output_type": "stream",
          "text": [
            "/usr/local/lib/python3.6/dist-packages/gensim/matutils.py:737: FutureWarning: Conversion of the second argument of issubdtype from `int` to `np.signedinteger` is deprecated. In future, it will be treated as `np.int64 == np.dtype(int).type`.\n",
            "  if np.issubdtype(vec.dtype, np.int):\n"
          ],
          "name": "stderr"
        },
        {
          "output_type": "stream",
          "text": [
            "At least one of the passed list is empty.\n",
            "At least one of the passed list is empty.\n",
            "At least one of the passed list is empty.\n",
            "At least one of the passed list is empty.\n",
            "At least one of the passed list is empty.\n",
            "At least one of the passed list is empty.\n",
            "At least one of the passed list is empty.\n"
          ],
          "name": "stdout"
        },
        {
          "output_type": "execute_result",
          "data": {
            "text/html": [
              "<div>\n",
              "<style scoped>\n",
              "    .dataframe tbody tr th:only-of-type {\n",
              "        vertical-align: middle;\n",
              "    }\n",
              "\n",
              "    .dataframe tbody tr th {\n",
              "        vertical-align: top;\n",
              "    }\n",
              "\n",
              "    .dataframe thead th {\n",
              "        text-align: right;\n",
              "    }\n",
              "</style>\n",
              "<table border=\"1\" class=\"dataframe\">\n",
              "  <thead>\n",
              "    <tr style=\"text-align: right;\">\n",
              "      <th></th>\n",
              "      <th>id_fornecedor</th>\n",
              "      <th>vl_despesa</th>\n",
              "      <th>nm_fornecedor</th>\n",
              "      <th>tipo_gasto</th>\n",
              "    </tr>\n",
              "    <tr>\n",
              "      <th>id_fornecedor</th>\n",
              "      <th></th>\n",
              "      <th></th>\n",
              "      <th></th>\n",
              "      <th></th>\n",
              "    </tr>\n",
              "  </thead>\n",
              "  <tbody>\n",
              "    <tr>\n",
              "      <th>IDENTIFICAÇÃO ESPECIAL - SEM CPF/CNPJ - 000001</th>\n",
              "      <td>[IDENTIFICAÇÃO ESPECIAL - SEM CPF/CNPJ - 000001]</td>\n",
              "      <td>20556366.61</td>\n",
              "      <td>FOLHA DE PAGAMENTO</td>\n",
              "      <td>prefeitura</td>\n",
              "    </tr>\n",
              "    <tr>\n",
              "      <th>CNPJ - PESSOA JURÍDICA - 29979036000140</th>\n",
              "      <td>[CNPJ - PESSOA JURÍDICA - 29979036000140]</td>\n",
              "      <td>5699237.58</td>\n",
              "      <td>INSTITUTO NACIONAL DO SEGURO SOCIAL</td>\n",
              "      <td>None</td>\n",
              "    </tr>\n",
              "    <tr>\n",
              "      <th>CNPJ - PESSOA JURÍDICA - 43964931000112</th>\n",
              "      <td>[CNPJ - PESSOA JURÍDICA - 43964931000112]</td>\n",
              "      <td>3074285.19</td>\n",
              "      <td>IRMANDADE STA.CASA DE MISERIC.ARARAQ.</td>\n",
              "      <td>None</td>\n",
              "    </tr>\n",
              "    <tr>\n",
              "      <th>IDENTIFICAÇÃO ESPECIAL - SEM CPF/CNPJ - 101248</th>\n",
              "      <td>[IDENTIFICAÇÃO ESPECIAL - SEM CPF/CNPJ - 101248]</td>\n",
              "      <td>2456349.33</td>\n",
              "      <td>FOLHA DE PAGAMENTO</td>\n",
              "      <td>prefeitura</td>\n",
              "    </tr>\n",
              "    <tr>\n",
              "      <th>CNPJ - PESSOA JURÍDICA - 33050196000188</th>\n",
              "      <td>[CNPJ - PESSOA JURÍDICA - 33050196000188]</td>\n",
              "      <td>1670058.12</td>\n",
              "      <td>COMPANHIA PAULISTA DE FORCA E LUZ, COMPANHIA PAULISTA DE FORÇA E LUZ, CPFL - COMPANHIA PAULISTA DE FORCA E LUZ</td>\n",
              "      <td>energia</td>\n",
              "    </tr>\n",
              "    <tr>\n",
              "      <th>CNPJ - PESSOA JURÍDICA - 00360305028203</th>\n",
              "      <td>[CNPJ - PESSOA JURÍDICA - 00360305028203]</td>\n",
              "      <td>1573465.26</td>\n",
              "      <td>FUNDO DE GARANTIA P/ TEMPO DE SERVICO, CAIXA ECONOMICA FEDERAL</td>\n",
              "      <td>None</td>\n",
              "    </tr>\n",
              "    <tr>\n",
              "      <th>CNPJ - PESSOA JURÍDICA - 06302492000156</th>\n",
              "      <td>[CNPJ - PESSOA JURÍDICA - 06302492000156]</td>\n",
              "      <td>1244299.28</td>\n",
              "      <td>TRIBUNAL DE JUSTICA DO ESTADO DE SAO PAULO</td>\n",
              "      <td>None</td>\n",
              "    </tr>\n",
              "    <tr>\n",
              "      <th>IDENTIFICAÇÃO ESPECIAL - SEM CPF/CNPJ - 00001800001</th>\n",
              "      <td>[IDENTIFICAÇÃO ESPECIAL - SEM CPF/CNPJ - 00001800001]</td>\n",
              "      <td>1158536.17</td>\n",
              "      <td>FOLHA DE PAGAMENTO</td>\n",
              "      <td>prefeitura</td>\n",
              "    </tr>\n",
              "    <tr>\n",
              "      <th>IDENTIFICAÇÃO ESPECIAL - SEM CPF/CNPJ - 000011</th>\n",
              "      <td>[IDENTIFICAÇÃO ESPECIAL - SEM CPF/CNPJ - 000011]</td>\n",
              "      <td>759451.31</td>\n",
              "      <td>PASEPPROGRFORMPATRIMSERVPUBLICO</td>\n",
              "      <td>None</td>\n",
              "    </tr>\n",
              "    <tr>\n",
              "      <th>CNPJ - PESSOA JURÍDICA - 56893852000100</th>\n",
              "      <td>[CNPJ - PESSOA JURÍDICA - 56893852000100]</td>\n",
              "      <td>584174.31</td>\n",
              "      <td>UNID.DE TRAT.DIALITICO ARARAQ.S/C LTDA</td>\n",
              "      <td>None</td>\n",
              "    </tr>\n",
              "    <tr>\n",
              "      <th>CNPJ - PESSOA JURÍDICA - 37831567000110</th>\n",
              "      <td>[CNPJ - PESSOA JURÍDICA - 37831567000110]</td>\n",
              "      <td>542601.42</td>\n",
              "      <td>SISTEMMA ASSESSORIA E CONSTRUÇÕES LTDA</td>\n",
              "      <td>None</td>\n",
              "    </tr>\n",
              "    <tr>\n",
              "      <th>CNPJ - PESSOA JURÍDICA - 07229374000122</th>\n",
              "      <td>[CNPJ - PESSOA JURÍDICA - 07229374000122]</td>\n",
              "      <td>524345.00</td>\n",
              "      <td>INSTITUTO CORPORE PARA DESENVOLVIMENTO DA QUALIDADE DE VIDA</td>\n",
              "      <td>educação</td>\n",
              "    </tr>\n",
              "    <tr>\n",
              "      <th>CNPJ - PESSOA JURÍDICA - 59612374000100</th>\n",
              "      <td>[CNPJ - PESSOA JURÍDICA - 59612374000100]</td>\n",
              "      <td>518751.22</td>\n",
              "      <td>ELETRO HIDRAULICA AGUIA BRANCA LTDA</td>\n",
              "      <td>None</td>\n",
              "    </tr>\n",
              "    <tr>\n",
              "      <th>IDENTIFICAÇÃO ESPECIAL - SEM CPF/CNPJ - 1355</th>\n",
              "      <td>[IDENTIFICAÇÃO ESPECIAL - SEM CPF/CNPJ - 1355]</td>\n",
              "      <td>467612.28</td>\n",
              "      <td>FOLHA DE PAGAMENTO - SERVIDORES ATIVOS</td>\n",
              "      <td>prefeitura</td>\n",
              "    </tr>\n",
              "    <tr>\n",
              "      <th>CNPJ - PESSOA JURÍDICA - 24082198000168</th>\n",
              "      <td>[CNPJ - PESSOA JURÍDICA - 24082198000168]</td>\n",
              "      <td>397567.79</td>\n",
              "      <td>CONSORCIO ARARAQUARA DE TRANSPORTES, CONSORCIO ARARAQUARA DE TRANSPORTE</td>\n",
              "      <td>transporte</td>\n",
              "    </tr>\n",
              "    <tr>\n",
              "      <th>CNPJ - PESSOA JURÍDICA - 14986862000140</th>\n",
              "      <td>[CNPJ - PESSOA JURÍDICA - 14986862000140]</td>\n",
              "      <td>392720.40</td>\n",
              "      <td>FUNGOTA - FUNDACAO MUNICIPAL IRENE SIQUEIRA ALVES</td>\n",
              "      <td>None</td>\n",
              "    </tr>\n",
              "    <tr>\n",
              "      <th>CNPJ - PESSOA JURÍDICA - 53591103000130</th>\n",
              "      <td>[CNPJ - PESSOA JURÍDICA - 53591103000130]</td>\n",
              "      <td>372520.14</td>\n",
              "      <td>FLORESTANA PAISAGISMO, CONSTRUÇÕES E SERVIÇOS LTDA</td>\n",
              "      <td>transporte</td>\n",
              "    </tr>\n",
              "    <tr>\n",
              "      <th>CNPJ - PESSOA JURÍDICA - 06344497000141</th>\n",
              "      <td>[CNPJ - PESSOA JURÍDICA - 06344497000141]</td>\n",
              "      <td>336128.99</td>\n",
              "      <td>VEROCHEQUE REFEIÇÕES LTDA</td>\n",
              "      <td>None</td>\n",
              "    </tr>\n",
              "    <tr>\n",
              "      <th>CNPJ - PESSOA JURÍDICA - 74434911000163</th>\n",
              "      <td>[CNPJ - PESSOA JURÍDICA - 74434911000163]</td>\n",
              "      <td>254088.10</td>\n",
              "      <td>ARCO-IRIS SINALIZAÇÃO VIÁRIA LTDA</td>\n",
              "      <td>transporte</td>\n",
              "    </tr>\n",
              "    <tr>\n",
              "      <th>CNPJ - PESSOA JURÍDICA - 45271137000119</th>\n",
              "      <td>[CNPJ - PESSOA JURÍDICA - 45271137000119]</td>\n",
              "      <td>244763.89</td>\n",
              "      <td>HOSPITAL PSIQ.ESPIR. CAIRBAR SCHUTEL</td>\n",
              "      <td>saúde</td>\n",
              "    </tr>\n",
              "  </tbody>\n",
              "</table>\n",
              "</div>"
            ],
            "text/plain": [
              "                                                                                             id_fornecedor  ...  tipo_gasto\n",
              "id_fornecedor                                                                                               ...            \n",
              "IDENTIFICAÇÃO ESPECIAL - SEM CPF/CNPJ - 000001            [IDENTIFICAÇÃO ESPECIAL - SEM CPF/CNPJ - 000001]  ...  prefeitura\n",
              "CNPJ - PESSOA JURÍDICA - 29979036000140                          [CNPJ - PESSOA JURÍDICA - 29979036000140]  ...        None\n",
              "CNPJ - PESSOA JURÍDICA - 43964931000112                          [CNPJ - PESSOA JURÍDICA - 43964931000112]  ...        None\n",
              "IDENTIFICAÇÃO ESPECIAL - SEM CPF/CNPJ - 101248            [IDENTIFICAÇÃO ESPECIAL - SEM CPF/CNPJ - 101248]  ...  prefeitura\n",
              "CNPJ - PESSOA JURÍDICA - 33050196000188                          [CNPJ - PESSOA JURÍDICA - 33050196000188]  ...     energia\n",
              "CNPJ - PESSOA JURÍDICA - 00360305028203                          [CNPJ - PESSOA JURÍDICA - 00360305028203]  ...        None\n",
              "CNPJ - PESSOA JURÍDICA - 06302492000156                          [CNPJ - PESSOA JURÍDICA - 06302492000156]  ...        None\n",
              "IDENTIFICAÇÃO ESPECIAL - SEM CPF/CNPJ - 00001800001  [IDENTIFICAÇÃO ESPECIAL - SEM CPF/CNPJ - 00001800001]  ...  prefeitura\n",
              "IDENTIFICAÇÃO ESPECIAL - SEM CPF/CNPJ - 000011            [IDENTIFICAÇÃO ESPECIAL - SEM CPF/CNPJ - 000011]  ...        None\n",
              "CNPJ - PESSOA JURÍDICA - 56893852000100                          [CNPJ - PESSOA JURÍDICA - 56893852000100]  ...        None\n",
              "CNPJ - PESSOA JURÍDICA - 37831567000110                          [CNPJ - PESSOA JURÍDICA - 37831567000110]  ...        None\n",
              "CNPJ - PESSOA JURÍDICA - 07229374000122                          [CNPJ - PESSOA JURÍDICA - 07229374000122]  ...    educação\n",
              "CNPJ - PESSOA JURÍDICA - 59612374000100                          [CNPJ - PESSOA JURÍDICA - 59612374000100]  ...        None\n",
              "IDENTIFICAÇÃO ESPECIAL - SEM CPF/CNPJ - 1355                [IDENTIFICAÇÃO ESPECIAL - SEM CPF/CNPJ - 1355]  ...  prefeitura\n",
              "CNPJ - PESSOA JURÍDICA - 24082198000168                          [CNPJ - PESSOA JURÍDICA - 24082198000168]  ...  transporte\n",
              "CNPJ - PESSOA JURÍDICA - 14986862000140                          [CNPJ - PESSOA JURÍDICA - 14986862000140]  ...        None\n",
              "CNPJ - PESSOA JURÍDICA - 53591103000130                          [CNPJ - PESSOA JURÍDICA - 53591103000130]  ...  transporte\n",
              "CNPJ - PESSOA JURÍDICA - 06344497000141                          [CNPJ - PESSOA JURÍDICA - 06344497000141]  ...        None\n",
              "CNPJ - PESSOA JURÍDICA - 74434911000163                          [CNPJ - PESSOA JURÍDICA - 74434911000163]  ...  transporte\n",
              "CNPJ - PESSOA JURÍDICA - 45271137000119                          [CNPJ - PESSOA JURÍDICA - 45271137000119]  ...       saúde\n",
              "\n",
              "[20 rows x 4 columns]"
            ]
          },
          "metadata": {
            "tags": []
          },
          "execution_count": 105
        }
      ]
    },
    {
      "cell_type": "code",
      "metadata": {
        "id": "0WmpjdQKQGf3",
        "colab_type": "code",
        "colab": {}
      },
      "source": [
        ""
      ],
      "execution_count": 0,
      "outputs": []
    }
  ]
}