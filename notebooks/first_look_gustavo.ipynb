{
 "cells": [
  {
   "cell_type": "markdown",
   "metadata": {},
   "source": [
    "Download iegm-deephack"
   ]
  },
  {
   "cell_type": "code",
   "execution_count": 9,
   "metadata": {},
   "outputs": [
    {
     "data": {
      "text/plain": [
       "'../data/tce_deephack2019'"
      ]
     },
     "execution_count": 9,
     "metadata": {},
     "output_type": "execute_result"
    }
   ],
   "source": [
    "# # pip install wget --user\n",
    "# import wget\n",
    "# data_url = 'http://transparencia.tce.sp.gov.br/iegm-deephack2019'\n",
    "# wget.download(data_url, '../data/tce_deephack2019.zip')"
   ]
  },
  {
   "cell_type": "code",
   "execution_count": 24,
   "metadata": {},
   "outputs": [],
   "source": [
    "import zipfile\n",
    "with zipfile.ZipFile('../data/tce_deephack2019', 'r') as zip_ref:\n",
    "    zip_ref.extractall('../data')\n",
    "csv_file = '../data/iegm.csv'"
   ]
  },
  {
   "cell_type": "code",
   "execution_count": 25,
   "metadata": {},
   "outputs": [],
   "source": [
    "import pandas as pd\n",
    "data = pd.read_csv(csv_file, delimiter=';', encoding='Windows 1252')"
   ]
  },
  {
   "cell_type": "code",
   "execution_count": 74,
   "metadata": {},
   "outputs": [
    {
     "data": {
      "text/html": [
       "<div>\n",
       "<style scoped>\n",
       "    .dataframe tbody tr th:only-of-type {\n",
       "        vertical-align: middle;\n",
       "    }\n",
       "\n",
       "    .dataframe tbody tr th {\n",
       "        vertical-align: top;\n",
       "    }\n",
       "\n",
       "    .dataframe thead th {\n",
       "        text-align: right;\n",
       "    }\n",
       "</style>\n",
       "<table border=\"1\" class=\"dataframe\">\n",
       "  <thead>\n",
       "    <tr style=\"text-align: right;\">\n",
       "      <th></th>\n",
       "      <th>cod_ibge</th>\n",
       "      <th>municipio</th>\n",
       "      <th>porte</th>\n",
       "      <th>ano_exercicio</th>\n",
       "      <th>indice</th>\n",
       "      <th>cod_pergunta</th>\n",
       "      <th>texto_pergunta_genérica</th>\n",
       "      <th>cod_resposta</th>\n",
       "      <th>rotulo_resposta</th>\n",
       "      <th>valor_resposta</th>\n",
       "    </tr>\n",
       "  </thead>\n",
       "  <tbody>\n",
       "    <tr>\n",
       "      <th>0</th>\n",
       "      <td>3500204</td>\n",
       "      <td>Adolfo</td>\n",
       "      <td>PP</td>\n",
       "      <td>2014.0</td>\n",
       "      <td>i-Amb</td>\n",
       "      <td>M05Q00100</td>\n",
       "      <td>Sobre o Plano Municipal de Gestão Integrada de Resíduos Sólidos (PMGIRS) – Lei nº 12.305/2010 –, informe:</td>\n",
       "      <td>M05Q00100R00100</td>\n",
       "      <td>instrumento normativo publicado ou promulgado</td>\n",
       "      <td>instrumento normativo publicado ou promulgado</td>\n",
       "    </tr>\n",
       "    <tr>\n",
       "      <th>1</th>\n",
       "      <td>3501202</td>\n",
       "      <td>Álvares Florence</td>\n",
       "      <td>PP</td>\n",
       "      <td>2014.0</td>\n",
       "      <td>i-Amb</td>\n",
       "      <td>M05Q00100</td>\n",
       "      <td>Sobre o Plano Municipal de Gestão Integrada de Resíduos Sólidos (PMGIRS) – Lei nº 12.305/2010 –, informe:</td>\n",
       "      <td>M05Q00100R00300</td>\n",
       "      <td>estão em outras fases de elaboração</td>\n",
       "      <td>está em outras fases de elaboração</td>\n",
       "    </tr>\n",
       "    <tr>\n",
       "      <th>2</th>\n",
       "      <td>3500303</td>\n",
       "      <td>Aguaí</td>\n",
       "      <td>M</td>\n",
       "      <td>2014.0</td>\n",
       "      <td>i-Amb</td>\n",
       "      <td>M05Q00100</td>\n",
       "      <td>Sobre o Plano Municipal de Gestão Integrada de Resíduos Sólidos (PMGIRS) – Lei nº 12.305/2010 –, informe:</td>\n",
       "      <td>M05Q00100R00400</td>\n",
       "      <td>não realizaram o plano</td>\n",
       "      <td>não realizou o plano</td>\n",
       "    </tr>\n",
       "    <tr>\n",
       "      <th>3</th>\n",
       "      <td>3500402</td>\n",
       "      <td>Águas da Prata</td>\n",
       "      <td>P</td>\n",
       "      <td>2014.0</td>\n",
       "      <td>i-Amb</td>\n",
       "      <td>M05Q00100</td>\n",
       "      <td>Sobre o Plano Municipal de Gestão Integrada de Resíduos Sólidos (PMGIRS) – Lei nº 12.305/2010 –, informe:</td>\n",
       "      <td>M05Q00100R00100</td>\n",
       "      <td>instrumento normativo publicado ou promulgado</td>\n",
       "      <td>instrumento normativo publicado ou promulgado</td>\n",
       "    </tr>\n",
       "    <tr>\n",
       "      <th>4</th>\n",
       "      <td>3500501</td>\n",
       "      <td>Águas de Lindóia</td>\n",
       "      <td>P</td>\n",
       "      <td>2014.0</td>\n",
       "      <td>i-Amb</td>\n",
       "      <td>M05Q00100</td>\n",
       "      <td>Sobre o Plano Municipal de Gestão Integrada de Resíduos Sólidos (PMGIRS) – Lei nº 12.305/2010 –, informe:</td>\n",
       "      <td>M05Q00100R00300</td>\n",
       "      <td>estão em outras fases de elaboração</td>\n",
       "      <td>está em outras fases de elaboração</td>\n",
       "    </tr>\n",
       "  </tbody>\n",
       "</table>\n",
       "</div>"
      ],
      "text/plain": [
       "  cod_ibge         municipio porte  ano_exercicio indice cod_pergunta  \\\n",
       "0  3500204            Adolfo    PP         2014.0  i-Amb    M05Q00100   \n",
       "1  3501202  Álvares Florence    PP         2014.0  i-Amb    M05Q00100   \n",
       "2  3500303             Aguaí     M         2014.0  i-Amb    M05Q00100   \n",
       "3  3500402    Águas da Prata     P         2014.0  i-Amb    M05Q00100   \n",
       "4  3500501  Águas de Lindóia     P         2014.0  i-Amb    M05Q00100   \n",
       "\n",
       "                                                                                     texto_pergunta_genérica  \\\n",
       "0  Sobre o Plano Municipal de Gestão Integrada de Resíduos Sólidos (PMGIRS) – Lei nº 12.305/2010 –, informe:   \n",
       "1  Sobre o Plano Municipal de Gestão Integrada de Resíduos Sólidos (PMGIRS) – Lei nº 12.305/2010 –, informe:   \n",
       "2  Sobre o Plano Municipal de Gestão Integrada de Resíduos Sólidos (PMGIRS) – Lei nº 12.305/2010 –, informe:   \n",
       "3  Sobre o Plano Municipal de Gestão Integrada de Resíduos Sólidos (PMGIRS) – Lei nº 12.305/2010 –, informe:   \n",
       "4  Sobre o Plano Municipal de Gestão Integrada de Resíduos Sólidos (PMGIRS) – Lei nº 12.305/2010 –, informe:   \n",
       "\n",
       "      cod_resposta                                rotulo_resposta  \\\n",
       "0  M05Q00100R00100  instrumento normativo publicado ou promulgado   \n",
       "1  M05Q00100R00300            estão em outras fases de elaboração   \n",
       "2  M05Q00100R00400                         não realizaram o plano   \n",
       "3  M05Q00100R00100  instrumento normativo publicado ou promulgado   \n",
       "4  M05Q00100R00300            estão em outras fases de elaboração   \n",
       "\n",
       "                                  valor_resposta  \n",
       "0  instrumento normativo publicado ou promulgado  \n",
       "1             está em outras fases de elaboração  \n",
       "2                           não realizou o plano  \n",
       "3  instrumento normativo publicado ou promulgado  \n",
       "4             está em outras fases de elaboração  "
      ]
     },
     "execution_count": 74,
     "metadata": {},
     "output_type": "execute_result"
    }
   ],
   "source": [
    "data.head(5)"
   ]
  },
  {
   "cell_type": "code",
   "execution_count": 49,
   "metadata": {},
   "outputs": [],
   "source": [
    "default_columns = pd.options.display.max_columns\n",
    "pd.options.display.max_colwidth = 130"
   ]
  },
  {
   "cell_type": "code",
   "execution_count": 55,
   "metadata": {},
   "outputs": [
    {
     "data": {
      "text/plain": [
       "array(['i-Amb', 'i-Cidade', 'i-Educ', 'i-Gov TI', 'i-Plan', 'i-Saúde',\n",
       "       nan], dtype=object)"
      ]
     },
     "execution_count": 55,
     "metadata": {},
     "output_type": "execute_result"
    }
   ],
   "source": [
    "data[\"indice\"].unique()"
   ]
  },
  {
   "cell_type": "code",
   "execution_count": 73,
   "metadata": {},
   "outputs": [
    {
     "name": "stdout",
     "output_type": "stream",
     "text": [
      "# perguntas i-Amb: 69\n",
      "# perguntas i-Cidade: 26\n",
      "# perguntas nan: 1\n"
     ]
    }
   ],
   "source": [
    "print(\"# perguntas i-Amb:\", len(data[data[\"indice\"] == 'i-Amb'][\"texto_pergunta_genérica\"].unique()))\n",
    "print(\"# perguntas i-Cidade:\", len(data[data[\"indice\"] == 'i-Cidade'][\"texto_pergunta_genérica\"].unique()))\n",
    "print(\"# perguntas nan:\", len(data[[pd.isna(index) \n",
    "                                    for index in data[\"indice\"]]\n",
    "                                  ][\"texto_pergunta_genérica\"].unique()))"
   ]
  },
  {
   "cell_type": "markdown",
   "metadata": {},
   "source": [
    "## Perguntas de indicador ambiental"
   ]
  },
  {
   "cell_type": "code",
   "execution_count": 77,
   "metadata": {},
   "outputs": [
    {
     "name": "stdout",
     "output_type": "stream",
     "text": [
      "Sobre o Plano Municipal de Gestão Integrada de Resíduos Sólidos (PMGIRS) – Lei nº 12.305/2010 –, informe:\n",
      "\n",
      "A prefeitura municipal realiza a coleta seletiva de resíduos sólidos?\n",
      "\n",
      "A prefeitura possui Plano de Gestão de Resíduos da Construção Civil elaborado e implantado de acordo com a resolução CONAMA 307/2002 e suas alterações?\n",
      "\n",
      "A prefeitura adota na rede escolar municipal algum programa ou ação de educação ambiental?\n",
      "\n",
      "A prefeitura municipal estimula entre seus órgãos e entidades de sua responsabilidade projetos e/ou ações que promovam o uso racional de recursos naturais? (ex.: implantação de dispositivos para uso racional da água, coleta seletiva, reuso ou reciclagem de material entre outros)?\n",
      "\n",
      "Utilização do IQR (Índice de Qualidade de Aterro de Resíduos):\n",
      "\n",
      "A prefeitura possui ou participa de algum programa ou ação que promovam a melhoria contínua da qualidade ambiental no município?\n",
      "\n",
      "A prefeitura possui alguma estrutura organizacional para tratar de assuntos ligados ao Meio Ambiente Municipal?\n",
      "\n",
      "A prefeitura participou de treinamento oferecido pelo Corpo de Bombeiros para brigadas antifogo ou planos para desastres naturais ou ações de contingência ou similares (privilegiando a participação de membros da Guarda Municipal, Defesa Civil, Tiro de Guerra, brigadistas de indústrias, usinas e empresas etc, inclusive para os municípios que possuem Unidades de Corpo de Bombeiros)?\n",
      "\n",
      "O município possui seu Plano Municipal de Saneamento Básico instituído?\n",
      "\n",
      "Existe registro do percentual da população do município abrangida pelo serviço de fornecimento de água tratada?\n",
      "\n",
      "Qual o percentual da população do município abrangida pelo serviço de coleta de esgotamento sanitário?\n",
      "\n",
      "Qual o percentual de tratamento do esgotamento sanitário?\n",
      "\n",
      "Existem ações e medidas de contingenciamento para os períodos de estiagem?\n",
      "\n",
      "Existem ações e medidas de contingenciamento para provisão de água potável e de uso comum para a Rede Municipal de Ensino?\n",
      "\n",
      "Existem ações e medidas de contingenciamento para provisão de água potável e de uso comum para a rede municipal da Atenção Básica da Saúde?\n",
      "\n",
      "Há um plano emergencial com ações para fornecimento de água potável à população em caso de sua escassez?\n",
      "\n",
      "Descreva o processo de destinação da coleta seletiva:\n",
      "\n",
      "Por que motivo a prefeitura municipal ainda não possui Plano de Resíduos da Construção Civil implantado?\n",
      "\n",
      "Descreva o programa ou ação de educação ambiental adotado pela prefeitura:\n",
      "\n",
      "Descreva os projetos ou ações realizados pelos órgãos ou entidades que promovam o uso racional de recursos naturais:\n",
      "\n",
      "Qual programa ou ação que promova a melhoria continua da qualidade ambiental no município?\n",
      "\n",
      "Descreva sucintamente o programa ou ação que promova a melhoria continua da qualidade ambiental no município:\n",
      "\n",
      "Informe o percentual da população do município abrangida pelo serviço de fornecimento de água tratada:\n",
      "\n",
      "Percentual da população municipal abrangida pela coleta de esgotamento sanitário:\n",
      "\n",
      "Percentual da população municipal abrangida pelo tratamento do esgotamento sanitário:\n",
      "\n",
      "Descreva quais as ações e medidas são realizadas para o contingenciamento para os períodos de estiagem:\n",
      "\n",
      "Descreva o plano Plano Emergencial de Escassez de Água Potável:\n",
      "\n",
      "Quais são os instrumentos normativos que tratam do Plano Municipal de Saneamento Básico?\n",
      "\n",
      "O município participa do programa Município VerdeAzul?\n",
      "\n",
      "O município está habilitado junto ao CONSEMA para licenciar os empreendimentos de impacto local de conformidade com a Deliberação Normativa Consema 01/2014?\n",
      "\n",
      "A prefeitura participa de alguma instância de planejamento e gestão regional (tais como comitê de bacia, conselho regional/metropolitano, conselho gestor de APA - Área de proteção Ambiental), que promova a melhoria contínua da gestão ambiental municipal e da região em que está inserida?\n",
      "\n",
      "Descreva quais as ações e medidas de melhoria contínua da gestão ambiental municipal e da região a prefeitura municipal participa:\n",
      "\n",
      "Informe a lei que institutiu o  Plano de Gestão de Resíduos da Construção Civil:\n",
      "\n",
      "Descreva as ações e medidas realizadas de contingenciamento para a provisão de água potável e de uso comum para a rede municipal de ensino:\n",
      "\n",
      "Descreva as ações e medidas realizadas de contingenciamento para a provisão de água potável e de uso comum para a rede municipal de Atenção Básica:\n",
      "\n",
      "Todos os servidores da estrutura de Meio Ambiente possuem formação na área natural e/ou humana?\n",
      "\n",
      "A estrutura de Meio Ambiente encontra-se em nível de primeiro escalão no organograma da prefeitura?\n",
      "\n",
      "Quanto aos resíduos da construção civil, quem é o responsável pela triagem dos resíduos?\n",
      "\n",
      "Quanto à arborização urbana, o pessoal da prefeitura responsável por manutenção das árvores é devidamente orientado/treinado para realizar a poda de maneira correta?\n",
      "\n",
      "O município possui controle ou registro das autuações realizadas por queimada urbana?\n",
      "\n",
      "Quanto aos aterros municipais, todos possuem portão fechado com cadeado no seu acesso?\n",
      "\n",
      "Quanto aos aterros municipais, animais domésticos e/ou animais silvestres (urubus, garças, etc.) convivem com os resíduos do aterro?\n",
      "\n",
      "Há catadores de materiais recicláveis no aterro municipal?\n",
      "\n",
      "Informe o ICTEM - Indicador de Coleta de Tratabilidade de Esgoto da População Urbana de Município do exercício:\n",
      "\n",
      "Informe o ICTEM - Indicador de Coleta de Tratabilidade de Esgoto da População Urbana de Município do exercício anterior:\n",
      "\n",
      "Sobre programa ou ação de educação ambiental na rede escolar municipal, informe o número de escolas dos anos iniciais que adotam programa ou ação de educação ambiental:\n",
      "\n",
      "O município ainda lança, a céu aberto (lixões), seus resíduos sólidos?\n",
      "\n",
      "O município possui cronograma de manunteção preventiva ou de substituição da frota municipal?\n",
      "\n",
      "A disposição final de resíduos sólidos é feita em consórcio com municípios da região?\n",
      "\n",
      "O município possui área de aterro sanitário ou industrial?\n",
      "\n",
      "Existe licença de operação da CETESB para a área de aterro?\n",
      "\n",
      "Antes de aterrar o lixo, o município realiza algum tipo de processamento de resíduos, quer mediante reciclagem, compostagem, reutilização ou outra forma de processamento?\n",
      "\n",
      "Qual o tipo de tratamento de resíduos realizados antes do aterramento?\n",
      "\n",
      "Os serviços de abastecimento e distribuição de água são executados de forma direta pelo município?\n",
      "\n",
      "Cite a autarquia/empresa estatal/empresa contratada pelos serviços de abastecimento e distribuição de água:\n",
      "\n",
      "Descreva os meios de realização dos serviços de abastecimento e distribuição de água são realizados por meio de:\n",
      "\n",
      "Em quantos anos está prevista a prestação do serviço de abastecimento e distribuição de água?\n",
      "\n",
      "Os serviços de coleta e tratamento de esgoto são executados de forma direta pelo Município?\n",
      "\n",
      "Cite a autarquia/empresa estata/empresa contratada:\n",
      "\n",
      "Descreva os meios de realização dos serviços de coleta e tratamento de esgoto são realizados por meio de:\n",
      "\n",
      "Em quantos anos está prevista a prestação do serviço de coleta e tratamento de esgoto?\n",
      "\n",
      "Os serviços de coleta e disposição final de rejeitos e resíduos sólidos são executados de forma direta pelo município?\n",
      "\n",
      "Descreva os meios de realização dos serviços de coleta e disposição final de rejeitos são realizados por meio de:\n",
      "\n",
      "Em quantos anos está prevista a prestação do serviço de coleta e disposição final de rejeitos?\n",
      "\n",
      "Gostaria de registrar suas impressões, comentários e sugestões a respeito do presente questionário? Não deixe de indicar, por favor, as questões que você considera relevantes, mas não foram – ou o foram apenas superficial e inadequadamente – abordadas nos itens acima. Obrigado.\n",
      "\n",
      "Informe número de domicílios atendidos pela coleta seletiva:\n",
      "\n",
      "Qual o percentual dos servidores que possuem formação na área natural e/ou humana?\n",
      "\n",
      "Utilize o espaço abaixo para registrar suas impressões, comentários e sugestões a respeito do presente questionário.\n",
      "\n"
     ]
    }
   ],
   "source": [
    "ambiental_questions = data[data[\"indice\"] == 'i-Amb'][\"texto_pergunta_genérica\"].unique()\n",
    "for q in ambiental_questions:\n",
    "    print(q, end='\\n\\n')"
   ]
  },
  {
   "cell_type": "markdown",
   "metadata": {},
   "source": [
    "## Perguntas de indicador cidade"
   ]
  },
  {
   "cell_type": "code",
   "execution_count": 78,
   "metadata": {},
   "outputs": [
    {
     "name": "stdout",
     "output_type": "stream",
     "text": [
      "O município possui a Coordenadoria Municipal de Defesa Civil - COMDEC estruturada? (Lei nº 12.608/2012)?\n",
      "\n",
      "A prefeitura municipal possui local físico com sala e telefone para atendimento de ocorrências de Defesa Civil?\n",
      "\n",
      "O município está cadastrado no sistema da Defesa Civil estadual denominado SIDEC (Sistema Integrado de Defesa Civil)?\n",
      "\n",
      "O município utiliza alguma forma de registro eletrônico para cadastramento de ocorrência de Defesa Civil?\n",
      "\n",
      "O município possui algum tipo de levantamento para identificação de risco para intervenções do Poder Público?\n",
      "\n",
      "O município possui Plano de Contingência de Defesa Civil?\n",
      "\n",
      "O município está listado no Programa Construindo Cidades Resilientes, do Escritório das Nações Unidas para Redução de Riscos de Desastres?\n",
      "\n",
      "O município capacita seus agentes para ações municipais de Defesa Civil?\n",
      "\n",
      "Se o município possui mais de 20.000 habitantes, foi elaborado seu Plano de Mobilidade Urbana? (LF nº 12.587/12, art. 24, §3º)\n",
      "\n",
      "Qual o número de telefone utilizado para atendimento da Defesa Civil?\n",
      "\n",
      "Descreva qual a forma de registro eletrônico utilizado para cadastramento de ocorrências da Defesa Civil:\n",
      "\n",
      "O município possui um estudo de avaliação da segurança de todas as escolas e centros de saúde atualizado?\n",
      "\n",
      "Descreva a forma de capacitação de agentes para ações de Defesa Civil:\n",
      "\n",
      "As vias públicas pavimentadas estão devidamente sinalizadas (vertical e horizontalmente) de forma a garantir as condições adequadas de segurança na circulação?\n",
      "\n",
      "Há manutenção adequada das vias públicas no município?\n",
      "\n",
      "Informe o orçamento previsto para manutenção adequada das vias públicas no município:\n",
      "\n",
      "Qual o número de mortes por acidente de trânsito no município no ano?\n",
      "\n",
      "Qual o número de acidentes de trânsito no município no ano?\n",
      "\n",
      "O município possui ameaças potenciais mapeadas?\n",
      "\n",
      "O município utiliza sistemas de alerta e alarme para desastres?\n",
      "\n",
      "Gostaria de registrar suas impressões, comentários e sugestões a respeito do presente questionário? Não deixe de indicar, por favor, as questões que você considera relevantes, mas não foram – ou o foram apenas superficial e inadequadamente – abordadas nos itens acima. Obrigado.\n",
      "\n",
      "Informe o orçamento previsto para Plano de Mobilidade Urbana em Municípios com mais de 20.000 habitantes:\n",
      "\n",
      "Informe o orçamento realizado para Plano de Mobilidade Urbana em Municípios com mais de 20.000 habitantes:\n",
      "\n",
      "Utilize o espaço abaixo para registrar suas impressões, comentários e sugestões a respeito do presente questionário.\n",
      "\n",
      "Qual(is) ameaças pontenciais foram mapeadas?\n",
      "\n",
      "Qual a frequência (em dias) de utilização dos sistemas de alerta e alarme para desastres?\n",
      "\n"
     ]
    }
   ],
   "source": [
    "ambiental_questions = data[data[\"indice\"] == 'i-Cidade'][\"texto_pergunta_genérica\"].unique()\n",
    "for q in ambiental_questions:\n",
    "    print(q, end='\\n\\n')"
   ]
  },
  {
   "cell_type": "markdown",
   "metadata": {},
   "source": [
    "# Compilado de bancos\n",
    "super link:\n",
    "http://www.bibliotecavirtual.sp.gov.br/temas/sao-paulo/sao-paulo-bases-de-dados-e-informacoes-estatisticas.php"
   ]
  },
  {
   "cell_type": "markdown",
   "metadata": {},
   "source": [
    "## Moradia"
   ]
  },
  {
   "cell_type": "markdown",
   "metadata": {},
   "source": [
    "#### IBGE\n",
    "* dados sobre presença nas escolas e creches, de acordo com renda e com situação domiciliar\n",
    "* moradores por tipo de domicílio (alguel/próprio)"
   ]
  },
  {
   "cell_type": "markdown",
   "metadata": {},
   "source": [
    "## Acessibilidade"
   ]
  },
  {
   "cell_type": "markdown",
   "metadata": {},
   "source": [
    "## Transporte\n"
   ]
  },
  {
   "cell_type": "markdown",
   "metadata": {},
   "source": [
    "## Catástrofes\n",
    "* relatório cetesb: https://cetesb.sp.gov.br/aguas-interiores/wp-content/uploads/sites/12/2019/07/Resumo-Executivo-Relat%C3%B3rio-de-Qualidade-das-%C3%81guas-Interiores-no-Estado-de-S%C3%A3o-Paulo-2018.pdf\n",
    "* info-aguas: https://sistemainfoaguas.cetesb.sp.gov.br/"
   ]
  },
  {
   "cell_type": "markdown",
   "metadata": {},
   "source": [
    "# Relatório do Observatório\n",
    "https://www4.tce.sp.gov.br/observatorio/observatorio-integra-relatorio-ods-educacao"
   ]
  },
  {
   "cell_type": "code",
   "execution_count": null,
   "metadata": {},
   "outputs": [],
   "source": []
  }
 ],
 "metadata": {
  "kernelspec": {
   "display_name": "Python 3",
   "language": "python",
   "name": "python3"
  },
  "language_info": {
   "codemirror_mode": {
    "name": "ipython",
    "version": 3
   },
   "file_extension": ".py",
   "mimetype": "text/x-python",
   "name": "python",
   "nbconvert_exporter": "python",
   "pygments_lexer": "ipython3",
   "version": "3.6.8"
  }
 },
 "nbformat": 4,
 "nbformat_minor": 2
}
