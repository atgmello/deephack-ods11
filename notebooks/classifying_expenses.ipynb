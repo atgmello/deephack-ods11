{
  "nbformat": 4,
  "nbformat_minor": 0,
  "metadata": {
    "colab": {
      "name": "classifying_expenses.ipynb",
      "provenance": [],
      "collapsed_sections": [],
      "toc_visible": true
    },
    "kernelspec": {
      "name": "python3",
      "display_name": "Python 3"
    }
  },
  "cells": [
    {
      "cell_type": "markdown",
      "metadata": {
        "id": "NbI_rA9lpGsj",
        "colab_type": "text"
      },
      "source": [
        "# Queremos classificar as despesas de acordo com o tema do gasto"
      ]
    },
    {
      "cell_type": "markdown",
      "metadata": {
        "id": "NRQThWtjWanT",
        "colab_type": "text"
      },
      "source": [
        "A ideia é tentar adivinhar qual é a classe de um gasto, dado algumas outras informações sobre o gasto. Acreditamos que um classificador desse pode perceber despesas que tiveram uma classe atribuida erroneamente. "
      ]
    },
    {
      "cell_type": "markdown",
      "metadata": {
        "id": "OOXKgrZ9kp-a",
        "colab_type": "text"
      },
      "source": [
        "## Preparar o pacote balanco_municipal_tce.expenses"
      ]
    },
    {
      "cell_type": "markdown",
      "metadata": {
        "id": "-ED1UBEeWy6I",
        "colab_type": "text"
      },
      "source": [
        "Para conseguir dados sobre as cidades, vamos usar nosso pacote ```balanco_municipal_tce```. Ela vai nos permitir fazer o download de dados sobre as despesas de cidades em diferentes anos.\n",
        "\n"
      ]
    },
    {
      "cell_type": "markdown",
      "metadata": {
        "id": "JWiCO0RLpOkX",
        "colab_type": "text"
      },
      "source": [
        "### Clonar balanco_municipal_tce"
      ]
    },
    {
      "cell_type": "markdown",
      "metadata": {
        "id": "AuTkim-0XDcr",
        "colab_type": "text"
      },
      "source": [
        "Primeiro, vamos ter que clonar o repositório que contem o nosso pacote."
      ]
    },
    {
      "cell_type": "code",
      "metadata": {
        "id": "fVm0KAPOpBEu",
        "colab_type": "code",
        "outputId": "6504a543-df2c-414b-cf96-3015dbd94564",
        "colab": {
          "base_uri": "https://localhost:8080/",
          "height": 336
        }
      },
      "source": [
        "%reset\n",
        "!rm -rf /content/balanco_municipal_tce\n",
        "!git clone https://github.com/gustavoem/balanco_municipal_tce.git\n",
        "!pip install wget"
      ],
      "execution_count": 2,
      "outputs": [
        {
          "output_type": "stream",
          "text": [
            "Once deleted, variables cannot be recovered. Proceed (y/[n])? \n",
            "Nothing done.\n",
            "Cloning into 'balanco_municipal_tce'...\n",
            "remote: Enumerating objects: 27, done.\u001b[K\n",
            "remote: Counting objects: 100% (27/27), done.\u001b[K\n",
            "remote: Compressing objects: 100% (19/19), done.\u001b[K\n",
            "remote: Total 27 (delta 11), reused 18 (delta 5), pack-reused 0\u001b[K\n",
            "Unpacking objects: 100% (27/27), done.\n",
            "Collecting wget\n",
            "  Downloading https://files.pythonhosted.org/packages/47/6a/62e288da7bcda82b935ff0c6cfe542970f04e29c756b0e147251b2fb251f/wget-3.2.zip\n",
            "Building wheels for collected packages: wget\n",
            "  Building wheel for wget (setup.py) ... \u001b[?25l\u001b[?25hdone\n",
            "  Created wheel for wget: filename=wget-3.2-cp36-none-any.whl size=9681 sha256=d49974737c0a6cb5edc8914a81b60698c57fda206018876a727cb8c125711cbc\n",
            "  Stored in directory: /root/.cache/pip/wheels/40/15/30/7d8f7cea2902b4db79e3fea550d7d7b85ecb27ef992b618f3f\n",
            "Successfully built wget\n",
            "Installing collected packages: wget\n",
            "Successfully installed wget-3.2\n"
          ],
          "name": "stdout"
        }
      ]
    },
    {
      "cell_type": "markdown",
      "metadata": {
        "id": "RlGrfzMRXQov",
        "colab_type": "text"
      },
      "source": [
        "Agora sim, podemos importar o pacote."
      ]
    },
    {
      "cell_type": "code",
      "metadata": {
        "id": "BMPZphFVtV-k",
        "colab_type": "code",
        "colab": {}
      },
      "source": [
        "from balanco_municipal_tce import expenses"
      ],
      "execution_count": 0,
      "outputs": []
    },
    {
      "cell_type": "markdown",
      "metadata": {
        "id": "2XmsP7K7pmM4",
        "colab_type": "text"
      },
      "source": [
        "#### Verificando se está tudo funcionando"
      ]
    },
    {
      "cell_type": "markdown",
      "metadata": {
        "id": "2DwxXScRXVWE",
        "colab_type": "text"
      },
      "source": [
        "Para ver se está tudo funcionando bem, vamos obter as despesas de\n",
        "Araraquara no ano 2016."
      ]
    },
    {
      "cell_type": "code",
      "metadata": {
        "id": "8OpjNGq8pf1H",
        "colab_type": "code",
        "colab": {}
      },
      "source": [
        "df = expenses.get_expenses('araraquara', 2016)"
      ],
      "execution_count": 0,
      "outputs": []
    },
    {
      "cell_type": "code",
      "metadata": {
        "id": "ZkGKIDWIrgS7",
        "colab_type": "code",
        "outputId": "1a888101-740b-4be6-e067-8bd63ce709df",
        "colab": {
          "base_uri": "https://localhost:8080/",
          "height": 551
        }
      },
      "source": [
        "df.head()"
      ],
      "execution_count": 8,
      "outputs": [
        {
          "output_type": "execute_result",
          "data": {
            "text/html": [
              "<div>\n",
              "<style scoped>\n",
              "    .dataframe tbody tr th:only-of-type {\n",
              "        vertical-align: middle;\n",
              "    }\n",
              "\n",
              "    .dataframe tbody tr th {\n",
              "        vertical-align: top;\n",
              "    }\n",
              "\n",
              "    .dataframe thead th {\n",
              "        text-align: right;\n",
              "    }\n",
              "</style>\n",
              "<table border=\"1\" class=\"dataframe\">\n",
              "  <thead>\n",
              "    <tr style=\"text-align: right;\">\n",
              "      <th></th>\n",
              "      <th>id_despesa_detalhe</th>\n",
              "      <th>ano_exercicio</th>\n",
              "      <th>ds_municipio</th>\n",
              "      <th>ds_orgao</th>\n",
              "      <th>mes_referencia</th>\n",
              "      <th>mes_ref_extenso</th>\n",
              "      <th>tp_despesa</th>\n",
              "      <th>nr_empenho</th>\n",
              "      <th>identificador_despesa</th>\n",
              "      <th>ds_despesa</th>\n",
              "      <th>dt_emissao_despesa</th>\n",
              "      <th>vl_despesa</th>\n",
              "      <th>ds_funcao_governo</th>\n",
              "      <th>ds_subfuncao_governo</th>\n",
              "      <th>cd_programa</th>\n",
              "      <th>ds_programa</th>\n",
              "      <th>cd_acao</th>\n",
              "      <th>ds_acao</th>\n",
              "      <th>ds_fonte_recurso</th>\n",
              "      <th>ds_cd_aplicacao_fixo</th>\n",
              "      <th>ds_modalidade_lic</th>\n",
              "      <th>ds_elemento</th>\n",
              "      <th>historico_despesa</th>\n",
              "    </tr>\n",
              "  </thead>\n",
              "  <tbody>\n",
              "    <tr>\n",
              "      <th>0</th>\n",
              "      <td>326984555</td>\n",
              "      <td>2016</td>\n",
              "      <td>Araraquara</td>\n",
              "      <td>PREFEITURA MUNICIPAL DE ARARAQUARA</td>\n",
              "      <td>2</td>\n",
              "      <td>fevereiro</td>\n",
              "      <td>Valor Pago</td>\n",
              "      <td>5707-2016</td>\n",
              "      <td>IDENTIFICAÇÃO ESPECIAL - SEM CPF/CNPJ - 000001</td>\n",
              "      <td>FOLHA DE PAGAMENTO</td>\n",
              "      <td>05/02/2016</td>\n",
              "      <td>117685.66</td>\n",
              "      <td>DESPORTO E LAZER</td>\n",
              "      <td>ADMINISTRAÇÃO GERAL</td>\n",
              "      <td>81.0</td>\n",
              "      <td>COORDENAÇÃO DA SECRETARIA DE ESPORTES E LAZER</td>\n",
              "      <td>2006.0</td>\n",
              "      <td>MANUTENÇÃO DAS ATIVIDADES</td>\n",
              "      <td>TESOURO</td>\n",
              "      <td>0110 - GERAL</td>\n",
              "      <td>OUTROS/NÃO APLICÁVEL</td>\n",
              "      <td>31901101 - VENCIMENTOS E SALÁRIOS</td>\n",
              "      <td>FOLHA DE PAGAMENTO DE JANEIRO/2016</td>\n",
              "    </tr>\n",
              "    <tr>\n",
              "      <th>1</th>\n",
              "      <td>326984107</td>\n",
              "      <td>2016</td>\n",
              "      <td>Araraquara</td>\n",
              "      <td>PREFEITURA MUNICIPAL DE ARARAQUARA</td>\n",
              "      <td>2</td>\n",
              "      <td>fevereiro</td>\n",
              "      <td>Valor Pago</td>\n",
              "      <td>5708-2016</td>\n",
              "      <td>IDENTIFICAÇÃO ESPECIAL - SEM CPF/CNPJ - 000001</td>\n",
              "      <td>FOLHA DE PAGAMENTO</td>\n",
              "      <td>05/02/2016</td>\n",
              "      <td>2841.74</td>\n",
              "      <td>DESPORTO E LAZER</td>\n",
              "      <td>ADMINISTRAÇÃO GERAL</td>\n",
              "      <td>81.0</td>\n",
              "      <td>COORDENAÇÃO DA SECRETARIA DE ESPORTES E LAZER</td>\n",
              "      <td>2006.0</td>\n",
              "      <td>MANUTENÇÃO DAS ATIVIDADES</td>\n",
              "      <td>TESOURO</td>\n",
              "      <td>0110 - GERAL</td>\n",
              "      <td>OUTROS/NÃO APLICÁVEL</td>\n",
              "      <td>31901137 - GRATIFICAÇÃO POR TEMPO DE SERVIÇO</td>\n",
              "      <td>FOLHA DE PAGAMENTO DE JANEIRO/2016</td>\n",
              "    </tr>\n",
              "    <tr>\n",
              "      <th>2</th>\n",
              "      <td>326981539</td>\n",
              "      <td>2016</td>\n",
              "      <td>Araraquara</td>\n",
              "      <td>PREFEITURA MUNICIPAL DE ARARAQUARA</td>\n",
              "      <td>2</td>\n",
              "      <td>fevereiro</td>\n",
              "      <td>Valor Pago</td>\n",
              "      <td>5709-2016</td>\n",
              "      <td>IDENTIFICAÇÃO ESPECIAL - SEM CPF/CNPJ - 000001</td>\n",
              "      <td>FOLHA DE PAGAMENTO</td>\n",
              "      <td>05/02/2016</td>\n",
              "      <td>6666.29</td>\n",
              "      <td>DESPORTO E LAZER</td>\n",
              "      <td>ADMINISTRAÇÃO GERAL</td>\n",
              "      <td>81.0</td>\n",
              "      <td>COORDENAÇÃO DA SECRETARIA DE ESPORTES E LAZER</td>\n",
              "      <td>2006.0</td>\n",
              "      <td>MANUTENÇÃO DAS ATIVIDADES</td>\n",
              "      <td>TESOURO</td>\n",
              "      <td>0110 - GERAL</td>\n",
              "      <td>OUTROS/NÃO APLICÁVEL</td>\n",
              "      <td>31901133 - GRATIFICAÇÃO POR EXERCÍCIO DE FUNÇÕES</td>\n",
              "      <td>FOLHA DE PAGAMENTO DE JANEIRO/2016</td>\n",
              "    </tr>\n",
              "    <tr>\n",
              "      <th>3</th>\n",
              "      <td>326983638</td>\n",
              "      <td>2016</td>\n",
              "      <td>Araraquara</td>\n",
              "      <td>PREFEITURA MUNICIPAL DE ARARAQUARA</td>\n",
              "      <td>2</td>\n",
              "      <td>fevereiro</td>\n",
              "      <td>Valor Pago</td>\n",
              "      <td>5710-2016</td>\n",
              "      <td>IDENTIFICAÇÃO ESPECIAL - SEM CPF/CNPJ - 000001</td>\n",
              "      <td>FOLHA DE PAGAMENTO</td>\n",
              "      <td>05/02/2016</td>\n",
              "      <td>47736.69</td>\n",
              "      <td>DESPORTO E LAZER</td>\n",
              "      <td>ADMINISTRAÇÃO GERAL</td>\n",
              "      <td>81.0</td>\n",
              "      <td>COORDENAÇÃO DA SECRETARIA DE ESPORTES E LAZER</td>\n",
              "      <td>2006.0</td>\n",
              "      <td>MANUTENÇÃO DAS ATIVIDADES</td>\n",
              "      <td>TESOURO</td>\n",
              "      <td>0110 - GERAL</td>\n",
              "      <td>OUTROS/NÃO APLICÁVEL</td>\n",
              "      <td>31901144 - FÉRIAS - ABONO PECUNIÁRIO</td>\n",
              "      <td>FOLHA DE PAGAMENTO DE JANEIRO/2016</td>\n",
              "    </tr>\n",
              "    <tr>\n",
              "      <th>4</th>\n",
              "      <td>326982346</td>\n",
              "      <td>2016</td>\n",
              "      <td>Araraquara</td>\n",
              "      <td>PREFEITURA MUNICIPAL DE ARARAQUARA</td>\n",
              "      <td>2</td>\n",
              "      <td>fevereiro</td>\n",
              "      <td>Valor Pago</td>\n",
              "      <td>5711-2016</td>\n",
              "      <td>IDENTIFICAÇÃO ESPECIAL - SEM CPF/CNPJ - 000001</td>\n",
              "      <td>FOLHA DE PAGAMENTO</td>\n",
              "      <td>05/02/2016</td>\n",
              "      <td>96644.09</td>\n",
              "      <td>DESPORTO E LAZER</td>\n",
              "      <td>ADMINISTRAÇÃO GERAL</td>\n",
              "      <td>81.0</td>\n",
              "      <td>COORDENAÇÃO DA SECRETARIA DE ESPORTES E LAZER</td>\n",
              "      <td>2006.0</td>\n",
              "      <td>MANUTENÇÃO DAS ATIVIDADES</td>\n",
              "      <td>TESOURO</td>\n",
              "      <td>0110 - GERAL</td>\n",
              "      <td>OUTROS/NÃO APLICÁVEL</td>\n",
              "      <td>31901145 - FÉRIAS - ABONO CONSTITUCIONAL</td>\n",
              "      <td>FOLHA DE PAGAMENTO DE JANEIRO/2016</td>\n",
              "    </tr>\n",
              "  </tbody>\n",
              "</table>\n",
              "</div>"
            ],
            "text/plain": [
              "   id_despesa_detalhe  ...                   historico_despesa\n",
              "0           326984555  ...  FOLHA DE PAGAMENTO DE JANEIRO/2016\n",
              "1           326984107  ...  FOLHA DE PAGAMENTO DE JANEIRO/2016\n",
              "2           326981539  ...  FOLHA DE PAGAMENTO DE JANEIRO/2016\n",
              "3           326983638  ...  FOLHA DE PAGAMENTO DE JANEIRO/2016\n",
              "4           326982346  ...  FOLHA DE PAGAMENTO DE JANEIRO/2016\n",
              "\n",
              "[5 rows x 23 columns]"
            ]
          },
          "metadata": {
            "tags": []
          },
          "execution_count": 8
        }
      ]
    },
    {
      "cell_type": "markdown",
      "metadata": {
        "id": "_pKLyrioXhrz",
        "colab_type": "text"
      },
      "source": [
        "Vamos também ver "
      ]
    },
    {
      "cell_type": "code",
      "metadata": {
        "id": "SLWAGxwoADtJ",
        "colab_type": "code",
        "outputId": "659019c3-ac16-44b7-c3e4-11352d8d59b4",
        "colab": {
          "base_uri": "https://localhost:8080/",
          "height": 158
        }
      },
      "source": [
        "expenses.get_all_themes(df)"
      ],
      "execution_count": 28,
      "outputs": [
        {
          "output_type": "execute_result",
          "data": {
            "text/plain": [
              "array(['SAÚDE', 'EDUCAÇÃO', 'ADMINISTRAÇÃO', 'URBANISMO', 'COMUNICAÇÕES',\n",
              "       'ENCARGOS ESPECIAIS', 'COMÉRCIO E SERVIÇOS', 'LEGISLATIVA',\n",
              "       'HABITAÇÃO', 'ASSISTÊNCIA SOCIAL', 'SANEAMENTO', 'CULTURA',\n",
              "       'DESPORTO E LAZER', 'TRANSPORTE', 'AGRICULTURA',\n",
              "       'GESTÃO AMBIENTAL', 'TRABALHO', 'INDÚSTRIA', 'PREVIDÊNCIA SOCIAL',\n",
              "       'DIREITOS DA CIDADANIA', 'SEGURANÇA PÚBLICA', 'DEFESA NACIONAL',\n",
              "       'JUDICIÁRIA', 'CIÊNCIA E TECNOLOGIA', nan, 'ESSENCIAL À JUSTIÇA',\n",
              "       'RELAÇÕES EXTERIORES'], dtype=object)"
            ]
          },
          "metadata": {
            "tags": []
          },
          "execution_count": 28
        }
      ]
    },
    {
      "cell_type": "markdown",
      "metadata": {
        "id": "7n9tV10ikhip",
        "colab_type": "text"
      },
      "source": [
        "## Preparar o pacote fasttext"
      ]
    },
    {
      "cell_type": "markdown",
      "metadata": {
        "id": "TV0_Zx4WXbkX",
        "colab_type": "text"
      },
      "source": [
        "O pacote fasttext possui implementações de modelos para aprendizagem de máquina supervisionada ou não-supervisionada relacionada a problemas de processamento de texto. Além de conter representações vetoriais de palavras (pré-treinadas de maneira não supervisionada), o fasttext também implementa algoritmos de classificação de texto (aprendizagem supervisionada)."
      ]
    },
    {
      "cell_type": "markdown",
      "metadata": {
        "id": "y5IdCRobk3qo",
        "colab_type": "text"
      },
      "source": [
        "### Fazer download fasttext, compilar e transformar em um pacote python\n",
        "\n",
        "\n"
      ]
    },
    {
      "cell_type": "code",
      "metadata": {
        "id": "iDUgeZWvpIlu",
        "colab_type": "code",
        "outputId": "ed540d34-95fe-4510-9c44-8a22846160a1",
        "colab": {
          "base_uri": "https://localhost:8080/",
          "height": 1000
        }
      },
      "source": [
        "!wget https://github.com/facebookresearch/fastText/archive/v0.9.1.zip\n",
        "!unzip v0.9.1.zip"
      ],
      "execution_count": 4,
      "outputs": [
        {
          "output_type": "stream",
          "text": [
            "--2019-10-18 01:18:35--  https://github.com/facebookresearch/fastText/archive/v0.9.1.zip\n",
            "Resolving github.com (github.com)... 140.82.113.4\n",
            "Connecting to github.com (github.com)|140.82.113.4|:443... connected.\n",
            "HTTP request sent, awaiting response... 302 Found\n",
            "Location: https://codeload.github.com/facebookresearch/fastText/zip/v0.9.1 [following]\n",
            "--2019-10-18 01:18:35--  https://codeload.github.com/facebookresearch/fastText/zip/v0.9.1\n",
            "Resolving codeload.github.com (codeload.github.com)... 140.82.113.9\n",
            "Connecting to codeload.github.com (codeload.github.com)|140.82.113.9|:443... connected.\n",
            "HTTP request sent, awaiting response... 200 OK\n",
            "Length: unspecified [application/zip]\n",
            "Saving to: ‘v0.9.1.zip’\n",
            "\n",
            "v0.9.1.zip              [   <=>              ]   4.13M  7.68MB/s    in 0.5s    \n",
            "\n",
            "2019-10-18 01:18:36 (7.68 MB/s) - ‘v0.9.1.zip’ saved [4327207]\n",
            "\n",
            "Archive:  v0.9.1.zip\n",
            "b5b7d307274ce00ef52198fbc692ed3bd11d9856\n",
            "   creating: fastText-0.9.1/\n",
            "   creating: fastText-0.9.1/.circleci/\n",
            "  inflating: fastText-0.9.1/.circleci/cmake_test.sh  \n",
            "  inflating: fastText-0.9.1/.circleci/config.yml  \n",
            "  inflating: fastText-0.9.1/.circleci/gcc_test.sh  \n",
            "  inflating: fastText-0.9.1/.circleci/pip_test.sh  \n",
            "  inflating: fastText-0.9.1/.circleci/pull_data.sh  \n",
            "  inflating: fastText-0.9.1/.circleci/python_test.sh  \n",
            "  inflating: fastText-0.9.1/.circleci/run_locally.sh  \n",
            "  inflating: fastText-0.9.1/.circleci/setup_circleimg.sh  \n",
            "  inflating: fastText-0.9.1/.circleci/setup_debian.sh  \n",
            "  inflating: fastText-0.9.1/.gitignore  \n",
            "  inflating: fastText-0.9.1/CMakeLists.txt  \n",
            "  inflating: fastText-0.9.1/CODE_OF_CONDUCT.md  \n",
            "  inflating: fastText-0.9.1/CONTRIBUTING.md  \n",
            "  inflating: fastText-0.9.1/LICENSE  \n",
            "  inflating: fastText-0.9.1/MANIFEST.in  \n",
            "  inflating: fastText-0.9.1/Makefile  \n",
            "  inflating: fastText-0.9.1/README.md  \n",
            "   creating: fastText-0.9.1/alignment/\n",
            "  inflating: fastText-0.9.1/alignment/README.md  \n",
            "  inflating: fastText-0.9.1/alignment/align.py  \n",
            "  inflating: fastText-0.9.1/alignment/eval.py  \n",
            "  inflating: fastText-0.9.1/alignment/example.sh  \n",
            "  inflating: fastText-0.9.1/alignment/unsup_align.py  \n",
            "  inflating: fastText-0.9.1/alignment/utils.py  \n",
            "  inflating: fastText-0.9.1/classification-example.sh  \n",
            "  inflating: fastText-0.9.1/classification-results.sh  \n",
            "   creating: fastText-0.9.1/crawl/\n",
            "  inflating: fastText-0.9.1/crawl/README.md  \n",
            "  inflating: fastText-0.9.1/crawl/dedup.cc  \n",
            "  inflating: fastText-0.9.1/crawl/download_crawl.sh  \n",
            "  inflating: fastText-0.9.1/crawl/filter_dedup.sh  \n",
            "  inflating: fastText-0.9.1/crawl/filter_utf8.cc  \n",
            "  inflating: fastText-0.9.1/crawl/process_wet_file.sh  \n",
            "   creating: fastText-0.9.1/docs/\n",
            "  inflating: fastText-0.9.1/docs/aligned-vectors.md  \n",
            "  inflating: fastText-0.9.1/docs/api.md  \n",
            "  inflating: fastText-0.9.1/docs/cheatsheet.md  \n",
            "  inflating: fastText-0.9.1/docs/crawl-vectors.md  \n",
            "  inflating: fastText-0.9.1/docs/dataset.md  \n",
            "  inflating: fastText-0.9.1/docs/english-vectors.md  \n",
            "  inflating: fastText-0.9.1/docs/faqs.md  \n",
            "  inflating: fastText-0.9.1/docs/language-identification.md  \n",
            "  inflating: fastText-0.9.1/docs/options.md  \n",
            "  inflating: fastText-0.9.1/docs/pretrained-vectors.md  \n",
            "  inflating: fastText-0.9.1/docs/python-module.md  \n",
            "  inflating: fastText-0.9.1/docs/references.md  \n",
            "  inflating: fastText-0.9.1/docs/supervised-models.md  \n",
            "  inflating: fastText-0.9.1/docs/supervised-tutorial.md  \n",
            "  inflating: fastText-0.9.1/docs/support.md  \n",
            "  inflating: fastText-0.9.1/docs/unsupervised-tutorials.md  \n",
            "  inflating: fastText-0.9.1/eval.py  \n",
            "  inflating: fastText-0.9.1/get-wikimedia.sh  \n",
            "   creating: fastText-0.9.1/python/\n",
            "  inflating: fastText-0.9.1/python/README.md  \n",
            "  inflating: fastText-0.9.1/python/README.rst  \n",
            "   creating: fastText-0.9.1/python/benchmarks/\n",
            "  inflating: fastText-0.9.1/python/benchmarks/README.rst  \n",
            "  inflating: fastText-0.9.1/python/benchmarks/get_word_vector.py  \n",
            "   creating: fastText-0.9.1/python/doc/\n",
            "   creating: fastText-0.9.1/python/doc/examples/\n",
            "  inflating: fastText-0.9.1/python/doc/examples/FastTextEmbeddingBag.py  \n",
            "  inflating: fastText-0.9.1/python/doc/examples/bin_to_vec.py  \n",
            "  inflating: fastText-0.9.1/python/doc/examples/compute_accuracy.py  \n",
            "  inflating: fastText-0.9.1/python/doc/examples/get_vocab.py  \n",
            "  inflating: fastText-0.9.1/python/doc/examples/train_supervised.py  \n",
            "  inflating: fastText-0.9.1/python/doc/examples/train_unsupervised.py  \n",
            "   creating: fastText-0.9.1/python/fasttext_module/\n",
            "   creating: fastText-0.9.1/python/fasttext_module/fasttext/\n",
            "  inflating: fastText-0.9.1/python/fasttext_module/fasttext/FastText.py  \n",
            "  inflating: fastText-0.9.1/python/fasttext_module/fasttext/__init__.py  \n",
            "   creating: fastText-0.9.1/python/fasttext_module/fasttext/pybind/\n",
            "  inflating: fastText-0.9.1/python/fasttext_module/fasttext/pybind/fasttext_pybind.cc  \n",
            "   creating: fastText-0.9.1/python/fasttext_module/fasttext/tests/\n",
            "  inflating: fastText-0.9.1/python/fasttext_module/fasttext/tests/__init__.py  \n",
            "  inflating: fastText-0.9.1/python/fasttext_module/fasttext/tests/test_configurations.py  \n",
            "  inflating: fastText-0.9.1/python/fasttext_module/fasttext/tests/test_script.py  \n",
            "   creating: fastText-0.9.1/python/fasttext_module/fasttext/util/\n",
            "  inflating: fastText-0.9.1/python/fasttext_module/fasttext/util/__init__.py  \n",
            "  inflating: fastText-0.9.1/python/fasttext_module/fasttext/util/util.py  \n",
            "  inflating: fastText-0.9.1/quantization-example.sh  \n",
            "  inflating: fastText-0.9.1/runtests.py  \n",
            "   creating: fastText-0.9.1/scripts/\n",
            "   creating: fastText-0.9.1/scripts/kbcompletion/\n",
            "  inflating: fastText-0.9.1/scripts/kbcompletion/README.md  \n",
            "  inflating: fastText-0.9.1/scripts/kbcompletion/data.sh  \n",
            "  inflating: fastText-0.9.1/scripts/kbcompletion/eval.cpp  \n",
            "  inflating: fastText-0.9.1/scripts/kbcompletion/fb15k.sh  \n",
            "  inflating: fastText-0.9.1/scripts/kbcompletion/fb15k237.sh  \n",
            "  inflating: fastText-0.9.1/scripts/kbcompletion/svo.sh  \n",
            "  inflating: fastText-0.9.1/scripts/kbcompletion/wn18.sh  \n",
            "   creating: fastText-0.9.1/scripts/quantization/\n",
            "  inflating: fastText-0.9.1/scripts/quantization/quantization-results.sh  \n",
            " extracting: fastText-0.9.1/setup.cfg  \n",
            "  inflating: fastText-0.9.1/setup.py  \n",
            "   creating: fastText-0.9.1/src/\n",
            "  inflating: fastText-0.9.1/src/args.cc  \n",
            "  inflating: fastText-0.9.1/src/args.h  \n",
            "  inflating: fastText-0.9.1/src/densematrix.cc  \n",
            "  inflating: fastText-0.9.1/src/densematrix.h  \n",
            "  inflating: fastText-0.9.1/src/dictionary.cc  \n",
            "  inflating: fastText-0.9.1/src/dictionary.h  \n",
            "  inflating: fastText-0.9.1/src/fasttext.cc  \n",
            "  inflating: fastText-0.9.1/src/fasttext.h  \n",
            "  inflating: fastText-0.9.1/src/loss.cc  \n",
            "  inflating: fastText-0.9.1/src/loss.h  \n",
            "  inflating: fastText-0.9.1/src/main.cc  \n",
            "  inflating: fastText-0.9.1/src/matrix.cc  \n",
            "  inflating: fastText-0.9.1/src/matrix.h  \n",
            "  inflating: fastText-0.9.1/src/meter.cc  \n",
            "  inflating: fastText-0.9.1/src/meter.h  \n",
            "  inflating: fastText-0.9.1/src/model.cc  \n",
            "  inflating: fastText-0.9.1/src/model.h  \n",
            "  inflating: fastText-0.9.1/src/productquantizer.cc  \n",
            "  inflating: fastText-0.9.1/src/productquantizer.h  \n",
            "  inflating: fastText-0.9.1/src/quantmatrix.cc  \n",
            "  inflating: fastText-0.9.1/src/quantmatrix.h  \n",
            "  inflating: fastText-0.9.1/src/real.h  \n",
            "  inflating: fastText-0.9.1/src/utils.cc  \n",
            "  inflating: fastText-0.9.1/src/utils.h  \n",
            "  inflating: fastText-0.9.1/src/vector.cc  \n",
            "  inflating: fastText-0.9.1/src/vector.h  \n",
            "   creating: fastText-0.9.1/tests/\n",
            "  inflating: fastText-0.9.1/tests/fetch_test_data.sh  \n",
            "   creating: fastText-0.9.1/website/\n",
            "  inflating: fastText-0.9.1/website/README.md  \n",
            "   creating: fastText-0.9.1/website/blog/\n",
            "  inflating: fastText-0.9.1/website/blog/2016-08-18-blog-post.md  \n",
            "  inflating: fastText-0.9.1/website/blog/2017-05-02-blog-post.md  \n",
            "  inflating: fastText-0.9.1/website/blog/2017-10-02-blog-post.md  \n",
            "  inflating: fastText-0.9.1/website/blog/2019-06-25-blog-post.md  \n",
            "   creating: fastText-0.9.1/website/core/\n",
            "  inflating: fastText-0.9.1/website/core/Footer.js  \n",
            "  inflating: fastText-0.9.1/website/package.json  \n",
            "   creating: fastText-0.9.1/website/pages/\n",
            "   creating: fastText-0.9.1/website/pages/en/\n",
            "  inflating: fastText-0.9.1/website/pages/en/index.js  \n",
            "  inflating: fastText-0.9.1/website/sidebars.json  \n",
            "  inflating: fastText-0.9.1/website/siteConfig.js  \n",
            "   creating: fastText-0.9.1/website/static/\n",
            "   creating: fastText-0.9.1/website/static/docs/\n",
            "   creating: fastText-0.9.1/website/static/docs/en/\n",
            "   creating: fastText-0.9.1/website/static/docs/en/html/\n",
            " extracting: fastText-0.9.1/website/static/docs/en/html/.classfasttext_1_1QMatrix-members.html.i4eKqy  \n",
            "  inflating: fastText-0.9.1/website/static/docs/en/html/annotated.html  \n",
            "  inflating: fastText-0.9.1/website/static/docs/en/html/annotated_dup.js  \n",
            "  inflating: fastText-0.9.1/website/static/docs/en/html/args_8cc.html  \n",
            "  inflating: fastText-0.9.1/website/static/docs/en/html/args_8h.html  \n",
            "  inflating: fastText-0.9.1/website/static/docs/en/html/args_8h.js  \n",
            "  inflating: fastText-0.9.1/website/static/docs/en/html/args_8h_source.html  \n",
            " extracting: fastText-0.9.1/website/static/docs/en/html/bc_s.png  \n",
            "  inflating: fastText-0.9.1/website/static/docs/en/html/bdwn.png  \n",
            "  inflating: fastText-0.9.1/website/static/docs/en/html/classes.html  \n",
            "  inflating: fastText-0.9.1/website/static/docs/en/html/classfasttext_1_1Args-members.html  \n",
            "  inflating: fastText-0.9.1/website/static/docs/en/html/classfasttext_1_1Args.html  \n",
            "  inflating: fastText-0.9.1/website/static/docs/en/html/classfasttext_1_1Args.js  \n",
            "  inflating: fastText-0.9.1/website/static/docs/en/html/classfasttext_1_1Dictionary-members.html  \n",
            "  inflating: fastText-0.9.1/website/static/docs/en/html/classfasttext_1_1Dictionary.html  \n",
            "  inflating: fastText-0.9.1/website/static/docs/en/html/classfasttext_1_1Dictionary.js  \n",
            "  inflating: fastText-0.9.1/website/static/docs/en/html/classfasttext_1_1FastText-members.html  \n",
            "  inflating: fastText-0.9.1/website/static/docs/en/html/classfasttext_1_1FastText.html  \n",
            "  inflating: fastText-0.9.1/website/static/docs/en/html/classfasttext_1_1FastText.js  \n",
            "  inflating: fastText-0.9.1/website/static/docs/en/html/classfasttext_1_1Matrix-members.html  \n",
            "  inflating: fastText-0.9.1/website/static/docs/en/html/classfasttext_1_1Matrix.html  \n",
            "  inflating: fastText-0.9.1/website/static/docs/en/html/classfasttext_1_1Matrix.js  \n",
            "  inflating: fastText-0.9.1/website/static/docs/en/html/classfasttext_1_1Model-members.html  \n",
            "  inflating: fastText-0.9.1/website/static/docs/en/html/classfasttext_1_1Model.html  \n",
            "  inflating: fastText-0.9.1/website/static/docs/en/html/classfasttext_1_1Model.js  \n",
            "  inflating: fastText-0.9.1/website/static/docs/en/html/classfasttext_1_1ProductQuantizer-members.html  \n",
            "  inflating: fastText-0.9.1/website/static/docs/en/html/classfasttext_1_1ProductQuantizer.html  \n",
            "  inflating: fastText-0.9.1/website/static/docs/en/html/classfasttext_1_1ProductQuantizer.js  \n",
            "  inflating: fastText-0.9.1/website/static/docs/en/html/classfasttext_1_1QMatrix-members.html  \n",
            "  inflating: fastText-0.9.1/website/static/docs/en/html/classfasttext_1_1QMatrix.html  \n",
            "  inflating: fastText-0.9.1/website/static/docs/en/html/classfasttext_1_1QMatrix.js  \n",
            "  inflating: fastText-0.9.1/website/static/docs/en/html/classfasttext_1_1Vector-members.html  \n",
            "  inflating: fastText-0.9.1/website/static/docs/en/html/classfasttext_1_1Vector.html  \n",
            "  inflating: fastText-0.9.1/website/static/docs/en/html/classfasttext_1_1Vector.js  \n",
            "  inflating: fastText-0.9.1/website/static/docs/en/html/closed.png  \n",
            "  inflating: fastText-0.9.1/website/static/docs/en/html/dictionary_8cc.html  \n",
            "  inflating: fastText-0.9.1/website/static/docs/en/html/dictionary_8h.html  \n",
            "  inflating: fastText-0.9.1/website/static/docs/en/html/dictionary_8h.js  \n",
            "  inflating: fastText-0.9.1/website/static/docs/en/html/dictionary_8h_source.html  \n",
            "  inflating: fastText-0.9.1/website/static/docs/en/html/dir_68267d1309a1af8e8297ef4c3efbcdba.html  \n",
            "  inflating: fastText-0.9.1/website/static/docs/en/html/dir_68267d1309a1af8e8297ef4c3efbcdba.js  \n",
            " extracting: fastText-0.9.1/website/static/docs/en/html/doc.png  \n",
            "  inflating: fastText-0.9.1/website/static/docs/en/html/doxygen.css  \n",
            " extracting: fastText-0.9.1/website/static/docs/en/html/doxygen.png  \n",
            "  inflating: fastText-0.9.1/website/static/docs/en/html/dynsections.js  \n",
            "  inflating: fastText-0.9.1/website/static/docs/en/html/fasttext_8cc.html  \n",
            "  inflating: fastText-0.9.1/website/static/docs/en/html/fasttext_8h.html  \n",
            "  inflating: fastText-0.9.1/website/static/docs/en/html/fasttext_8h.js  \n",
            "  inflating: fastText-0.9.1/website/static/docs/en/html/fasttext_8h_source.html  \n",
            "  inflating: fastText-0.9.1/website/static/docs/en/html/favicon.png  \n",
            "  inflating: fastText-0.9.1/website/static/docs/en/html/files.html  \n",
            "  inflating: fastText-0.9.1/website/static/docs/en/html/files.js  \n",
            " extracting: fastText-0.9.1/website/static/docs/en/html/folderclosed.png  \n",
            " extracting: fastText-0.9.1/website/static/docs/en/html/folderopen.png  \n",
            "  inflating: fastText-0.9.1/website/static/docs/en/html/functions.html  \n",
            "  inflating: fastText-0.9.1/website/static/docs/en/html/functions_0x7e.html  \n",
            "  inflating: fastText-0.9.1/website/static/docs/en/html/functions_b.html  \n",
            "  inflating: fastText-0.9.1/website/static/docs/en/html/functions_c.html  \n",
            "  inflating: fastText-0.9.1/website/static/docs/en/html/functions_d.html  \n",
            "  inflating: fastText-0.9.1/website/static/docs/en/html/functions_dup.js  \n",
            "  inflating: fastText-0.9.1/website/static/docs/en/html/functions_e.html  \n",
            "  inflating: fastText-0.9.1/website/static/docs/en/html/functions_f.html  \n",
            "  inflating: fastText-0.9.1/website/static/docs/en/html/functions_func.html  \n",
            "  inflating: fastText-0.9.1/website/static/docs/en/html/functions_g.html  \n",
            "  inflating: fastText-0.9.1/website/static/docs/en/html/functions_h.html  \n",
            "  inflating: fastText-0.9.1/website/static/docs/en/html/functions_i.html  \n",
            "  inflating: fastText-0.9.1/website/static/docs/en/html/functions_k.html  \n",
            "  inflating: fastText-0.9.1/website/static/docs/en/html/functions_l.html  \n",
            "  inflating: fastText-0.9.1/website/static/docs/en/html/functions_m.html  \n",
            "  inflating: fastText-0.9.1/website/static/docs/en/html/functions_n.html  \n",
            "  inflating: fastText-0.9.1/website/static/docs/en/html/functions_o.html  \n",
            "  inflating: fastText-0.9.1/website/static/docs/en/html/functions_p.html  \n",
            "  inflating: fastText-0.9.1/website/static/docs/en/html/functions_q.html  \n",
            "  inflating: fastText-0.9.1/website/static/docs/en/html/functions_r.html  \n",
            "  inflating: fastText-0.9.1/website/static/docs/en/html/functions_s.html  \n",
            "  inflating: fastText-0.9.1/website/static/docs/en/html/functions_t.html  \n",
            "  inflating: fastText-0.9.1/website/static/docs/en/html/functions_u.html  \n",
            "  inflating: fastText-0.9.1/website/static/docs/en/html/functions_v.html  \n",
            "  inflating: fastText-0.9.1/website/static/docs/en/html/functions_vars.html  \n",
            "  inflating: fastText-0.9.1/website/static/docs/en/html/functions_w.html  \n",
            "  inflating: fastText-0.9.1/website/static/docs/en/html/functions_z.html  \n",
            "  inflating: fastText-0.9.1/website/static/docs/en/html/globals.html  \n",
            "  inflating: fastText-0.9.1/website/static/docs/en/html/globals_defs.html  \n",
            "  inflating: fastText-0.9.1/website/static/docs/en/html/globals_func.html  \n",
            "  inflating: fastText-0.9.1/website/static/docs/en/html/index.html  \n",
            "  inflating: fastText-0.9.1/website/static/docs/en/html/jquery.js  \n",
            "  inflating: fastText-0.9.1/website/static/docs/en/html/main_8cc.html  \n",
            "  inflating: fastText-0.9.1/website/static/docs/en/html/main_8cc.js  \n",
            "  inflating: fastText-0.9.1/website/static/docs/en/html/matrix_8cc.html  \n",
            "  inflating: fastText-0.9.1/website/static/docs/en/html/matrix_8h.html  \n",
            "  inflating: fastText-0.9.1/website/static/docs/en/html/matrix_8h_source.html  \n",
            "  inflating: fastText-0.9.1/website/static/docs/en/html/menu.js  \n",
            "  inflating: fastText-0.9.1/website/static/docs/en/html/menudata.js  \n",
            "  inflating: fastText-0.9.1/website/static/docs/en/html/model_8cc.html  \n",
            "  inflating: fastText-0.9.1/website/static/docs/en/html/model_8h.html  \n",
            "  inflating: fastText-0.9.1/website/static/docs/en/html/model_8h.js  \n",
            "  inflating: fastText-0.9.1/website/static/docs/en/html/model_8h_source.html  \n",
            "  inflating: fastText-0.9.1/website/static/docs/en/html/namespacefasttext.html  \n",
            "  inflating: fastText-0.9.1/website/static/docs/en/html/namespacefasttext.js  \n",
            "  inflating: fastText-0.9.1/website/static/docs/en/html/namespacefasttext_1_1utils.html  \n",
            "  inflating: fastText-0.9.1/website/static/docs/en/html/namespacemembers.html  \n",
            "  inflating: fastText-0.9.1/website/static/docs/en/html/namespacemembers_enum.html  \n",
            "  inflating: fastText-0.9.1/website/static/docs/en/html/namespacemembers_func.html  \n",
            "  inflating: fastText-0.9.1/website/static/docs/en/html/namespacemembers_type.html  \n",
            "  inflating: fastText-0.9.1/website/static/docs/en/html/namespaces.html  \n",
            "  inflating: fastText-0.9.1/website/static/docs/en/html/namespaces.js  \n",
            " extracting: fastText-0.9.1/website/static/docs/en/html/nav_f.png  \n",
            "  inflating: fastText-0.9.1/website/static/docs/en/html/nav_g.png  \n",
            "  inflating: fastText-0.9.1/website/static/docs/en/html/nav_h.png  \n",
            "  inflating: fastText-0.9.1/website/static/docs/en/html/navtree.css  \n",
            "  inflating: fastText-0.9.1/website/static/docs/en/html/navtree.js  \n",
            "  inflating: fastText-0.9.1/website/static/docs/en/html/navtreedata.js  \n",
            "  inflating: fastText-0.9.1/website/static/docs/en/html/navtreeindex0.js  \n",
            "  inflating: fastText-0.9.1/website/static/docs/en/html/navtreeindex1.js  \n",
            "  inflating: fastText-0.9.1/website/static/docs/en/html/open.png  \n",
            "  inflating: fastText-0.9.1/website/static/docs/en/html/productquantizer_8cc.html  \n",
            "  inflating: fastText-0.9.1/website/static/docs/en/html/productquantizer_8cc.js  \n",
            "  inflating: fastText-0.9.1/website/static/docs/en/html/productquantizer_8h.html  \n",
            "  inflating: fastText-0.9.1/website/static/docs/en/html/productquantizer_8h_source.html  \n",
            "  inflating: fastText-0.9.1/website/static/docs/en/html/qmatrix_8cc.html  \n",
            "  inflating: fastText-0.9.1/website/static/docs/en/html/qmatrix_8h.html  \n",
            "  inflating: fastText-0.9.1/website/static/docs/en/html/qmatrix_8h_source.html  \n",
            "  inflating: fastText-0.9.1/website/static/docs/en/html/real_8h.html  \n",
            "  inflating: fastText-0.9.1/website/static/docs/en/html/real_8h.js  \n",
            "  inflating: fastText-0.9.1/website/static/docs/en/html/real_8h_source.html  \n",
            "  inflating: fastText-0.9.1/website/static/docs/en/html/resize.js  \n",
            "   creating: fastText-0.9.1/website/static/docs/en/html/search/\n",
            " extracting: fastText-0.9.1/website/static/docs/en/html/search/.files_7.html.StRRNc  \n",
            " extracting: fastText-0.9.1/website/static/docs/en/html/search/.variables_a.html.1MGQ27  \n",
            "  inflating: fastText-0.9.1/website/static/docs/en/html/search/all_0.html  \n",
            "  inflating: fastText-0.9.1/website/static/docs/en/html/search/all_0.js  \n",
            "  inflating: fastText-0.9.1/website/static/docs/en/html/search/all_1.html  \n",
            "  inflating: fastText-0.9.1/website/static/docs/en/html/search/all_1.js  \n",
            "  inflating: fastText-0.9.1/website/static/docs/en/html/search/all_10.html  \n",
            "  inflating: fastText-0.9.1/website/static/docs/en/html/search/all_10.js  \n",
            "  inflating: fastText-0.9.1/website/static/docs/en/html/search/all_11.html  \n",
            "  inflating: fastText-0.9.1/website/static/docs/en/html/search/all_11.js  \n",
            "  inflating: fastText-0.9.1/website/static/docs/en/html/search/all_12.html  \n",
            "  inflating: fastText-0.9.1/website/static/docs/en/html/search/all_12.js  \n",
            "  inflating: fastText-0.9.1/website/static/docs/en/html/search/all_13.html  \n",
            "  inflating: fastText-0.9.1/website/static/docs/en/html/search/all_13.js  \n",
            "  inflating: fastText-0.9.1/website/static/docs/en/html/search/all_14.html  \n",
            "  inflating: fastText-0.9.1/website/static/docs/en/html/search/all_14.js  \n",
            "  inflating: fastText-0.9.1/website/static/docs/en/html/search/all_15.html  \n",
            "  inflating: fastText-0.9.1/website/static/docs/en/html/search/all_15.js  \n",
            "  inflating: fastText-0.9.1/website/static/docs/en/html/search/all_16.html  \n",
            "  inflating: fastText-0.9.1/website/static/docs/en/html/search/all_16.js  \n",
            "  inflating: fastText-0.9.1/website/static/docs/en/html/search/all_17.html  \n",
            "  inflating: fastText-0.9.1/website/static/docs/en/html/search/all_17.js  \n",
            "  inflating: fastText-0.9.1/website/static/docs/en/html/search/all_2.html  \n",
            "  inflating: fastText-0.9.1/website/static/docs/en/html/search/all_2.js  \n",
            "  inflating: fastText-0.9.1/website/static/docs/en/html/search/all_3.html  \n",
            "  inflating: fastText-0.9.1/website/static/docs/en/html/search/all_3.js  \n",
            "  inflating: fastText-0.9.1/website/static/docs/en/html/search/all_4.html  \n",
            "  inflating: fastText-0.9.1/website/static/docs/en/html/search/all_4.js  \n",
            "  inflating: fastText-0.9.1/website/static/docs/en/html/search/all_5.html  \n",
            "  inflating: fastText-0.9.1/website/static/docs/en/html/search/all_5.js  \n",
            "  inflating: fastText-0.9.1/website/static/docs/en/html/search/all_6.html  \n",
            "  inflating: fastText-0.9.1/website/static/docs/en/html/search/all_6.js  \n",
            "  inflating: fastText-0.9.1/website/static/docs/en/html/search/all_7.html  \n",
            "  inflating: fastText-0.9.1/website/static/docs/en/html/search/all_7.js  \n",
            "  inflating: fastText-0.9.1/website/static/docs/en/html/search/all_8.html  \n",
            "  inflating: fastText-0.9.1/website/static/docs/en/html/search/all_8.js  \n",
            "  inflating: fastText-0.9.1/website/static/docs/en/html/search/all_9.html  \n",
            "  inflating: fastText-0.9.1/website/static/docs/en/html/search/all_9.js  \n",
            "  inflating: fastText-0.9.1/website/static/docs/en/html/search/all_a.html  \n",
            "  inflating: fastText-0.9.1/website/static/docs/en/html/search/all_a.js  \n",
            "  inflating: fastText-0.9.1/website/static/docs/en/html/search/all_b.html  \n",
            "  inflating: fastText-0.9.1/website/static/docs/en/html/search/all_b.js  \n",
            "  inflating: fastText-0.9.1/website/static/docs/en/html/search/all_c.html  \n",
            "  inflating: fastText-0.9.1/website/static/docs/en/html/search/all_c.js  \n",
            "  inflating: fastText-0.9.1/website/static/docs/en/html/search/all_d.html  \n",
            "  inflating: fastText-0.9.1/website/static/docs/en/html/search/all_d.js  \n",
            "  inflating: fastText-0.9.1/website/static/docs/en/html/search/all_e.html  \n",
            "  inflating: fastText-0.9.1/website/static/docs/en/html/search/all_e.js  \n",
            "  inflating: fastText-0.9.1/website/static/docs/en/html/search/all_f.html  \n",
            "  inflating: fastText-0.9.1/website/static/docs/en/html/search/all_f.js  \n",
            "  inflating: fastText-0.9.1/website/static/docs/en/html/search/classes_0.html  \n",
            "  inflating: fastText-0.9.1/website/static/docs/en/html/search/classes_0.js  \n",
            "  inflating: fastText-0.9.1/website/static/docs/en/html/search/classes_1.html  \n",
            "  inflating: fastText-0.9.1/website/static/docs/en/html/search/classes_1.js  \n",
            "  inflating: fastText-0.9.1/website/static/docs/en/html/search/classes_2.html  \n",
            "  inflating: fastText-0.9.1/website/static/docs/en/html/search/classes_2.js  \n",
            "  inflating: fastText-0.9.1/website/static/docs/en/html/search/classes_3.html  \n",
            "  inflating: fastText-0.9.1/website/static/docs/en/html/search/classes_3.js  \n",
            "  inflating: fastText-0.9.1/website/static/docs/en/html/search/classes_4.html  \n",
            "  inflating: fastText-0.9.1/website/static/docs/en/html/search/classes_4.js  \n",
            "  inflating: fastText-0.9.1/website/static/docs/en/html/search/classes_5.html  \n",
            "  inflating: fastText-0.9.1/website/static/docs/en/html/search/classes_5.js  \n",
            "  inflating: fastText-0.9.1/website/static/docs/en/html/search/classes_6.html  \n",
            "  inflating: fastText-0.9.1/website/static/docs/en/html/search/classes_6.js  \n",
            "  inflating: fastText-0.9.1/website/static/docs/en/html/search/classes_7.html  \n",
            "  inflating: fastText-0.9.1/website/static/docs/en/html/search/classes_7.js  \n",
            "  inflating: fastText-0.9.1/website/static/docs/en/html/search/classes_8.html  \n",
            "  inflating: fastText-0.9.1/website/static/docs/en/html/search/classes_8.js  \n",
            " extracting: fastText-0.9.1/website/static/docs/en/html/search/close.png  \n",
            "  inflating: fastText-0.9.1/website/static/docs/en/html/search/defines_0.html  \n",
            "  inflating: fastText-0.9.1/website/static/docs/en/html/search/defines_0.js  \n",
            "  inflating: fastText-0.9.1/website/static/docs/en/html/search/defines_1.html  \n",
            "  inflating: fastText-0.9.1/website/static/docs/en/html/search/defines_1.js  \n",
            "  inflating: fastText-0.9.1/website/static/docs/en/html/search/defines_2.html  \n",
            "  inflating: fastText-0.9.1/website/static/docs/en/html/search/defines_2.js  \n",
            "  inflating: fastText-0.9.1/website/static/docs/en/html/search/defines_3.html  \n",
            "  inflating: fastText-0.9.1/website/static/docs/en/html/search/defines_3.js  \n",
            "  inflating: fastText-0.9.1/website/static/docs/en/html/search/enums_0.html  \n",
            "  inflating: fastText-0.9.1/website/static/docs/en/html/search/enums_0.js  \n",
            "  inflating: fastText-0.9.1/website/static/docs/en/html/search/enums_1.html  \n",
            "  inflating: fastText-0.9.1/website/static/docs/en/html/search/enums_1.js  \n",
            "  inflating: fastText-0.9.1/website/static/docs/en/html/search/enums_2.html  \n",
            "  inflating: fastText-0.9.1/website/static/docs/en/html/search/enums_2.js  \n",
            "  inflating: fastText-0.9.1/website/static/docs/en/html/search/enumvalues_0.html  \n",
            "  inflating: fastText-0.9.1/website/static/docs/en/html/search/enumvalues_0.js  \n",
            "  inflating: fastText-0.9.1/website/static/docs/en/html/search/enumvalues_1.html  \n",
            "  inflating: fastText-0.9.1/website/static/docs/en/html/search/enumvalues_1.js  \n",
            "  inflating: fastText-0.9.1/website/static/docs/en/html/search/enumvalues_2.html  \n",
            "  inflating: fastText-0.9.1/website/static/docs/en/html/search/enumvalues_2.js  \n",
            "  inflating: fastText-0.9.1/website/static/docs/en/html/search/enumvalues_3.html  \n",
            "  inflating: fastText-0.9.1/website/static/docs/en/html/search/enumvalues_3.js  \n",
            "  inflating: fastText-0.9.1/website/static/docs/en/html/search/enumvalues_4.html  \n",
            "  inflating: fastText-0.9.1/website/static/docs/en/html/search/enumvalues_4.js  \n",
            "  inflating: fastText-0.9.1/website/static/docs/en/html/search/enumvalues_5.html  \n",
            "  inflating: fastText-0.9.1/website/static/docs/en/html/search/enumvalues_5.js  \n",
            "  inflating: fastText-0.9.1/website/static/docs/en/html/search/files_0.html  \n",
            "  inflating: fastText-0.9.1/website/static/docs/en/html/search/files_0.js  \n",
            "  inflating: fastText-0.9.1/website/static/docs/en/html/search/files_1.html  \n",
            "  inflating: fastText-0.9.1/website/static/docs/en/html/search/files_1.js  \n",
            "  inflating: fastText-0.9.1/website/static/docs/en/html/search/files_2.html  \n",
            "  inflating: fastText-0.9.1/website/static/docs/en/html/search/files_2.js  \n",
            "  inflating: fastText-0.9.1/website/static/docs/en/html/search/files_3.html  \n",
            "  inflating: fastText-0.9.1/website/static/docs/en/html/search/files_3.js  \n",
            "  inflating: fastText-0.9.1/website/static/docs/en/html/search/files_4.html  \n",
            "  inflating: fastText-0.9.1/website/static/docs/en/html/search/files_4.js  \n",
            "  inflating: fastText-0.9.1/website/static/docs/en/html/search/files_5.html  \n",
            "  inflating: fastText-0.9.1/website/static/docs/en/html/search/files_5.js  \n",
            "  inflating: fastText-0.9.1/website/static/docs/en/html/search/files_6.html  \n",
            "  inflating: fastText-0.9.1/website/static/docs/en/html/search/files_6.js  \n",
            "  inflating: fastText-0.9.1/website/static/docs/en/html/search/files_7.html  \n",
            "  inflating: fastText-0.9.1/website/static/docs/en/html/search/files_7.js  \n",
            "  inflating: fastText-0.9.1/website/static/docs/en/html/search/files_8.html  \n",
            "  inflating: fastText-0.9.1/website/static/docs/en/html/search/files_8.js  \n",
            "  inflating: fastText-0.9.1/website/static/docs/en/html/search/functions_0.html  \n",
            "  inflating: fastText-0.9.1/website/static/docs/en/html/search/functions_0.js  \n",
            "  inflating: fastText-0.9.1/website/static/docs/en/html/search/functions_1.html  \n",
            "  inflating: fastText-0.9.1/website/static/docs/en/html/search/functions_1.js  \n",
            "  inflating: fastText-0.9.1/website/static/docs/en/html/search/functions_10.html  \n",
            "  inflating: fastText-0.9.1/website/static/docs/en/html/search/functions_10.js  \n",
            "  inflating: fastText-0.9.1/website/static/docs/en/html/search/functions_11.html  \n",
            "  inflating: fastText-0.9.1/website/static/docs/en/html/search/functions_11.js  \n",
            "  inflating: fastText-0.9.1/website/static/docs/en/html/search/functions_12.html  \n",
            "  inflating: fastText-0.9.1/website/static/docs/en/html/search/functions_12.js  \n",
            "  inflating: fastText-0.9.1/website/static/docs/en/html/search/functions_13.html  \n",
            "  inflating: fastText-0.9.1/website/static/docs/en/html/search/functions_13.js  \n",
            "  inflating: fastText-0.9.1/website/static/docs/en/html/search/functions_14.html  \n",
            "  inflating: fastText-0.9.1/website/static/docs/en/html/search/functions_14.js  \n",
            "  inflating: fastText-0.9.1/website/static/docs/en/html/search/functions_15.html  \n",
            "  inflating: fastText-0.9.1/website/static/docs/en/html/search/functions_15.js  \n",
            "  inflating: fastText-0.9.1/website/static/docs/en/html/search/functions_16.html  \n",
            "  inflating: fastText-0.9.1/website/static/docs/en/html/search/functions_16.js  \n",
            "  inflating: fastText-0.9.1/website/static/docs/en/html/search/functions_17.html  \n",
            "  inflating: fastText-0.9.1/website/static/docs/en/html/search/functions_17.js  \n",
            "  inflating: fastText-0.9.1/website/static/docs/en/html/search/functions_2.html  \n",
            "  inflating: fastText-0.9.1/website/static/docs/en/html/search/functions_2.js  \n",
            "  inflating: fastText-0.9.1/website/static/docs/en/html/search/functions_3.html  \n",
            "  inflating: fastText-0.9.1/website/static/docs/en/html/search/functions_3.js  \n",
            "  inflating: fastText-0.9.1/website/static/docs/en/html/search/functions_4.html  \n",
            "  inflating: fastText-0.9.1/website/static/docs/en/html/search/functions_4.js  \n",
            "  inflating: fastText-0.9.1/website/static/docs/en/html/search/functions_5.html  \n",
            "  inflating: fastText-0.9.1/website/static/docs/en/html/search/functions_5.js  \n",
            "  inflating: fastText-0.9.1/website/static/docs/en/html/search/functions_6.html  \n",
            "  inflating: fastText-0.9.1/website/static/docs/en/html/search/functions_6.js  \n",
            "  inflating: fastText-0.9.1/website/static/docs/en/html/search/functions_7.html  \n",
            "  inflating: fastText-0.9.1/website/static/docs/en/html/search/functions_7.js  \n",
            "  inflating: fastText-0.9.1/website/static/docs/en/html/search/functions_8.html  \n",
            "  inflating: fastText-0.9.1/website/static/docs/en/html/search/functions_8.js  \n",
            "  inflating: fastText-0.9.1/website/static/docs/en/html/search/functions_9.html  \n",
            "  inflating: fastText-0.9.1/website/static/docs/en/html/search/functions_9.js  \n",
            "  inflating: fastText-0.9.1/website/static/docs/en/html/search/functions_a.html  \n",
            "  inflating: fastText-0.9.1/website/static/docs/en/html/search/functions_a.js  \n",
            "  inflating: fastText-0.9.1/website/static/docs/en/html/search/functions_b.html  \n",
            "  inflating: fastText-0.9.1/website/static/docs/en/html/search/functions_b.js  \n",
            "  inflating: fastText-0.9.1/website/static/docs/en/html/search/functions_c.html  \n",
            "  inflating: fastText-0.9.1/website/static/docs/en/html/search/functions_c.js  \n",
            "  inflating: fastText-0.9.1/website/static/docs/en/html/search/functions_d.html  \n",
            "  inflating: fastText-0.9.1/website/static/docs/en/html/search/functions_d.js  \n",
            "  inflating: fastText-0.9.1/website/static/docs/en/html/search/functions_e.html  \n",
            "  inflating: fastText-0.9.1/website/static/docs/en/html/search/functions_e.js  \n",
            "  inflating: fastText-0.9.1/website/static/docs/en/html/search/functions_f.html  \n",
            "  inflating: fastText-0.9.1/website/static/docs/en/html/search/functions_f.js  \n",
            " extracting: fastText-0.9.1/website/static/docs/en/html/search/mag_sel.png  \n",
            "  inflating: fastText-0.9.1/website/static/docs/en/html/search/namespaces_0.html  \n",
            "  inflating: fastText-0.9.1/website/static/docs/en/html/search/namespaces_0.js  \n",
            "  inflating: fastText-0.9.1/website/static/docs/en/html/search/nomatches.html  \n",
            "  inflating: fastText-0.9.1/website/static/docs/en/html/search/search.css  \n",
            "  inflating: fastText-0.9.1/website/static/docs/en/html/search/search.js  \n",
            " extracting: fastText-0.9.1/website/static/docs/en/html/search/search_l.png  \n",
            "  inflating: fastText-0.9.1/website/static/docs/en/html/search/search_m.png  \n",
            " extracting: fastText-0.9.1/website/static/docs/en/html/search/search_r.png  \n",
            "  inflating: fastText-0.9.1/website/static/docs/en/html/search/searchdata.js  \n",
            "  inflating: fastText-0.9.1/website/static/docs/en/html/search/typedefs_0.html  \n",
            "  inflating: fastText-0.9.1/website/static/docs/en/html/search/typedefs_0.js  \n",
            "  inflating: fastText-0.9.1/website/static/docs/en/html/search/typedefs_1.html  \n",
            "  inflating: fastText-0.9.1/website/static/docs/en/html/search/typedefs_1.js  \n",
            "  inflating: fastText-0.9.1/website/static/docs/en/html/search/variables_0.html  \n",
            "  inflating: fastText-0.9.1/website/static/docs/en/html/search/variables_0.js  \n",
            "  inflating: fastText-0.9.1/website/static/docs/en/html/search/variables_1.html  \n",
            "  inflating: fastText-0.9.1/website/static/docs/en/html/search/variables_1.js  \n",
            "  inflating: fastText-0.9.1/website/static/docs/en/html/search/variables_10.html  \n",
            "  inflating: fastText-0.9.1/website/static/docs/en/html/search/variables_10.js  \n",
            "  inflating: fastText-0.9.1/website/static/docs/en/html/search/variables_11.html  \n",
            "  inflating: fastText-0.9.1/website/static/docs/en/html/search/variables_11.js  \n",
            "  inflating: fastText-0.9.1/website/static/docs/en/html/search/variables_12.html  \n",
            "  inflating: fastText-0.9.1/website/static/docs/en/html/search/variables_12.js  \n",
            "  inflating: fastText-0.9.1/website/static/docs/en/html/search/variables_13.html  \n",
            "  inflating: fastText-0.9.1/website/static/docs/en/html/search/variables_13.js  \n",
            "  inflating: fastText-0.9.1/website/static/docs/en/html/search/variables_2.html  \n",
            "  inflating: fastText-0.9.1/website/static/docs/en/html/search/variables_2.js  \n",
            "  inflating: fastText-0.9.1/website/static/docs/en/html/search/variables_3.html  \n",
            "  inflating: fastText-0.9.1/website/static/docs/en/html/search/variables_3.js  \n",
            "  inflating: fastText-0.9.1/website/static/docs/en/html/search/variables_4.html  \n",
            "  inflating: fastText-0.9.1/website/static/docs/en/html/search/variables_4.js  \n",
            "  inflating: fastText-0.9.1/website/static/docs/en/html/search/variables_5.html  \n",
            "  inflating: fastText-0.9.1/website/static/docs/en/html/search/variables_5.js  \n",
            "  inflating: fastText-0.9.1/website/static/docs/en/html/search/variables_6.html  \n",
            "  inflating: fastText-0.9.1/website/static/docs/en/html/search/variables_6.js  \n",
            "  inflating: fastText-0.9.1/website/static/docs/en/html/search/variables_7.html  \n",
            "  inflating: fastText-0.9.1/website/static/docs/en/html/search/variables_7.js  \n",
            "  inflating: fastText-0.9.1/website/static/docs/en/html/search/variables_8.html  \n",
            "  inflating: fastText-0.9.1/website/static/docs/en/html/search/variables_8.js  \n",
            "  inflating: fastText-0.9.1/website/static/docs/en/html/search/variables_9.html  \n",
            "  inflating: fastText-0.9.1/website/static/docs/en/html/search/variables_9.js  \n",
            "  inflating: fastText-0.9.1/website/static/docs/en/html/search/variables_a.html  \n",
            "  inflating: fastText-0.9.1/website/static/docs/en/html/search/variables_a.js  \n",
            "  inflating: fastText-0.9.1/website/static/docs/en/html/search/variables_b.html  \n",
            "  inflating: fastText-0.9.1/website/static/docs/en/html/search/variables_b.js  \n",
            "  inflating: fastText-0.9.1/website/static/docs/en/html/search/variables_c.html  \n",
            "  inflating: fastText-0.9.1/website/static/docs/en/html/search/variables_c.js  \n",
            "  inflating: fastText-0.9.1/website/static/docs/en/html/search/variables_d.html  \n",
            "  inflating: fastText-0.9.1/website/static/docs/en/html/search/variables_d.js  \n",
            "  inflating: fastText-0.9.1/website/static/docs/en/html/search/variables_e.html  \n",
            "  inflating: fastText-0.9.1/website/static/docs/en/html/search/variables_e.js  \n",
            "  inflating: fastText-0.9.1/website/static/docs/en/html/search/variables_f.html  \n",
            "  inflating: fastText-0.9.1/website/static/docs/en/html/search/variables_f.js  \n",
            "  inflating: fastText-0.9.1/website/static/docs/en/html/splitbar.png  \n",
            "  inflating: fastText-0.9.1/website/static/docs/en/html/structfasttext_1_1Node-members.html  \n",
            "  inflating: fastText-0.9.1/website/static/docs/en/html/structfasttext_1_1Node.html  \n",
            "  inflating: fastText-0.9.1/website/static/docs/en/html/structfasttext_1_1Node.js  \n",
            "  inflating: fastText-0.9.1/website/static/docs/en/html/structfasttext_1_1entry-members.html  \n",
            "  inflating: fastText-0.9.1/website/static/docs/en/html/structfasttext_1_1entry.html  \n",
            "  inflating: fastText-0.9.1/website/static/docs/en/html/structfasttext_1_1entry.js  \n",
            " extracting: fastText-0.9.1/website/static/docs/en/html/sync_off.png  \n",
            " extracting: fastText-0.9.1/website/static/docs/en/html/sync_on.png  \n",
            " extracting: fastText-0.9.1/website/static/docs/en/html/tab_a.png  \n",
            " extracting: fastText-0.9.1/website/static/docs/en/html/tab_b.png  \n",
            " extracting: fastText-0.9.1/website/static/docs/en/html/tab_h.png  \n",
            " extracting: fastText-0.9.1/website/static/docs/en/html/tab_s.png  \n",
            "  inflating: fastText-0.9.1/website/static/docs/en/html/tabs.css  \n",
            "  inflating: fastText-0.9.1/website/static/docs/en/html/utils_8cc.html  \n",
            "  inflating: fastText-0.9.1/website/static/docs/en/html/utils_8cc.js  \n",
            "  inflating: fastText-0.9.1/website/static/docs/en/html/utils_8h.html  \n",
            "  inflating: fastText-0.9.1/website/static/docs/en/html/utils_8h.js  \n",
            "  inflating: fastText-0.9.1/website/static/docs/en/html/utils_8h_source.html  \n",
            "  inflating: fastText-0.9.1/website/static/docs/en/html/vector_8cc.html  \n",
            "  inflating: fastText-0.9.1/website/static/docs/en/html/vector_8cc.js  \n",
            "  inflating: fastText-0.9.1/website/static/docs/en/html/vector_8h.html  \n",
            "  inflating: fastText-0.9.1/website/static/docs/en/html/vector_8h.js  \n",
            "  inflating: fastText-0.9.1/website/static/docs/en/html/vector_8h_source.html  \n",
            "  inflating: fastText-0.9.1/website/static/fasttext.css  \n",
            "   creating: fastText-0.9.1/website/static/img/\n",
            "   creating: fastText-0.9.1/website/static/img/authors/\n",
            "  inflating: fastText-0.9.1/website/static/img/authors/armand_joulin.jpg  \n",
            "  inflating: fastText-0.9.1/website/static/img/authors/christian_puhrsch.png  \n",
            "  inflating: fastText-0.9.1/website/static/img/authors/edouard_grave.jpeg  \n",
            "  inflating: fastText-0.9.1/website/static/img/authors/piotr_bojanowski.jpg  \n",
            "  inflating: fastText-0.9.1/website/static/img/authors/tomas_mikolov.jpg  \n",
            "   creating: fastText-0.9.1/website/static/img/blog/\n",
            "  inflating: fastText-0.9.1/website/static/img/blog/2016-08-18-blog-post-img1.png  \n",
            "  inflating: fastText-0.9.1/website/static/img/blog/2016-08-18-blog-post-img2.png  \n",
            "  inflating: fastText-0.9.1/website/static/img/blog/2017-05-02-blog-post-img1.jpg  \n",
            "  inflating: fastText-0.9.1/website/static/img/blog/2017-05-02-blog-post-img2.jpg  \n",
            "  inflating: fastText-0.9.1/website/static/img/blog/2017-10-02-blog-post-img1.png  \n",
            "  inflating: fastText-0.9.1/website/static/img/cbo_vs_skipgram.png  \n",
            "  inflating: fastText-0.9.1/website/static/img/fasttext-icon-api.png  \n",
            "  inflating: fastText-0.9.1/website/static/img/fasttext-icon-bg-web.png  \n",
            "  inflating: fastText-0.9.1/website/static/img/fasttext-icon-color-square.png  \n",
            "  inflating: fastText-0.9.1/website/static/img/fasttext-icon-color-web.png  \n",
            "  inflating: fastText-0.9.1/website/static/img/fasttext-icon-faq.png  \n",
            "  inflating: fastText-0.9.1/website/static/img/fasttext-icon-tutorial.png  \n",
            "  inflating: fastText-0.9.1/website/static/img/fasttext-icon-white-web.png  \n",
            "  inflating: fastText-0.9.1/website/static/img/fasttext-logo-color-web.png  \n",
            "  inflating: fastText-0.9.1/website/static/img/fasttext-logo-white-web.png  \n",
            "  inflating: fastText-0.9.1/website/static/img/logo-color.png  \n",
            "  inflating: fastText-0.9.1/website/static/img/model-black.png  \n",
            "  inflating: fastText-0.9.1/website/static/img/model-blue.png  \n",
            "  inflating: fastText-0.9.1/website/static/img/model-red.png  \n",
            "  inflating: fastText-0.9.1/website/static/img/ogimage.png  \n",
            "  inflating: fastText-0.9.1/website/static/img/oss_logo.png  \n",
            "  inflating: fastText-0.9.1/wikifil.pl  \n",
            "  inflating: fastText-0.9.1/word-vector-example.sh  \n"
          ],
          "name": "stdout"
        }
      ]
    },
    {
      "cell_type": "code",
      "metadata": {
        "id": "yeHZI03N37gJ",
        "colab_type": "code",
        "outputId": "53e22021-8dc2-4e71-9358-8be41f49f2fc",
        "colab": {
          "base_uri": "https://localhost:8080/",
          "height": 266
        }
      },
      "source": [
        "%cd fastText-0.9.1\n",
        "# !make\n",
        "!pip install .\n",
        "%cd .."
      ],
      "execution_count": 5,
      "outputs": [
        {
          "output_type": "stream",
          "text": [
            "/content/fastText-0.9.1\n",
            "Processing /content/fastText-0.9.1\n",
            "Requirement already satisfied: pybind11>=2.2 in /usr/local/lib/python3.6/dist-packages (from fasttext==0.9.1) (2.4.3)\n",
            "Requirement already satisfied: setuptools>=0.7.0 in /usr/local/lib/python3.6/dist-packages (from fasttext==0.9.1) (41.2.0)\n",
            "Requirement already satisfied: numpy in /usr/local/lib/python3.6/dist-packages (from fasttext==0.9.1) (1.16.5)\n",
            "Building wheels for collected packages: fasttext\n",
            "  Building wheel for fasttext (setup.py) ... \u001b[?25l\u001b[?25hdone\n",
            "  Created wheel for fasttext: filename=fasttext-0.9.1-cp36-cp36m-linux_x86_64.whl size=2387000 sha256=d57f16a1a8f902ff6ba2ad5dc4f58dbbcc232bec9cbe6a5814d6c7fa21b0f87f\n",
            "  Stored in directory: /root/.cache/pip/wheels/20/fa/7a/c31efe7a2a5a79ef4cb20d04cb48814badc1e7712d4845fbbb\n",
            "Successfully built fasttext\n",
            "Installing collected packages: fasttext\n",
            "Successfully installed fasttext-0.9.1\n",
            "/content\n"
          ],
          "name": "stdout"
        }
      ]
    },
    {
      "cell_type": "markdown",
      "metadata": {
        "id": "F0tQOfW6lNnr",
        "colab_type": "text"
      },
      "source": [
        "### Importar o pacote fasttext"
      ]
    },
    {
      "cell_type": "code",
      "metadata": {
        "id": "mwMkfMOsFB26",
        "colab_type": "code",
        "colab": {}
      },
      "source": [
        "import fasttext"
      ],
      "execution_count": 0,
      "outputs": []
    },
    {
      "cell_type": "markdown",
      "metadata": {
        "id": "UAmyRnkelR28",
        "colab_type": "text"
      },
      "source": [
        "### Connectar ao drive, fazer o download e salvar vetores de palavras pré-treinados pelo fasttext\n",
        "\n"
      ]
    },
    {
      "cell_type": "code",
      "metadata": {
        "id": "TDfjAVNxSZD_",
        "colab_type": "code",
        "outputId": "31f69d41-5ff9-4006-daae-fbe7c88982d2",
        "colab": {
          "base_uri": "https://localhost:8080/",
          "height": 125
        }
      },
      "source": [
        "from google.colab import drive\n",
        "drive.mount('/content/drive', force_remount=True)"
      ],
      "execution_count": 7,
      "outputs": [
        {
          "output_type": "stream",
          "text": [
            "Go to this URL in a browser: https://accounts.google.com/o/oauth2/auth?client_id=947318989803-6bn6qk8qdgf4n4g3pfee6491hc0brc4i.apps.googleusercontent.com&redirect_uri=urn%3Aietf%3Awg%3Aoauth%3A2.0%3Aoob&scope=email%20https%3A%2F%2Fwww.googleapis.com%2Fauth%2Fdocs.test%20https%3A%2F%2Fwww.googleapis.com%2Fauth%2Fdrive%20https%3A%2F%2Fwww.googleapis.com%2Fauth%2Fdrive.photos.readonly%20https%3A%2F%2Fwww.googleapis.com%2Fauth%2Fpeopleapi.readonly&response_type=code\n",
            "\n",
            "Enter your authorization code:\n",
            "··········\n",
            "Mounted at /content/drive\n"
          ],
          "name": "stdout"
        }
      ]
    },
    {
      "cell_type": "code",
      "metadata": {
        "id": "Qgg-eYYgSVfd",
        "colab_type": "code",
        "outputId": "5d4429cd-6c59-45f2-fe1d-e36898cd659a",
        "colab": {
          "base_uri": "https://localhost:8080/",
          "height": 210
        }
      },
      "source": [
        "!wget https://dl.fbaipublicfiles.com/fasttext/vectors-crawl/cc.pt.300.vec.gz\n",
        "# !wget https://dl.fbaipublicfiles.com/fasttext/vectors-crawl/cc.pt.300.bin.gz"
      ],
      "execution_count": 8,
      "outputs": [
        {
          "output_type": "stream",
          "text": [
            "--2019-10-18 01:22:56--  https://dl.fbaipublicfiles.com/fasttext/vectors-crawl/cc.pt.300.vec.gz\n",
            "Resolving dl.fbaipublicfiles.com (dl.fbaipublicfiles.com)... 104.20.6.166, 104.20.22.166, 2606:4700:10::6814:6a6, ...\n",
            "Connecting to dl.fbaipublicfiles.com (dl.fbaipublicfiles.com)|104.20.6.166|:443... connected.\n",
            "HTTP request sent, awaiting response... 200 OK\n",
            "Length: 1271093660 (1.2G) [binary/octet-stream]\n",
            "Saving to: ‘cc.pt.300.vec.gz’\n",
            "\n",
            "cc.pt.300.vec.gz    100%[===================>]   1.18G  44.2MB/s    in 28s     \n",
            "\n",
            "2019-10-18 01:23:24 (43.3 MB/s) - ‘cc.pt.300.vec.gz’ saved [1271093660/1271093660]\n",
            "\n"
          ],
          "name": "stdout"
        }
      ]
    },
    {
      "cell_type": "code",
      "metadata": {
        "id": "5N5AQ94cS6qP",
        "colab_type": "code",
        "colab": {}
      },
      "source": [
        "!gunzip cc.pt.300.vec.gz\n",
        "# !gunzip cc.pt.300.bin.gz"
      ],
      "execution_count": 0,
      "outputs": []
    },
    {
      "cell_type": "code",
      "metadata": {
        "id": "ziMDG1fxCGwG",
        "colab_type": "code",
        "colab": {}
      },
      "source": [
        "!cp cc.pt.300.vec \"drive/My Drive/\"\n",
        "# !cp cc.pt.300.bin \"drive/My Drive/\""
      ],
      "execution_count": 0,
      "outputs": []
    },
    {
      "cell_type": "markdown",
      "metadata": {
        "id": "SLplTz8YloHn",
        "colab_type": "text"
      },
      "source": [
        "## Classificar descrições de gastos"
      ]
    },
    {
      "cell_type": "code",
      "metadata": {
        "id": "i_e5jaKlK5ip",
        "colab_type": "code",
        "colab": {}
      },
      "source": [
        "import pandas as pd"
      ],
      "execution_count": 0,
      "outputs": []
    },
    {
      "cell_type": "markdown",
      "metadata": {
        "id": "nn9fkLja54mQ",
        "colab_type": "text"
      },
      "source": [
        "#### Download dos gastos e salvar no meu drive"
      ]
    },
    {
      "cell_type": "code",
      "metadata": {
        "id": "cnIGFgVNlx0W",
        "colab_type": "code",
        "outputId": "4304d007-8fbb-4b33-c802-1cfe95c03dd1",
        "colab": {
          "base_uri": "https://localhost:8080/",
          "height": 1000
        }
      },
      "source": [
        "# Let's get data of a few years in some cities...\n",
        "\n",
        "cities = ['ibitinga', 'sao-jose-do-rio-preto', 'presidente-prudente', 'tupa',\n",
        "          'sao-bernardo-do-campo', 'sao-jose-dos-campos', 'campinas', 'jau',\n",
        "          'sorocaba', 'osasco', 'santo-andre', 'guarulhos', 'sabino', 'cotia']\n",
        "years = range(2013, 2019)\n",
        "df = pd.DataFrame()\n",
        "for city in cities:\n",
        "  for year in years:\n",
        "    print(\"Downloading\", city, year)\n",
        "    city_year_df = expenses.get_expenses(city, year)\n",
        "    df = df.append(city_year_df)\n",
        "print(df.columns)"
      ],
      "execution_count": 13,
      "outputs": [
        {
          "output_type": "stream",
          "text": [
            "Downloading ibitinga 2013\n",
            "Downloading ibitinga 2014\n",
            "Downloading ibitinga 2015\n",
            "Downloading ibitinga 2016\n",
            "Downloading ibitinga 2017\n",
            "Downloading ibitinga 2018\n",
            "Downloading sao-jose-do-rio-preto 2013\n",
            "Downloading sao-jose-do-rio-preto 2014\n",
            "Downloading sao-jose-do-rio-preto 2015\n",
            "Downloading sao-jose-do-rio-preto 2016\n",
            "Downloading sao-jose-do-rio-preto 2017\n",
            "Downloading sao-jose-do-rio-preto 2018\n",
            "Downloading presidente-prudente 2013\n",
            "Downloading presidente-prudente 2014\n",
            "Downloading presidente-prudente 2015\n",
            "Downloading presidente-prudente 2016\n",
            "Downloading presidente-prudente 2017\n",
            "Downloading presidente-prudente 2018\n",
            "Downloading tupa 2013\n",
            "Downloading tupa 2014\n",
            "Downloading tupa 2015\n",
            "Downloading tupa 2016\n",
            "Downloading tupa 2017\n",
            "Downloading tupa 2018\n",
            "Downloading sao-bernardo-do-campo 2013\n",
            "Downloading sao-bernardo-do-campo 2014\n",
            "Downloading sao-bernardo-do-campo 2015\n",
            "Downloading sao-bernardo-do-campo 2016\n",
            "Downloading sao-bernardo-do-campo 2017\n",
            "Downloading sao-bernardo-do-campo 2018\n",
            "Downloading sao-jose-dos-campos 2013\n",
            "Downloading sao-jose-dos-campos 2014\n",
            "Downloading sao-jose-dos-campos 2015\n",
            "Downloading sao-jose-dos-campos 2016\n",
            "Downloading sao-jose-dos-campos 2017\n",
            "Downloading sao-jose-dos-campos 2018\n",
            "Downloading campinas 2013\n",
            "Downloading campinas 2014\n",
            "Downloading campinas 2015\n",
            "Downloading campinas 2016\n",
            "Downloading campinas 2017\n",
            "Downloading campinas 2018\n",
            "Downloading jau 2013\n",
            "Downloading jau 2014\n",
            "Downloading jau 2015\n",
            "Downloading jau 2016\n",
            "Downloading jau 2017\n",
            "Downloading jau 2018\n",
            "Downloading sorocaba 2013\n",
            "Downloading sorocaba 2014\n",
            "Downloading sorocaba 2015\n",
            "Downloading sorocaba 2016\n",
            "Downloading sorocaba 2017\n",
            "Downloading sorocaba 2018\n",
            "Downloading osasco 2013\n",
            "Downloading osasco 2014\n",
            "Downloading osasco 2015\n",
            "Downloading osasco 2016\n",
            "Downloading osasco 2017\n",
            "Downloading osasco 2018\n",
            "Downloading santo-andre 2013\n",
            "Downloading santo-andre 2014\n",
            "Downloading santo-andre 2015\n",
            "Downloading santo-andre 2016\n",
            "Downloading santo-andre 2017\n",
            "Downloading santo-andre 2018\n",
            "Downloading guarulhos 2013\n",
            "Downloading guarulhos 2014\n",
            "Downloading guarulhos 2015\n",
            "Downloading guarulhos 2016\n",
            "Downloading guarulhos 2017\n",
            "Downloading guarulhos 2018\n",
            "Downloading sabino 2013\n",
            "Downloading sabino 2014\n",
            "Downloading sabino 2015\n",
            "Downloading sabino 2016\n",
            "Downloading sabino 2017\n",
            "Downloading sabino 2018\n",
            "Downloading cotia 2013\n",
            "Downloading cotia 2014\n",
            "Downloading cotia 2015\n",
            "Downloading cotia 2016\n",
            "Downloading cotia 2017\n",
            "Downloading cotia 2018\n",
            "Index(['id_despesa_detalhe', 'ano_exercicio', 'ds_municipio', 'ds_orgao',\n",
            "       'mes_referencia', 'mes_ref_extenso', 'tp_despesa', 'nr_empenho',\n",
            "       'identificador_despesa', 'ds_despesa', 'dt_emissao_despesa',\n",
            "       'vl_despesa', 'ds_funcao_governo', 'ds_subfuncao_governo',\n",
            "       'cd_programa', 'ds_programa', 'cd_acao', 'ds_acao', 'ds_fonte_recurso',\n",
            "       'ds_cd_aplicacao_fixo', 'ds_modalidade_lic', 'ds_elemento',\n",
            "       'historico_despesa'],\n",
            "      dtype='object')\n"
          ],
          "name": "stdout"
        }
      ]
    },
    {
      "cell_type": "code",
      "metadata": {
        "id": "WBeKe0HcsP5b",
        "colab_type": "code",
        "colab": {}
      },
      "source": [
        "# df.to_csv(\"drive/My Drive/bigger_table.csv\")"
      ],
      "execution_count": 0,
      "outputs": []
    },
    {
      "cell_type": "code",
      "metadata": {
        "id": "XPm6cbbtt5eD",
        "colab_type": "code",
        "colab": {}
      },
      "source": [
        "df = pd.read_csv(\"drive/My Drive/bigger_table.csv\")"
      ],
      "execution_count": 0,
      "outputs": []
    },
    {
      "cell_type": "markdown",
      "metadata": {
        "id": "htaYOiBV2Jql",
        "colab_type": "text"
      },
      "source": [
        "#### O que vamos considerar como característica para classificar o gasto?"
      ]
    },
    {
      "cell_type": "code",
      "metadata": {
        "id": "FZVQRWC62Nnj",
        "colab_type": "code",
        "outputId": "9f213693-68d2-4d32-abb9-4ab0dc7d72d1",
        "colab": {
          "base_uri": "https://localhost:8080/",
          "height": 457
        }
      },
      "source": [
        "print(df.iloc[15])"
      ],
      "execution_count": 16,
      "outputs": [
        {
          "output_type": "stream",
          "text": [
            "Unnamed: 0                                                              15\n",
            "id_despesa_detalhe                                               247302703\n",
            "ano_exercicio                                                         2013\n",
            "ds_municipio                                                      Ibitinga\n",
            "ds_orgao                                                    AUTARQUIA SAMS\n",
            "mes_referencia                                                           5\n",
            "mes_ref_extenso                                                       maio\n",
            "tp_despesa                                                       Empenhado\n",
            "nr_empenho                                                       1031-2013\n",
            "identificador_despesa         IDENTIFICAÇÃO ESPECIAL - SEM CPF/CNPJ - 3114\n",
            "ds_despesa                                                 SALARIO FAMILIA\n",
            "dt_emissao_despesa                                              27/05/2013\n",
            "vl_despesa                                                          280.32\n",
            "ds_funcao_governo                                                    SAÚDE\n",
            "ds_subfuncao_governo                                   ADMINISTRAÇÃO GERAL\n",
            "cd_programa                                                             45\n",
            "ds_programa                                 Gestao Politico Administrativa\n",
            "cd_acao                                                               2094\n",
            "ds_acao                                         SAMS - Administracao Geral\n",
            "ds_fonte_recurso                                                   TESOURO\n",
            "ds_cd_aplicacao_fixo                                  0310 - SAÚDE - GERAL\n",
            "ds_modalidade_lic                                     OUTROS/NÃO APLICÁVEL\n",
            "ds_elemento              31900501 - SALÁRIO FAMÍLIA - ATIVO - PESSOAL C...\n",
            "historico_despesa        PAGAMENTO DE SALARIO FAMILIA AOS SERVIDORES RE...\n",
            "Name: 15, dtype: object\n"
          ],
          "name": "stdout"
        }
      ]
    },
    {
      "cell_type": "markdown",
      "metadata": {
        "id": "xI4pGDoi234O",
        "colab_type": "text"
      },
      "source": [
        "Boas características para descrever um gasto:\n",
        "* ds_despesa\n",
        "* ds_programa\n",
        "* ds_acao\n",
        "* ds_elemento\n",
        "* historico_despesa\n",
        "\n",
        "\n",
        "Nosso target:\n",
        "* ds_funcao_governo \n"
      ]
    },
    {
      "cell_type": "code",
      "metadata": {
        "id": "X_231R8TqyuZ",
        "colab_type": "code",
        "outputId": "47492444-26a9-4e6d-9bdb-6eac1b71624e",
        "colab": {
          "base_uri": "https://localhost:8080/",
          "height": 805
        }
      },
      "source": [
        "# determines all descriptive features\n",
        "model_features = [\"ds_funcao_governo\", # label\n",
        "#                   \"ds_despesa\", \n",
        "#                   \"ds_programa\",\n",
        "#                   \"ds_acao\",\n",
        "#                   \"ds_elemento\",\n",
        "                  \"historico_despesa\"\n",
        "                 ]\n",
        "\n",
        "# Get only paid expenses\n",
        "paid_df = expenses.only_paid(df)\n",
        "\n",
        "# Now create the model df\n",
        "filtered = [len(str(x).split()) > 20 for x in paid_df[\"historico_despesa\"]]\n",
        "model_df = paid_df[filtered][model_features]\n",
        "print(model_df.columns)\n",
        "model_df.head(25)"
      ],
      "execution_count": 28,
      "outputs": [
        {
          "output_type": "stream",
          "text": [
            "Index(['ds_funcao_governo', 'historico_despesa'], dtype='object')\n"
          ],
          "name": "stdout"
        },
        {
          "output_type": "execute_result",
          "data": {
            "text/html": [
              "<div>\n",
              "<style scoped>\n",
              "    .dataframe tbody tr th:only-of-type {\n",
              "        vertical-align: middle;\n",
              "    }\n",
              "\n",
              "    .dataframe tbody tr th {\n",
              "        vertical-align: top;\n",
              "    }\n",
              "\n",
              "    .dataframe thead th {\n",
              "        text-align: right;\n",
              "    }\n",
              "</style>\n",
              "<table border=\"1\" class=\"dataframe\">\n",
              "  <thead>\n",
              "    <tr style=\"text-align: right;\">\n",
              "      <th></th>\n",
              "      <th>ds_funcao_governo</th>\n",
              "      <th>historico_despesa</th>\n",
              "    </tr>\n",
              "  </thead>\n",
              "  <tbody>\n",
              "    <tr>\n",
              "      <th>308</th>\n",
              "      <td>SAÚDE</td>\n",
              "      <td>AQUISICAO DE GAZE 7 5 X 7 5 C/500 - 09 FIOS PA...</td>\n",
              "    </tr>\n",
              "    <tr>\n",
              "      <th>530</th>\n",
              "      <td>ADMINISTRAÇÃO</td>\n",
              "      <td>SOBRESS.  MAQ. E MOT. DE NAV. E EMB. PAGTO. RE...</td>\n",
              "    </tr>\n",
              "    <tr>\n",
              "      <th>591</th>\n",
              "      <td>ADMINISTRAÇÃO</td>\n",
              "      <td>SOBRESS.  MAQ. E MOT. DE NAV. E EMB. PAGTO. RE...</td>\n",
              "    </tr>\n",
              "    <tr>\n",
              "      <th>839</th>\n",
              "      <td>ADMINISTRAÇÃO</td>\n",
              "      <td>SOBRESS.  MAQ. E MOT. DE NAV. E EMB. PAGTO. RE...</td>\n",
              "    </tr>\n",
              "    <tr>\n",
              "      <th>919</th>\n",
              "      <td>ADMINISTRAÇÃO</td>\n",
              "      <td>SOBRESS.  MAQ. E MOT. DE NAV. E EMB. PAGTO. RE...</td>\n",
              "    </tr>\n",
              "    <tr>\n",
              "      <th>1448</th>\n",
              "      <td>ADMINISTRAÇÃO</td>\n",
              "      <td>SOBRESS.  MAQ. E MOT. DE NAV. E EMB. PAGTO. RE...</td>\n",
              "    </tr>\n",
              "    <tr>\n",
              "      <th>2444</th>\n",
              "      <td>SAÚDE</td>\n",
              "      <td>AQUISICAO DE 76 GALOES DE AGUA MINERAL E 6 FAR...</td>\n",
              "    </tr>\n",
              "    <tr>\n",
              "      <th>8017</th>\n",
              "      <td>ADMINISTRAÇÃO</td>\n",
              "      <td>MATERIAL DE LIMPEZA E HIGIENIZACAO PAGTO. REF....</td>\n",
              "    </tr>\n",
              "    <tr>\n",
              "      <th>13284</th>\n",
              "      <td>URBANISMO</td>\n",
              "      <td>MATERIAL P/ MANUTENCAO DE VEICULOS   PAGTO. RE...</td>\n",
              "    </tr>\n",
              "    <tr>\n",
              "      <th>16793</th>\n",
              "      <td>URBANISMO</td>\n",
              "      <td>MATERIAL P/ MANUTENCAO BENS MOVEIS PAGTO REF. ...</td>\n",
              "    </tr>\n",
              "    <tr>\n",
              "      <th>20055</th>\n",
              "      <td>EDUCAÇÃO</td>\n",
              "      <td>MATERIAL P/ MANUTENCAO BENS IMOVEIS PAGTO REF....</td>\n",
              "    </tr>\n",
              "    <tr>\n",
              "      <th>20468</th>\n",
              "      <td>EDUCAÇÃO</td>\n",
              "      <td>MATERIAL P/ MANUTENCAO BENS IMOVEIS PAGTO REF....</td>\n",
              "    </tr>\n",
              "    <tr>\n",
              "      <th>24557</th>\n",
              "      <td>ASSISTÊNCIA SOCIAL</td>\n",
              "      <td>MATERIAL DE PROTECAO E SEGURANCA PAGTO REF. CO...</td>\n",
              "    </tr>\n",
              "    <tr>\n",
              "      <th>25456</th>\n",
              "      <td>URBANISMO</td>\n",
              "      <td>MATERIAL P/ MANUTENCAO BENS IMOVEIS PAGTO REF....</td>\n",
              "    </tr>\n",
              "    <tr>\n",
              "      <th>26569</th>\n",
              "      <td>LEGISLATIVA</td>\n",
              "      <td>IMPORTANCIA EMPENHADA REF. RECARGAS DE EXTINTO...</td>\n",
              "    </tr>\n",
              "    <tr>\n",
              "      <th>27242</th>\n",
              "      <td>EDUCAÇÃO</td>\n",
              "      <td>MATERIAL P/ MANUTENCAO BENS IMOVEIS PAGTO REF....</td>\n",
              "    </tr>\n",
              "    <tr>\n",
              "      <th>27244</th>\n",
              "      <td>EDUCAÇÃO</td>\n",
              "      <td>MATERIAL P/ MANUTENCAO BENS IMOVEIS PAGTO REF....</td>\n",
              "    </tr>\n",
              "    <tr>\n",
              "      <th>28855</th>\n",
              "      <td>COMÉRCIO E SERVIÇOS</td>\n",
              "      <td>MATERIAL P/ MANUTENCAO BENS IMOVEIS PAGTO REF....</td>\n",
              "    </tr>\n",
              "    <tr>\n",
              "      <th>31561</th>\n",
              "      <td>SAÚDE</td>\n",
              "      <td>AQUISICAO DE 59 GALOES DE 20L DE AGUA MINERAL ...</td>\n",
              "    </tr>\n",
              "    <tr>\n",
              "      <th>32066</th>\n",
              "      <td>COMÉRCIO E SERVIÇOS</td>\n",
              "      <td>MATERIAL P/ MANUTENCAO BENS IMOVEIS PAGTO REF....</td>\n",
              "    </tr>\n",
              "    <tr>\n",
              "      <th>32237</th>\n",
              "      <td>COMÉRCIO E SERVIÇOS</td>\n",
              "      <td>MATERIAL P/ MANUTENCAO BENS IMOVEIS PAGTO REF....</td>\n",
              "    </tr>\n",
              "    <tr>\n",
              "      <th>34631</th>\n",
              "      <td>ASSISTÊNCIA SOCIAL</td>\n",
              "      <td>MATERIAL DE LIMPEZA E HIGIENIZACAO PAGTO. REF....</td>\n",
              "    </tr>\n",
              "    <tr>\n",
              "      <th>36000</th>\n",
              "      <td>CULTURA</td>\n",
              "      <td>MATERIAL DE LIMPEZA E HIGIENIZACAO PAGTO. REF....</td>\n",
              "    </tr>\n",
              "    <tr>\n",
              "      <th>37041</th>\n",
              "      <td>URBANISMO</td>\n",
              "      <td>MATERIAL P/ MANUTENCAO BENS IMOVEIS PAGTO REF....</td>\n",
              "    </tr>\n",
              "    <tr>\n",
              "      <th>37092</th>\n",
              "      <td>CULTURA</td>\n",
              "      <td>MATERIAL P/ MANUTENCAO BENS IMOVEIS PAGTO REF....</td>\n",
              "    </tr>\n",
              "  </tbody>\n",
              "</table>\n",
              "</div>"
            ],
            "text/plain": [
              "         ds_funcao_governo                                  historico_despesa\n",
              "308                  SAÚDE  AQUISICAO DE GAZE 7 5 X 7 5 C/500 - 09 FIOS PA...\n",
              "530          ADMINISTRAÇÃO  SOBRESS.  MAQ. E MOT. DE NAV. E EMB. PAGTO. RE...\n",
              "591          ADMINISTRAÇÃO  SOBRESS.  MAQ. E MOT. DE NAV. E EMB. PAGTO. RE...\n",
              "839          ADMINISTRAÇÃO  SOBRESS.  MAQ. E MOT. DE NAV. E EMB. PAGTO. RE...\n",
              "919          ADMINISTRAÇÃO  SOBRESS.  MAQ. E MOT. DE NAV. E EMB. PAGTO. RE...\n",
              "1448         ADMINISTRAÇÃO  SOBRESS.  MAQ. E MOT. DE NAV. E EMB. PAGTO. RE...\n",
              "2444                 SAÚDE  AQUISICAO DE 76 GALOES DE AGUA MINERAL E 6 FAR...\n",
              "8017         ADMINISTRAÇÃO  MATERIAL DE LIMPEZA E HIGIENIZACAO PAGTO. REF....\n",
              "13284            URBANISMO  MATERIAL P/ MANUTENCAO DE VEICULOS   PAGTO. RE...\n",
              "16793            URBANISMO  MATERIAL P/ MANUTENCAO BENS MOVEIS PAGTO REF. ...\n",
              "20055             EDUCAÇÃO  MATERIAL P/ MANUTENCAO BENS IMOVEIS PAGTO REF....\n",
              "20468             EDUCAÇÃO  MATERIAL P/ MANUTENCAO BENS IMOVEIS PAGTO REF....\n",
              "24557   ASSISTÊNCIA SOCIAL  MATERIAL DE PROTECAO E SEGURANCA PAGTO REF. CO...\n",
              "25456            URBANISMO  MATERIAL P/ MANUTENCAO BENS IMOVEIS PAGTO REF....\n",
              "26569          LEGISLATIVA  IMPORTANCIA EMPENHADA REF. RECARGAS DE EXTINTO...\n",
              "27242             EDUCAÇÃO  MATERIAL P/ MANUTENCAO BENS IMOVEIS PAGTO REF....\n",
              "27244             EDUCAÇÃO  MATERIAL P/ MANUTENCAO BENS IMOVEIS PAGTO REF....\n",
              "28855  COMÉRCIO E SERVIÇOS  MATERIAL P/ MANUTENCAO BENS IMOVEIS PAGTO REF....\n",
              "31561                SAÚDE  AQUISICAO DE 59 GALOES DE 20L DE AGUA MINERAL ...\n",
              "32066  COMÉRCIO E SERVIÇOS  MATERIAL P/ MANUTENCAO BENS IMOVEIS PAGTO REF....\n",
              "32237  COMÉRCIO E SERVIÇOS  MATERIAL P/ MANUTENCAO BENS IMOVEIS PAGTO REF....\n",
              "34631   ASSISTÊNCIA SOCIAL  MATERIAL DE LIMPEZA E HIGIENIZACAO PAGTO. REF....\n",
              "36000              CULTURA  MATERIAL DE LIMPEZA E HIGIENIZACAO PAGTO. REF....\n",
              "37041            URBANISMO  MATERIAL P/ MANUTENCAO BENS IMOVEIS PAGTO REF....\n",
              "37092              CULTURA  MATERIAL P/ MANUTENCAO BENS IMOVEIS PAGTO REF...."
            ]
          },
          "metadata": {
            "tags": []
          },
          "execution_count": 28
        }
      ]
    },
    {
      "cell_type": "markdown",
      "metadata": {
        "id": "UxfKAuWd41XP",
        "colab_type": "text"
      },
      "source": [
        "Vamos contar as labels do nosso conjunto de dados"
      ]
    },
    {
      "cell_type": "code",
      "metadata": {
        "id": "CT7n_JFZrR70",
        "colab_type": "code",
        "outputId": "ba7636be-1efc-4929-88b8-68200078e590",
        "colab": {
          "base_uri": "https://localhost:8080/",
          "height": 846
        }
      },
      "source": [
        "model_df.groupby('ds_funcao_governo').agg({'ds_funcao_governo': 'count'})"
      ],
      "execution_count": 29,
      "outputs": [
        {
          "output_type": "execute_result",
          "data": {
            "text/html": [
              "<div>\n",
              "<style scoped>\n",
              "    .dataframe tbody tr th:only-of-type {\n",
              "        vertical-align: middle;\n",
              "    }\n",
              "\n",
              "    .dataframe tbody tr th {\n",
              "        vertical-align: top;\n",
              "    }\n",
              "\n",
              "    .dataframe thead th {\n",
              "        text-align: right;\n",
              "    }\n",
              "</style>\n",
              "<table border=\"1\" class=\"dataframe\">\n",
              "  <thead>\n",
              "    <tr style=\"text-align: right;\">\n",
              "      <th></th>\n",
              "      <th>ds_funcao_governo</th>\n",
              "    </tr>\n",
              "    <tr>\n",
              "      <th>ds_funcao_governo</th>\n",
              "      <th></th>\n",
              "    </tr>\n",
              "  </thead>\n",
              "  <tbody>\n",
              "    <tr>\n",
              "      <th>ADMINISTRAÇÃO</th>\n",
              "      <td>94688</td>\n",
              "    </tr>\n",
              "    <tr>\n",
              "      <th>AGRICULTURA</th>\n",
              "      <td>2839</td>\n",
              "    </tr>\n",
              "    <tr>\n",
              "      <th>ASSISTÊNCIA SOCIAL</th>\n",
              "      <td>66678</td>\n",
              "    </tr>\n",
              "    <tr>\n",
              "      <th>CIÊNCIA E TECNOLOGIA</th>\n",
              "      <td>75</td>\n",
              "    </tr>\n",
              "    <tr>\n",
              "      <th>COMUNICAÇÕES</th>\n",
              "      <td>1238</td>\n",
              "    </tr>\n",
              "    <tr>\n",
              "      <th>COMÉRCIO E SERVIÇOS</th>\n",
              "      <td>5721</td>\n",
              "    </tr>\n",
              "    <tr>\n",
              "      <th>CULTURA</th>\n",
              "      <td>14338</td>\n",
              "    </tr>\n",
              "    <tr>\n",
              "      <th>DEFESA NACIONAL</th>\n",
              "      <td>607</td>\n",
              "    </tr>\n",
              "    <tr>\n",
              "      <th>DESPORTO E LAZER</th>\n",
              "      <td>50725</td>\n",
              "    </tr>\n",
              "    <tr>\n",
              "      <th>DIREITOS DA CIDADANIA</th>\n",
              "      <td>3891</td>\n",
              "    </tr>\n",
              "    <tr>\n",
              "      <th>EDUCAÇÃO</th>\n",
              "      <td>121767</td>\n",
              "    </tr>\n",
              "    <tr>\n",
              "      <th>ENCARGOS ESPECIAIS</th>\n",
              "      <td>19473</td>\n",
              "    </tr>\n",
              "    <tr>\n",
              "      <th>ESSENCIAL À JUSTIÇA</th>\n",
              "      <td>521</td>\n",
              "    </tr>\n",
              "    <tr>\n",
              "      <th>GESTÃO AMBIENTAL</th>\n",
              "      <td>6078</td>\n",
              "    </tr>\n",
              "    <tr>\n",
              "      <th>HABITAÇÃO</th>\n",
              "      <td>15906</td>\n",
              "    </tr>\n",
              "    <tr>\n",
              "      <th>INDÚSTRIA</th>\n",
              "      <td>489</td>\n",
              "    </tr>\n",
              "    <tr>\n",
              "      <th>JUDICIÁRIA</th>\n",
              "      <td>4067</td>\n",
              "    </tr>\n",
              "    <tr>\n",
              "      <th>LEGISLATIVA</th>\n",
              "      <td>37568</td>\n",
              "    </tr>\n",
              "    <tr>\n",
              "      <th>PREVIDÊNCIA SOCIAL</th>\n",
              "      <td>14715</td>\n",
              "    </tr>\n",
              "    <tr>\n",
              "      <th>RELAÇÕES EXTERIORES</th>\n",
              "      <td>84</td>\n",
              "    </tr>\n",
              "    <tr>\n",
              "      <th>SANEAMENTO</th>\n",
              "      <td>27082</td>\n",
              "    </tr>\n",
              "    <tr>\n",
              "      <th>SAÚDE</th>\n",
              "      <td>125522</td>\n",
              "    </tr>\n",
              "    <tr>\n",
              "      <th>SEGURANÇA PÚBLICA</th>\n",
              "      <td>16655</td>\n",
              "    </tr>\n",
              "    <tr>\n",
              "      <th>TRABALHO</th>\n",
              "      <td>2515</td>\n",
              "    </tr>\n",
              "    <tr>\n",
              "      <th>TRANSPORTE</th>\n",
              "      <td>18513</td>\n",
              "    </tr>\n",
              "    <tr>\n",
              "      <th>URBANISMO</th>\n",
              "      <td>28118</td>\n",
              "    </tr>\n",
              "  </tbody>\n",
              "</table>\n",
              "</div>"
            ],
            "text/plain": [
              "                       ds_funcao_governo\n",
              "ds_funcao_governo                       \n",
              "ADMINISTRAÇÃO                      94688\n",
              "AGRICULTURA                         2839\n",
              "ASSISTÊNCIA SOCIAL                 66678\n",
              "CIÊNCIA E TECNOLOGIA                  75\n",
              "COMUNICAÇÕES                        1238\n",
              "COMÉRCIO E SERVIÇOS                 5721\n",
              "CULTURA                            14338\n",
              "DEFESA NACIONAL                      607\n",
              "DESPORTO E LAZER                   50725\n",
              "DIREITOS DA CIDADANIA               3891\n",
              "EDUCAÇÃO                          121767\n",
              "ENCARGOS ESPECIAIS                 19473\n",
              "ESSENCIAL À JUSTIÇA                  521\n",
              "GESTÃO AMBIENTAL                    6078\n",
              "HABITAÇÃO                          15906\n",
              "INDÚSTRIA                            489\n",
              "JUDICIÁRIA                          4067\n",
              "LEGISLATIVA                        37568\n",
              "PREVIDÊNCIA SOCIAL                 14715\n",
              "RELAÇÕES EXTERIORES                   84\n",
              "SANEAMENTO                         27082\n",
              "SAÚDE                             125522\n",
              "SEGURANÇA PÚBLICA                  16655\n",
              "TRABALHO                            2515\n",
              "TRANSPORTE                         18513\n",
              "URBANISMO                          28118"
            ]
          },
          "metadata": {
            "tags": []
          },
          "execution_count": 29
        }
      ]
    },
    {
      "cell_type": "markdown",
      "metadata": {
        "id": "QllU51cK5twr",
        "colab_type": "text"
      },
      "source": [
        "A distribuição não é equilibrada, mas não vamos tratar isso por enquanto."
      ]
    },
    {
      "cell_type": "markdown",
      "metadata": {
        "id": "b1nV3QPE5-Nz",
        "colab_type": "text"
      },
      "source": [
        "#### Prepara os dados do modelo"
      ]
    },
    {
      "cell_type": "markdown",
      "metadata": {
        "id": "1HOCH3K82_Sr",
        "colab_type": "text"
      },
      "source": [
        "Coloca a classe (label) no formato aceito pelo fasttext. O formato padrão é \"\\_\\_label\\_\\_{classe}\"."
      ]
    },
    {
      "cell_type": "code",
      "metadata": {
        "id": "9eA5eVJ3e2hx",
        "colab_type": "code",
        "colab": {}
      },
      "source": [
        "def label_format(s):\n",
        "  words = str(s).split()\n",
        "  underscored = \"_\".join(words)\n",
        "  return \"__label__\" + underscored\n",
        "  \n",
        "model_df[\"ds_funcao_governo\"] = model_df[\"ds_funcao_governo\"].map(label_format)"
      ],
      "execution_count": 0,
      "outputs": []
    },
    {
      "cell_type": "code",
      "metadata": {
        "id": "ehpVXC4x8fS9",
        "colab_type": "code",
        "colab": {
          "base_uri": "https://localhost:8080/",
          "height": 195
        },
        "outputId": "fe31124c-4d52-46e6-f94c-19d29be0c0b8"
      },
      "source": [
        "model_df.head()"
      ],
      "execution_count": 31,
      "outputs": [
        {
          "output_type": "execute_result",
          "data": {
            "text/html": [
              "<div>\n",
              "<style scoped>\n",
              "    .dataframe tbody tr th:only-of-type {\n",
              "        vertical-align: middle;\n",
              "    }\n",
              "\n",
              "    .dataframe tbody tr th {\n",
              "        vertical-align: top;\n",
              "    }\n",
              "\n",
              "    .dataframe thead th {\n",
              "        text-align: right;\n",
              "    }\n",
              "</style>\n",
              "<table border=\"1\" class=\"dataframe\">\n",
              "  <thead>\n",
              "    <tr style=\"text-align: right;\">\n",
              "      <th></th>\n",
              "      <th>ds_funcao_governo</th>\n",
              "      <th>historico_despesa</th>\n",
              "    </tr>\n",
              "  </thead>\n",
              "  <tbody>\n",
              "    <tr>\n",
              "      <th>308</th>\n",
              "      <td>__label__SAÚDE</td>\n",
              "      <td>AQUISICAO DE GAZE 7 5 X 7 5 C/500 - 09 FIOS PA...</td>\n",
              "    </tr>\n",
              "    <tr>\n",
              "      <th>530</th>\n",
              "      <td>__label__ADMINISTRAÇÃO</td>\n",
              "      <td>SOBRESS.  MAQ. E MOT. DE NAV. E EMB. PAGTO. RE...</td>\n",
              "    </tr>\n",
              "    <tr>\n",
              "      <th>591</th>\n",
              "      <td>__label__ADMINISTRAÇÃO</td>\n",
              "      <td>SOBRESS.  MAQ. E MOT. DE NAV. E EMB. PAGTO. RE...</td>\n",
              "    </tr>\n",
              "    <tr>\n",
              "      <th>839</th>\n",
              "      <td>__label__ADMINISTRAÇÃO</td>\n",
              "      <td>SOBRESS.  MAQ. E MOT. DE NAV. E EMB. PAGTO. RE...</td>\n",
              "    </tr>\n",
              "    <tr>\n",
              "      <th>919</th>\n",
              "      <td>__label__ADMINISTRAÇÃO</td>\n",
              "      <td>SOBRESS.  MAQ. E MOT. DE NAV. E EMB. PAGTO. RE...</td>\n",
              "    </tr>\n",
              "  </tbody>\n",
              "</table>\n",
              "</div>"
            ],
            "text/plain": [
              "          ds_funcao_governo                                  historico_despesa\n",
              "308          __label__SAÚDE  AQUISICAO DE GAZE 7 5 X 7 5 C/500 - 09 FIOS PA...\n",
              "530  __label__ADMINISTRAÇÃO  SOBRESS.  MAQ. E MOT. DE NAV. E EMB. PAGTO. RE...\n",
              "591  __label__ADMINISTRAÇÃO  SOBRESS.  MAQ. E MOT. DE NAV. E EMB. PAGTO. RE...\n",
              "839  __label__ADMINISTRAÇÃO  SOBRESS.  MAQ. E MOT. DE NAV. E EMB. PAGTO. RE...\n",
              "919  __label__ADMINISTRAÇÃO  SOBRESS.  MAQ. E MOT. DE NAV. E EMB. PAGTO. RE..."
            ]
          },
          "metadata": {
            "tags": []
          },
          "execution_count": 31
        }
      ]
    },
    {
      "cell_type": "markdown",
      "metadata": {
        "id": "XcJ8WyfU3C6g",
        "colab_type": "text"
      },
      "source": [
        "Filtra o conteúdo de historico_despesa. Removeremos números, pontuações e conectivos que não adicionam semântica ao atributo.\n"
      ]
    },
    {
      "cell_type": "code",
      "metadata": {
        "id": "lwKqm09cfh1V",
        "colab_type": "code",
        "colab": {
          "base_uri": "https://localhost:8080/",
          "height": 70
        },
        "outputId": "6f150e6d-6dd5-47bc-8c1d-66d997b0108c"
      },
      "source": [
        "from string import punctuation\n",
        "import nltk\n",
        "nltk.download('stopwords')\n",
        "from nltk.corpus import stopwords\n",
        "from collections import Counter\n",
        "\n",
        "stop_words = stopwords.words(\"portuguese\")\n",
        "stop_words += ['jan', 'fev', 'mar', 'abr', 'mai', 'jun', 'jul', 'ago',\n",
        "                  'set', 'out', 'nov', 'dez']\n",
        "stop_words += ['janeiro', 'fevereiro', 'março', 'abril', 'maio', 'junho', \n",
        "               'julho', 'agosto', 'setembro', 'outubro', 'novembro', 'dezembro']\n",
        "stopwords_dict = Counter(stop_words)\n",
        "\n",
        "def remove_useless_words(s):\n",
        "  \"\"\" Removes digits, punctuation, and stopwords. \"\"\"\n",
        "  no_punc = ''.join([c if c not in punctuation else ' ' for c in s])  \n",
        "  words = no_punc.split()\n",
        "  new_string = []\n",
        "  for word in words:\n",
        "    word_str = [c for c in word if c not in punctuation and not c.isdigit()]\n",
        "    if not word_str == [] and word not in stopwords_dict:\n",
        "      new_string.append(''.join(word_str))\n",
        "  \n",
        "  return ' '.join(new_string)\n",
        "print(remove_useless_words('Oh hi this is ma junho test3;maio ar4!13aloha7! jan o'))"
      ],
      "execution_count": 32,
      "outputs": [
        {
          "output_type": "stream",
          "text": [
            "[nltk_data] Downloading package stopwords to /root/nltk_data...\n",
            "[nltk_data]   Package stopwords is already up-to-date!\n",
            "Oh hi this is ma test ar aloha\n"
          ],
          "name": "stdout"
        }
      ]
    },
    {
      "cell_type": "code",
      "metadata": {
        "id": "20DaCdq1mL6B",
        "colab_type": "code",
        "colab": {}
      },
      "source": [
        "def build_description_feature(x):\n",
        "  \"\"\" Concatenates all words of a list of phrases x. \"\"\"\n",
        "  feature = []\n",
        "  feature = [remove_useless_words(str(phrase)) for phrase in x]\n",
        "  return \" \".join(feature).lower()\n",
        "\n",
        "model_df[\"description_features\"] = model_df[model_features[1:]].apply(build_description_feature, axis=1)"
      ],
      "execution_count": 0,
      "outputs": []
    },
    {
      "cell_type": "code",
      "metadata": {
        "id": "hXKBI_d1wvDI",
        "colab_type": "code",
        "colab": {
          "base_uri": "https://localhost:8080/",
          "height": 195
        },
        "outputId": "4a742889-d9a3-4ad6-87f3-335ea6500e5a"
      },
      "source": [
        "model_df = model_df[[\"ds_funcao_governo\", \"description_features\"]]\n",
        "model_df.head()"
      ],
      "execution_count": 34,
      "outputs": [
        {
          "output_type": "execute_result",
          "data": {
            "text/html": [
              "<div>\n",
              "<style scoped>\n",
              "    .dataframe tbody tr th:only-of-type {\n",
              "        vertical-align: middle;\n",
              "    }\n",
              "\n",
              "    .dataframe tbody tr th {\n",
              "        vertical-align: top;\n",
              "    }\n",
              "\n",
              "    .dataframe thead th {\n",
              "        text-align: right;\n",
              "    }\n",
              "</style>\n",
              "<table border=\"1\" class=\"dataframe\">\n",
              "  <thead>\n",
              "    <tr style=\"text-align: right;\">\n",
              "      <th></th>\n",
              "      <th>ds_funcao_governo</th>\n",
              "      <th>description_features</th>\n",
              "    </tr>\n",
              "  </thead>\n",
              "  <tbody>\n",
              "    <tr>\n",
              "      <th>308</th>\n",
              "      <td>__label__SAÚDE</td>\n",
              "      <td>aquisicao de gaze x c fios para manutencao de ...</td>\n",
              "    </tr>\n",
              "    <tr>\n",
              "      <th>530</th>\n",
              "      <td>__label__ADMINISTRAÇÃO</td>\n",
              "      <td>sobress maq e mot de nav e emb pagto ref compr...</td>\n",
              "    </tr>\n",
              "    <tr>\n",
              "      <th>591</th>\n",
              "      <td>__label__ADMINISTRAÇÃO</td>\n",
              "      <td>sobress maq e mot de nav e emb pagto ref compr...</td>\n",
              "    </tr>\n",
              "    <tr>\n",
              "      <th>839</th>\n",
              "      <td>__label__ADMINISTRAÇÃO</td>\n",
              "      <td>sobress maq e mot de nav e emb pagto ref compr...</td>\n",
              "    </tr>\n",
              "    <tr>\n",
              "      <th>919</th>\n",
              "      <td>__label__ADMINISTRAÇÃO</td>\n",
              "      <td>sobress maq e mot de nav e emb pagto ref compr...</td>\n",
              "    </tr>\n",
              "  </tbody>\n",
              "</table>\n",
              "</div>"
            ],
            "text/plain": [
              "          ds_funcao_governo                               description_features\n",
              "308          __label__SAÚDE  aquisicao de gaze x c fios para manutencao de ...\n",
              "530  __label__ADMINISTRAÇÃO  sobress maq e mot de nav e emb pagto ref compr...\n",
              "591  __label__ADMINISTRAÇÃO  sobress maq e mot de nav e emb pagto ref compr...\n",
              "839  __label__ADMINISTRAÇÃO  sobress maq e mot de nav e emb pagto ref compr...\n",
              "919  __label__ADMINISTRAÇÃO  sobress maq e mot de nav e emb pagto ref compr..."
            ]
          },
          "metadata": {
            "tags": []
          },
          "execution_count": 34
        }
      ]
    },
    {
      "cell_type": "markdown",
      "metadata": {
        "id": "UQ5q2nDR3VIT",
        "colab_type": "text"
      },
      "source": [
        "Dividimos os dados entre treino e teste."
      ]
    },
    {
      "cell_type": "code",
      "metadata": {
        "id": "CNbomGbB2x2U",
        "colab_type": "code",
        "colab": {}
      },
      "source": [
        "from sklearn.model_selection import train_test_split\n",
        "\n",
        "def write_data_to_file(X, y, file_name):\n",
        "  with open(file_name, \"w\") as f:\n",
        "    for x, label in zip(X, y):\n",
        "      f.write(label)\n",
        "      f.write(\" \")\n",
        "      f.write(x)\n",
        "      f.write(\"\\n\")\n",
        "\n",
        "\n",
        "X, y = model_df[\"description_features\"], model_df[\"ds_funcao_governo\"]\n",
        "X_train, X_test, y_train, y_test = train_test_split(X, y, test_size=.3, \n",
        "                                                    random_state=13)\n",
        "train_file = \"train.txt\"\n",
        "test_file = \"test.txt\"\n",
        "write_data_to_file(X_train, y_train, train_file)\n",
        "write_data_to_file(X_test, y_test, test_file)"
      ],
      "execution_count": 0,
      "outputs": []
    },
    {
      "cell_type": "markdown",
      "metadata": {
        "id": "TF-9kzyT6Edk",
        "colab_type": "text"
      },
      "source": [
        "#### Treina e testa o modelo\n",
        "\n"
      ]
    },
    {
      "cell_type": "code",
      "metadata": {
        "id": "rl9YlbG27ms7",
        "colab_type": "code",
        "colab": {
          "base_uri": "https://localhost:8080/",
          "height": 52
        },
        "outputId": "c3dd1702-6115-48be-e838-71a6ad0fc3a0"
      },
      "source": [
        "%%time\n",
        "model = fasttext.train_supervised('train.txt', \n",
        "                                  lr=1,\n",
        "                                  dim=50,\n",
        "                                  thread=20,\n",
        "                                  epoch=25,\n",
        "                                  minCount=10,\n",
        "                                  wordNgrams=2,\n",
        "                                  loss='hs')"
      ],
      "execution_count": 37,
      "outputs": [
        {
          "output_type": "stream",
          "text": [
            "CPU times: user 5min 2s, sys: 2.82 s, total: 5min 5s\n",
            "Wall time: 2min 37s\n"
          ],
          "name": "stdout"
        }
      ]
    },
    {
      "cell_type": "code",
      "metadata": {
        "id": "TUW99GZ99aWD",
        "colab_type": "code",
        "colab": {
          "base_uri": "https://localhost:8080/",
          "height": 34
        },
        "outputId": "05adf2b7-d945-415b-a11a-cef8315aac72"
      },
      "source": [
        "model.test('test.txt', k=1)"
      ],
      "execution_count": 38,
      "outputs": [
        {
          "output_type": "execute_result",
          "data": {
            "text/plain": [
              "(203962, 0.9537168688285073, 0.9537168688285073)"
            ]
          },
          "metadata": {
            "tags": []
          },
          "execution_count": 38
        }
      ]
    },
    {
      "cell_type": "markdown",
      "metadata": {
        "id": "kYNYw3wcsjZe",
        "colab_type": "text"
      },
      "source": [
        "Obtemos 95% de acerto no conjunto de teste. Vamos escrever algumas frases e ver como o nosso modelo as classifica."
      ]
    },
    {
      "cell_type": "code",
      "metadata": {
        "id": "BaB56mui-Ywp",
        "colab_type": "code",
        "colab": {
          "base_uri": "https://localhost:8080/",
          "height": 105
        },
        "outputId": "522942c2-5944-453e-fb0d-9ab71bcd411c"
      },
      "source": [
        "print(model.predict('FOLHA DE PAGAMENTO MANUTENÇÃO E DESENVOLVIMENTO DO ENSINO VALORIZAÇÃO DO MAGISTÉRIO REMUNERAÇÃO DE PROFESSORES COMPLEMENTAÇÃO SALARIAL PESSOAL CIVIL '.lower()))\n",
        "print(model.predict('material escolar'))\n",
        "print(model.predict('professor escola'))\n",
        "print(model.predict('escolar'))\n",
        "print(model.predict('campanha de vacinação'))\n"
      ],
      "execution_count": 39,
      "outputs": [
        {
          "output_type": "stream",
          "text": [
            "(('__label__EDUCAÇÃO',), array([0.95634192]))\n",
            "(('__label__EDUCAÇÃO',), array([1.00003004]))\n",
            "(('__label__EDUCAÇÃO',), array([1.00003004]))\n",
            "(('__label__EDUCAÇÃO',), array([1.00003004]))\n",
            "(('__label__SAÚDE',), array([0.77208775]))\n"
          ],
          "name": "stdout"
        }
      ]
    },
    {
      "cell_type": "code",
      "metadata": {
        "id": "znq5nqVcq2wr",
        "colab_type": "code",
        "colab": {
          "base_uri": "https://localhost:8080/",
          "height": 105
        },
        "outputId": "3e9a65cc-4b1b-4a2a-b1a3-18f32ff0f4bd"
      },
      "source": [
        "print(model.predict('tratamento água'))\n",
        "print(model.predict('folha de pagamento da universidade'))\n",
        "print(model.predict('pavimentação de estrada vicinal'))\n",
        "print(model.predict('poda e inspeção de árvores'))\n",
        "print(model.predict('sinalização trânsito'))"
      ],
      "execution_count": 40,
      "outputs": [
        {
          "output_type": "stream",
          "text": [
            "(('__label__SANEAMENTO',), array([0.99690723]))\n",
            "(('__label__EDUCAÇÃO',), array([0.67608738]))\n",
            "(('__label__TRANSPORTE',), array([0.8104232]))\n",
            "(('__label__LEGISLATIVA',), array([0.72690541]))\n",
            "(('__label__TRANSPORTE',), array([1.00004983]))\n"
          ],
          "name": "stdout"
        }
      ]
    },
    {
      "cell_type": "code",
      "metadata": {
        "id": "SgluBfIlAhVM",
        "colab_type": "code",
        "colab": {
          "base_uri": "https://localhost:8080/",
          "height": 105
        },
        "outputId": "f5b97860-658b-4064-b7d3-e2dfc2f17f27"
      },
      "source": [
        "print(model.predict(\"coleta de lixo e entulho\", k=2))\n",
        "print(model.predict(\"folha de pagamento da prefeitura\", k=2))\n",
        "print(model.predict(\"disperção veneno contra dengue\", k=2))\n",
        "print(model.predict(\"aluguel moradia\", k=2))\n",
        "print(model.predict(\"esgoto\", k=2))"
      ],
      "execution_count": 41,
      "outputs": [
        {
          "output_type": "stream",
          "text": [
            "(('__label__SANEAMENTO', '__label__SAÚDE'), array([0.95894033, 0.02989237]))\n",
            "(('__label__EDUCAÇÃO', '__label__PREVIDÊNCIA_SOCIAL'), array([0.60331059, 0.39624158]))\n",
            "(('__label__SAÚDE', '__label__EDUCAÇÃO'), array([1.00001943e+00, 1.03027969e-05]))\n",
            "(('__label__ADMINISTRAÇÃO', '__label__TRANSPORTE'), array([9.99686956e-01, 1.78844639e-04]))\n",
            "(('__label__SANEAMENTO', '__label__CULTURA'), array([1.00004780e+00, 1.21437488e-05]))\n"
          ],
          "name": "stdout"
        }
      ]
    },
    {
      "cell_type": "markdown",
      "metadata": {
        "id": "7MTfAWVzTOeU",
        "colab_type": "text"
      },
      "source": [
        "#### Train and tests with 3-gram"
      ]
    },
    {
      "cell_type": "code",
      "metadata": {
        "id": "ZhacJpL4C83s",
        "colab_type": "code",
        "colab": {
          "base_uri": "https://localhost:8080/",
          "height": 52
        },
        "outputId": "461a2d99-26e1-43f3-80f6-d559cbcae884"
      },
      "source": [
        "# Let's try 3-gram\n",
        "%%time\n",
        "model3gram = fasttext.train_supervised('train.txt', \n",
        "                                  lr=1,\n",
        "                                  dim=50,\n",
        "                                  thread=20,\n",
        "                                  epoch=25,\n",
        "                                  minCount=10,\n",
        "                                  wordNgrams=3,\n",
        "                                  loss='hs')"
      ],
      "execution_count": 42,
      "outputs": [
        {
          "output_type": "stream",
          "text": [
            "CPU times: user 7min, sys: 3.18 s, total: 7min 3s\n",
            "Wall time: 3min 36s\n"
          ],
          "name": "stdout"
        }
      ]
    },
    {
      "cell_type": "code",
      "metadata": {
        "id": "iB-3dsmHw4xZ",
        "colab_type": "code",
        "colab": {
          "base_uri": "https://localhost:8080/",
          "height": 34
        },
        "outputId": "9540db4a-72a8-47ae-b137-071f3b677e16"
      },
      "source": [
        "model3gram.test('test.txt', k=1)"
      ],
      "execution_count": 43,
      "outputs": [
        {
          "output_type": "execute_result",
          "data": {
            "text/plain": [
              "(203962, 0.9550553534481914, 0.9550553534481914)"
            ]
          },
          "metadata": {
            "tags": []
          },
          "execution_count": 43
        }
      ]
    },
    {
      "cell_type": "code",
      "metadata": {
        "id": "0Sqkq-ZdvspX",
        "colab_type": "code",
        "colab": {
          "base_uri": "https://localhost:8080/",
          "height": 193
        },
        "outputId": "7f9283c1-b23c-43ef-a9fa-de2bfaa2c7a8"
      },
      "source": [
        "print(model3gram.predict('tratamento água'))\n",
        "print(model3gram.predict('folha de pagamento da universidade'))\n",
        "print(model3gram.predict('pavimentação de estrada vicinal'))\n",
        "print(model3gram.predict('poda e inspeção de árvores'))\n",
        "print(model3gram.predict('sinalização trânsito'))\n",
        "print(model3gram.predict(\"coleta de lixo e entulho\", k=2))\n",
        "print(model3gram.predict(\"folha de pagamento da prefeitura\", k=2))\n",
        "print(model3gram.predict(\"disperção veneno contra dengue\", k=2))\n",
        "print(model3gram.predict(\"aluguel moradia\", k=2))\n",
        "print(model3gram.predict(\"limpeza de esgoto\", k=2))"
      ],
      "execution_count": 44,
      "outputs": [
        {
          "output_type": "stream",
          "text": [
            "(('__label__SANEAMENTO',), array([0.9517954]))\n",
            "(('__label__EDUCAÇÃO',), array([0.87835115]))\n",
            "(('__label__TRANSPORTE',), array([0.77634376]))\n",
            "(('__label__SANEAMENTO',), array([0.50910592]))\n",
            "(('__label__TRANSPORTE',), array([1.0000422]))\n",
            "(('__label__SANEAMENTO', '__label__SAÚDE'), array([0.86698788, 0.0749853 ]))\n",
            "(('__label__PREVIDÊNCIA_SOCIAL', '__label__EDUCAÇÃO'), array([0.97983712, 0.01943474]))\n",
            "(('__label__SAÚDE', '__label__EDUCAÇÃO'), array([9.99577999e-01, 4.32337285e-04]))\n",
            "(('__label__ADMINISTRAÇÃO', '__label__HABITAÇÃO'), array([1.00000656e+00, 1.83813881e-05]))\n",
            "(('__label__SANEAMENTO', '__label__COMÉRCIO_E_SERVIÇOS'), array([0.80116117, 0.19734992]))\n"
          ],
          "name": "stdout"
        }
      ]
    },
    {
      "cell_type": "code",
      "metadata": {
        "id": "btelg9bwvzrX",
        "colab_type": "code",
        "colab": {}
      },
      "source": [
        " "
      ],
      "execution_count": 0,
      "outputs": []
    },
    {
      "cell_type": "code",
      "metadata": {
        "id": "woqWT1vbxKr-",
        "colab_type": "code",
        "colab": {
          "base_uri": "https://localhost:8080/",
          "height": 193
        },
        "outputId": "82118a27-2e6a-4618-93ad-32f54de8c119"
      },
      "source": [
        "print(model3gram.predict('tratamento água'))\n",
        "print(model3gram.predict('folha de pagamento da universidade'))\n",
        "print(model3gram.predict('pavimentação de estrada vicinal'))\n",
        "print(model3gram.predict('poda e inspeção de árvores'))\n",
        "print(model3gram.predict('sinalização trânsito'))\n",
        "print(model3gram.predict(\"coleta de lixo e entulho\", k=2))\n",
        "print(model3gram.predict(\"folha de pagamento da prefeitura\", k=2))\n",
        "print(model3gram.predict(\"disperção veneno contra dengue\", k=2))\n",
        "print(model3gram.predict(\"aluguel moradia\", k=2))\n",
        "print(model3gram.predict(\"limpeza de esgoto\", k=2))"
      ],
      "execution_count": 45,
      "outputs": [
        {
          "output_type": "stream",
          "text": [
            "(('__label__SANEAMENTO',), array([0.9517954]))\n",
            "(('__label__EDUCAÇÃO',), array([0.87835115]))\n",
            "(('__label__TRANSPORTE',), array([0.77634376]))\n",
            "(('__label__SANEAMENTO',), array([0.50910592]))\n",
            "(('__label__TRANSPORTE',), array([1.0000422]))\n",
            "(('__label__SANEAMENTO', '__label__SAÚDE'), array([0.86698788, 0.0749853 ]))\n",
            "(('__label__PREVIDÊNCIA_SOCIAL', '__label__EDUCAÇÃO'), array([0.97983712, 0.01943474]))\n",
            "(('__label__SAÚDE', '__label__EDUCAÇÃO'), array([9.99577999e-01, 4.32337285e-04]))\n",
            "(('__label__ADMINISTRAÇÃO', '__label__HABITAÇÃO'), array([1.00000656e+00, 1.83813881e-05]))\n",
            "(('__label__SANEAMENTO', '__label__COMÉRCIO_E_SERVIÇOS'), array([0.80116117, 0.19734992]))\n"
          ],
          "name": "stdout"
        }
      ]
    },
    {
      "cell_type": "code",
      "metadata": {
        "id": "WExF0wZSxLbp",
        "colab_type": "code",
        "colab": {
          "base_uri": "https://localhost:8080/",
          "height": 34
        },
        "outputId": "43db73b0-993d-416f-c440-d2625154b7d2"
      },
      "source": [
        "model3gram.test('test.txt', k=1)"
      ],
      "execution_count": 46,
      "outputs": [
        {
          "output_type": "execute_result",
          "data": {
            "text/plain": [
              "(203962, 0.9550553534481914, 0.9550553534481914)"
            ]
          },
          "metadata": {
            "tags": []
          },
          "execution_count": 46
        }
      ]
    },
    {
      "cell_type": "markdown",
      "metadata": {
        "id": "QBbAmYxVTro2",
        "colab_type": "text"
      },
      "source": [
        "#### Train and test with pre-trained vectors"
      ]
    },
    {
      "cell_type": "code",
      "metadata": {
        "id": "CFyf0-D-x0P3",
        "colab_type": "code",
        "colab": {
          "base_uri": "https://localhost:8080/",
          "height": 52
        },
        "outputId": "b06e570d-498a-499a-b690-71781ada5146"
      },
      "source": [
        "%%time\n",
        "model_pretrained = fasttext.train_supervised('train.txt', \n",
        "                                  lr=1,\n",
        "                                  dim=300,\n",
        "                                  thread=20,\n",
        "                                  epoch=25,\n",
        "                                  minCount=10,\n",
        "                                  wordNgrams=2,\n",
        "                                  loss='hs',\n",
        "                              pretrained_vectors=\"drive/My Drive/cc.pt.300.vec\")"
      ],
      "execution_count": 47,
      "outputs": [
        {
          "output_type": "stream",
          "text": [
            "CPU times: user 22min 33s, sys: 14 s, total: 22min 47s\n",
            "Wall time: 13min 55s\n"
          ],
          "name": "stdout"
        }
      ]
    },
    {
      "cell_type": "code",
      "metadata": {
        "id": "g87-AgnVzmg1",
        "colab_type": "code",
        "colab": {
          "base_uri": "https://localhost:8080/",
          "height": 193
        },
        "outputId": "26d8520d-53f5-4f1d-e565-5236557379a3"
      },
      "source": [
        "print(model_pretrained.predict('tratamento água'))\n",
        "print(model_pretrained.predict('folha de pagamento da universidade'))\n",
        "print(model_pretrained.predict('pavimentação de estrada vicinal'))\n",
        "print(model_pretrained.predict('poda e inspeção de árvores'))\n",
        "print(model_pretrained.predict('sinalização trânsito'))\n",
        "print(model_pretrained.predict(\"coleta de lixo e entulho\", k=2))\n",
        "print(model_pretrained.predict(\"folha de pagamento da prefeitura\", k=2))\n",
        "print(model_pretrained.predict(\"disperção veneno contra dengue\", k=2))\n",
        "print(model_pretrained.predict(\"aluguel moradia\", k=2))\n",
        "print(model_pretrained.predict(\"limpeza de esgoto\", k=2))"
      ],
      "execution_count": 48,
      "outputs": [
        {
          "output_type": "stream",
          "text": [
            "(('__label__SANEAMENTO',), array([0.99808931]))\n",
            "(('__label__EDUCAÇÃO',), array([0.67946595]))\n",
            "(('__label__TRANSPORTE',), array([0.79198205]))\n",
            "(('__label__LEGISLATIVA',), array([0.68794227]))\n",
            "(('__label__TRANSPORTE',), array([1.00004995]))\n",
            "(('__label__SANEAMENTO', '__label__SAÚDE'), array([0.94022435, 0.03035068]))\n",
            "(('__label__EDUCAÇÃO', '__label__PREVIDÊNCIA_SOCIAL'), array([0.73301256, 0.26667902]))\n",
            "(('__label__SAÚDE', '__label__LEGISLATIVA'), array([1.00001919e+00, 1.02842141e-05]))\n",
            "(('__label__ADMINISTRAÇÃO', '__label__TRANSPORTE'), array([9.99944508e-01, 9.05048364e-05]))\n",
            "(('__label__SANEAMENTO', '__label__COMÉRCIO_E_SERVIÇOS'), array([0.99269927, 0.00466068]))\n"
          ],
          "name": "stdout"
        }
      ]
    },
    {
      "cell_type": "code",
      "metadata": {
        "id": "Q1lKIfVnznzj",
        "colab_type": "code",
        "colab": {
          "base_uri": "https://localhost:8080/",
          "height": 34
        },
        "outputId": "ac04620c-cb9b-41a2-ba8f-72b76e953779"
      },
      "source": [
        "model_pretrained.test('test.txt', k=1)"
      ],
      "execution_count": 49,
      "outputs": [
        {
          "output_type": "execute_result",
          "data": {
            "text/plain": [
              "(203962, 0.9539963326501996, 0.9539963326501996)"
            ]
          },
          "metadata": {
            "tags": []
          },
          "execution_count": 49
        }
      ]
    },
    {
      "cell_type": "code",
      "metadata": {
        "id": "nhVs7BJuT4Ar",
        "colab_type": "code",
        "colab": {}
      },
      "source": [
        ""
      ],
      "execution_count": 0,
      "outputs": []
    }
  ]
}